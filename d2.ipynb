{
 "cells": [
  {
   "cell_type": "code",
   "execution_count": 1,
   "id": "0df3cad0",
   "metadata": {},
   "outputs": [],
   "source": [
    "#python has no char data type"
   ]
  },
  {
   "cell_type": "code",
   "execution_count": 2,
   "id": "fc1f538f",
   "metadata": {},
   "outputs": [
    {
     "data": {
      "text/plain": [
       "0"
      ]
     },
     "execution_count": 2,
     "metadata": {},
     "output_type": "execute_result"
    }
   ],
   "source": [
    "int(0)"
   ]
  },
  {
   "cell_type": "code",
   "execution_count": 4,
   "id": "07243893",
   "metadata": {},
   "outputs": [
    {
     "name": "stdout",
     "output_type": "stream",
     "text": [
      "read\n",
      "rohoh"
     ]
    }
   ],
   "source": [
    "print('read',end='\\nrohoh')"
   ]
  },
  {
   "cell_type": "code",
   "execution_count": 5,
   "id": "35f7a1f9",
   "metadata": {},
   "outputs": [],
   "source": [
    "age=22"
   ]
  },
  {
   "cell_type": "code",
   "execution_count": 6,
   "id": "234de423",
   "metadata": {},
   "outputs": [
    {
     "name": "stdout",
     "output_type": "stream",
     "text": [
      "my age is : 22\n"
     ]
    }
   ],
   "source": [
    "print(\"my age is :\",age)"
   ]
  },
  {
   "cell_type": "code",
   "execution_count": 7,
   "id": "0e29f140",
   "metadata": {},
   "outputs": [
    {
     "name": "stdout",
     "output_type": "stream",
     "text": [
      "my age is :{age}\n"
     ]
    }
   ],
   "source": [
    "print(\"my age is :{age}\")"
   ]
  },
  {
   "cell_type": "code",
   "execution_count": 8,
   "id": "77ec26da",
   "metadata": {},
   "outputs": [
    {
     "name": "stdout",
     "output_type": "stream",
     "text": [
      "my age is: 22\n"
     ]
    }
   ],
   "source": [
    "print(f\"my age is: {age}\")\n",
    "#f is for formatting and (f\"my age is: {age}\") is called f string"
   ]
  },
  {
   "cell_type": "code",
   "execution_count": 3,
   "id": "df0eba8c",
   "metadata": {},
   "outputs": [
    {
     "name": "stdout",
     "output_type": "stream",
     "text": [
      "Favela and Conde are more active players while Ercel and Bhadoria are more successful. But Tandon is the best of all \n"
     ]
    }
   ],
   "source": [
    "name1=\"Tandon\"\n",
    "name2=\"Favela\"\n",
    "name3=\"Ercel\"\n",
    "name4=\"Bhadoria\"\n",
    "name5=\"Conde\"\n",
    "print(\"{} and {} are more active players while {} and {} are more successful. But {} is the best of all \".format(name2,name5,name3,name4,name1))"
   ]
  },
  {
   "cell_type": "code",
   "execution_count": 5,
   "id": "39fd52b0",
   "metadata": {},
   "outputs": [
    {
     "name": "stdout",
     "output_type": "stream",
     "text": [
      "Lopez also is the most asseted player and Jaberi is the most fit one\n"
     ]
    }
   ],
   "source": [
    "name6=\"Lopez\"\n",
    "name7=\"Jaberi\"\n",
    "print(\"{firstname} also is the most asseted player and {secondname} is the most fit one\".format(secondname=name7,firstname=name6))"
   ]
  },
  {
   "cell_type": "code",
   "execution_count": 8,
   "id": "36645b39",
   "metadata": {},
   "outputs": [
    {
     "name": "stdout",
     "output_type": "stream",
     "text": [
      "Lopez helps two aspiring asseted players:\n",
      "No.1 - Assadi\n",
      "No.2 - Russel\n"
     ]
    }
   ],
   "source": [
    "name8=\"Assadi\"\n",
    "name9=\"Russel\"\n",
    "print(\"Lopez helps two aspiring asseted players:\\n{imp1}\\n{imp2}\".format(imp1=\"No.1 - \"+name8,imp2=\"No.2 - \"+name9))"
   ]
  },
  {
   "cell_type": "markdown",
   "id": "6e9e4072",
   "metadata": {},
   "source": [
    "# Control Flow\n",
    "## Decision Making statements"
   ]
  },
  {
   "cell_type": "code",
   "execution_count": 9,
   "id": "ed0349be",
   "metadata": {},
   "outputs": [
    {
     "name": "stdout",
     "output_type": "stream",
     "text": [
      "Eligible to vote\n"
     ]
    }
   ],
   "source": [
    "## if statement\n",
    "age=18\n",
    "if age>=18 :\n",
    "    print(\"Eligible to vote\")"
   ]
  },
  {
   "cell_type": "code",
   "execution_count": 10,
   "id": "3eadde2c",
   "metadata": {},
   "outputs": [],
   "source": [
    "if age<18:\n",
    "    print(\"not eligible to vote\")\n",
    "## as condition will not be satisfied, so nothing will be printed"
   ]
  },
  {
   "cell_type": "code",
   "execution_count": 1,
   "id": "ab86cc47",
   "metadata": {},
   "outputs": [
    {
     "name": "stdout",
     "output_type": "stream",
     "text": [
      "Enter name : Shubh\n"
     ]
    },
    {
     "data": {
      "text/plain": [
       "'Shubh'"
      ]
     },
     "execution_count": 1,
     "metadata": {},
     "output_type": "execute_result"
    }
   ],
   "source": [
    "input(\"Enter name : \")\n",
    "## default data type of input() function is string "
   ]
  },
  {
   "cell_type": "code",
   "execution_count": 3,
   "id": "3e8b9127",
   "metadata": {},
   "outputs": [
    {
     "name": "stdout",
     "output_type": "stream",
     "text": [
      "Enter name: Shubho\n"
     ]
    }
   ],
   "source": [
    "name=input(\"Enter name: \")"
   ]
  },
  {
   "cell_type": "code",
   "execution_count": 4,
   "id": "8c7a1553",
   "metadata": {},
   "outputs": [
    {
     "data": {
      "text/plain": [
       "'Shubho'"
      ]
     },
     "execution_count": 4,
     "metadata": {},
     "output_type": "execute_result"
    }
   ],
   "source": [
    "name"
   ]
  },
  {
   "cell_type": "code",
   "execution_count": 6,
   "id": "c82a8af5",
   "metadata": {},
   "outputs": [
    {
     "name": "stdout",
     "output_type": "stream",
     "text": [
      "age: 23\n"
     ]
    }
   ],
   "source": [
    "# typecasting to change datatype\n",
    "age=int(input(\"age: \"))"
   ]
  },
  {
   "cell_type": "code",
   "execution_count": 8,
   "id": "f7f45fd9",
   "metadata": {},
   "outputs": [
    {
     "data": {
      "text/plain": [
       "int"
      ]
     },
     "execution_count": 8,
     "metadata": {},
     "output_type": "execute_result"
    }
   ],
   "source": [
    "type(age)"
   ]
  },
  {
   "cell_type": "code",
   "execution_count": 13,
   "id": "f9085ed9",
   "metadata": {},
   "outputs": [
    {
     "name": "stdout",
     "output_type": "stream",
     "text": [
      "age = 78\n",
      "Wise blood\n"
     ]
    }
   ],
   "source": [
    "my_age=int(input(\"age = \"))\n",
    "if my_age >= 18 and my_age <= 35 :\n",
    "    print(\"Young blood\")\n",
    "elif my_age < 18 :\n",
    "    print(\"Naive blood\")\n",
    "elif my_age > 35 and my_age <= 60 :\n",
    "    print(\"Experience blood\")\n",
    "else :\n",
    "    print(\"Wise blood\")"
   ]
  },
  {
   "cell_type": "code",
   "execution_count": 14,
   "id": "37146c69",
   "metadata": {},
   "outputs": [
    {
     "name": "stdout",
     "output_type": "stream",
     "text": [
      "age = 22\n",
      "Young blood\n"
     ]
    }
   ],
   "source": [
    "# can also be written as\n",
    "my_age=int(input(\"age = \"))\n",
    "if 18<=my_age<=35 :\n",
    "    print(\"Young blood\")\n",
    "elif my_age<18 :\n",
    "    print(\"Naive blood\")\n",
    "elif 35<my_age<=60 :\n",
    "    print(\"Experience blood\")\n",
    "else :\n",
    "    print(\"Wise blood\")"
   ]
  },
  {
   "cell_type": "code",
   "execution_count": 16,
   "id": "6a9f4c1d",
   "metadata": {},
   "outputs": [
    {
     "name": "stdout",
     "output_type": "stream",
     "text": [
      "product price : 920\n",
      "After 30% discount you get in :{} 644.0\n"
     ]
    }
   ],
   "source": [
    "price=int(input(\"product price : \"))\n",
    "if(price>1000) :\n",
    "    print(\"After 20% discount you get in :{} \", 0.8*price)\n",
    "else:\n",
    "    print(\"After 30% discount you get in :{}\", 0.7*price)"
   ]
  },
  {
   "cell_type": "code",
   "execution_count": 17,
   "id": "a68bd3c6",
   "metadata": {},
   "outputs": [
    {
     "name": "stdout",
     "output_type": "stream",
     "text": [
      "Enter the price6786\n",
      "The price of the product is 5428.8\n"
     ]
    }
   ],
   "source": [
    "product_price=int(input(\"Enter the price\"))\n",
    "if product_price>3000:\n",
    "    if product_price==4000:\n",
    "        print(\"Congratulations you get a Goa Trip\")\n",
    "    print(f\"The price of the product is {product_price*0.8}\")\n",
    "elif product_price>=2000 and product_price<=3000:\n",
    "    if product_price==2999:\n",
    "        print(\"Congratulations you get an additional gift\")\n",
    "    print(f\"The price of the product is {product_price*0.7}\")\n",
    "elif product_price>=100 and product_price<2000:\n",
    "    print(f\"The price of the product is {product_price*0.6}\")\n",
    "else:\n",
    "    print(\"Lets drink tea\")\n",
    "    print(\"I will also be there\")"
   ]
  },
  {
   "cell_type": "code",
   "execution_count": 5,
   "id": "244ceba0",
   "metadata": {},
   "outputs": [
    {
     "name": "stdout",
     "output_type": "stream",
     "text": [
      "Enter a number: 4566\n",
      "Good bye!\n"
     ]
    }
   ],
   "source": [
    "''' Single statement suite - If the suite of if section have only a single line, then the header statement may go at same line.\n",
    "Its a simple example to check whether a value is less than equal to 999'''\n",
    "\n",
    "val = int(input(\"Enter a number: \"))\n",
    "if (val <= 999 ): print (\"Value is less than equal to 999\")\n",
    "print (\"Good bye!\")"
   ]
  },
  {
   "cell_type": "markdown",
   "id": "85b2b8ed",
   "metadata": {},
   "source": [
    "## While loops"
   ]
  },
  {
   "cell_type": "code",
   "execution_count": 11,
   "id": "7b6c4bd0",
   "metadata": {},
   "outputs": [
    {
     "name": "stdout",
     "output_type": "stream",
     "text": [
      "22 :have oh yeah and oh my god sex\n",
      "23 :have oh yeah and oh my god sex\n",
      "24 :have oh yeah and oh my god sex\n",
      "25 :have oh yeah and oh my god sex\n",
      "26 :have oh yeah and oh my god sex\n",
      "27 :have oh yeah and oh my god sex\n",
      "28 :have oh yeah and oh my god sex\n",
      "29 :have oh yeah and oh my god sex\n",
      "30 :have oh yeah and oh my god sex\n",
      "31 :have oh yeah and oh my god sex\n",
      "32 :have oh yeah and oh my god sex\n",
      "33 :have oh yeah and oh my god sex\n",
      "34 :have oh yeah and oh my god sex\n",
      "35 :have oh yeah and oh my god sex\n",
      "36 :have oh yeah and oh my god sex\n",
      "37 :have oh yeah and oh my god sex\n",
      "38 :have oh yeah and oh my god sex\n",
      "39 :have oh yeah and oh my god sex\n",
      "40 :have oh yeah and oh my god sex\n",
      "41 :have oh yeah and oh my god sex\n",
      "42 :have oh yeah and oh my god sex\n",
      "43 :have oh yeah and oh my god sex\n",
      "44 :have oh yeah and oh my god sex\n",
      "45 :have oh yeah and oh my god sex\n",
      "46 :have oh yeah and oh my god sex\n",
      "47 :have oh yeah and oh my god sex\n",
      "48 :have oh yeah and oh my god sex\n",
      "49 :have oh yeah and oh my god sex\n",
      "50 :have oh yeah and oh my god sex\n",
      "51 :have oh yeah and oh my god sex\n",
      "52 :have oh yeah and oh my god sex\n",
      "53 :have oh yeah and oh my god sex\n",
      "54 :have oh yeah and oh my god sex\n",
      "55 :have oh yeah and oh my god sex\n",
      "56 :have oh yeah and oh my god sex\n",
      "57 :have oh yeah and oh my god sex\n",
      "58 :have oh yeah and oh my god sex\n",
      "59 :have oh yeah and oh my god sex\n",
      "60 :have oh yeah and oh my god sex\n",
      "61 :have oh yeah and oh my god sex\n",
      "62 :have oh yeah and oh my god sex\n",
      "63 :have oh yeah and oh my god sex\n",
      "64 :have oh yeah and oh my god sex\n",
      "65 :have oh yeah and oh my god sex\n",
      "have What the fuck sex\n"
     ]
    }
   ],
   "source": [
    "age = 22\n",
    "while(age!=66):\n",
    "    print(f\"{age} :have oh yeah and oh my god sex\")\n",
    "    age+=1\n",
    "else:\n",
    "    print(\"have What the fuck sex\")"
   ]
  },
  {
   "cell_type": "code",
   "execution_count": 1,
   "id": "5e78f501",
   "metadata": {},
   "outputs": [
    {
     "ename": "ZeroDivisionError",
     "evalue": "division by zero",
     "output_type": "error",
     "traceback": [
      "\u001b[1;31m---------------------------------------------------------------------------\u001b[0m",
      "\u001b[1;31mZeroDivisionError\u001b[0m                         Traceback (most recent call last)",
      "Input \u001b[1;32mIn [1]\u001b[0m, in \u001b[0;36m<cell line: 1>\u001b[1;34m()\u001b[0m\n\u001b[1;32m----> 1\u001b[0m \u001b[38;5;241;43m1\u001b[39;49m\u001b[38;5;241;43m/\u001b[39;49m\u001b[38;5;28;43;01mFalse\u001b[39;49;00m\n",
      "\u001b[1;31mZeroDivisionError\u001b[0m: division by zero"
     ]
    }
   ],
   "source": [
    "1/False"
   ]
  },
  {
   "cell_type": "code",
   "execution_count": 12,
   "id": "ccf25dcd",
   "metadata": {},
   "outputs": [
    {
     "ename": "SyntaxError",
     "evalue": "cannot assign to operator (1447789489.py, line 1)",
     "output_type": "error",
     "traceback": [
      "\u001b[1;36m  Input \u001b[1;32mIn [12]\u001b[1;36m\u001b[0m\n\u001b[1;33m    my-name=20\u001b[0m\n\u001b[1;37m    ^\u001b[0m\n\u001b[1;31mSyntaxError\u001b[0m\u001b[1;31m:\u001b[0m cannot assign to operator\n"
     ]
    }
   ],
   "source": [
    "my-name=20\n",
    "print(my-name)"
   ]
  },
  {
   "cell_type": "code",
   "execution_count": 2,
   "id": "268bdb1a",
   "metadata": {},
   "outputs": [
    {
     "name": "stdout",
     "output_type": "stream",
     "text": [
      "3.0\n"
     ]
    },
    {
     "data": {
      "text/plain": [
       "(-1+3j)"
      ]
     },
     "execution_count": 2,
     "metadata": {},
     "output_type": "execute_result"
    }
   ],
   "source": [
    "num1= 23\n",
    "\n",
    "num2= 44\n",
    "\n",
    "num2= 2+3j\n",
    "\n",
    "num1= num2.imag\n",
    "print(num1)\n",
    "\n",
    "num2-num1"
   ]
  },
  {
   "cell_type": "code",
   "execution_count": 5,
   "id": "3a15d883",
   "metadata": {},
   "outputs": [
    {
     "data": {
      "text/plain": [
       "True"
      ]
     },
     "execution_count": 5,
     "metadata": {},
     "output_type": "execute_result"
    }
   ],
   "source": [
    "'pwskills'.upper().lower().isalnum()"
   ]
  },
  {
   "cell_type": "code",
   "execution_count": 11,
   "id": "98294f1c",
   "metadata": {},
   "outputs": [
    {
     "name": "stdout",
     "output_type": "stream",
     "text": [
      "Lorem ipsum dolor sit amet,\n",
      "consectetur adipiscing elit,\n",
      "sed do eiusmod tempor incididunt\n",
      "ut labore et dolore magna aliqua.\n"
     ]
    }
   ],
   "source": [
    "a = \"\"\"Lorem ipsum dolor sit amet,\n",
    "consectetur adipiscing elit,\n",
    "sed do eiusmod tempor incididunt\n",
    "ut labore et dolore magna aliqua.\"\"\"\n",
    "print(a)"
   ]
  },
  {
   "cell_type": "code",
   "execution_count": 13,
   "id": "f13f89d9",
   "metadata": {},
   "outputs": [
    {
     "ename": "TypeError",
     "evalue": "'str' object does not support item assignment",
     "output_type": "error",
     "traceback": [
      "\u001b[1;31m---------------------------------------------------------------------------\u001b[0m",
      "\u001b[1;31mTypeError\u001b[0m                                 Traceback (most recent call last)",
      "Input \u001b[1;32mIn [13]\u001b[0m, in \u001b[0;36m<cell line: 3>\u001b[1;34m()\u001b[0m\n\u001b[0;32m      1\u001b[0m Name \u001b[38;5;241m=\u001b[39m \u001b[38;5;124m'\u001b[39m\u001b[38;5;124mpwskills\u001b[39m\u001b[38;5;124m'\u001b[39m\n\u001b[1;32m----> 3\u001b[0m Name[\u001b[38;5;241m0\u001b[39m] \u001b[38;5;241m=\u001b[39m \u001b[38;5;124m'\u001b[39m\u001b[38;5;124mP\u001b[39m\u001b[38;5;124m'\u001b[39m\n",
      "\u001b[1;31mTypeError\u001b[0m: 'str' object does not support item assignment"
     ]
    }
   ],
   "source": [
    "Name = 'pwskills'\n",
    "\n",
    "Name[0] = 'P'"
   ]
  },
  {
   "cell_type": "markdown",
   "id": "30727620",
   "metadata": {},
   "source": [
    "# For Loops"
   ]
  },
  {
   "cell_type": "code",
   "execution_count": 10,
   "id": "50c4a65f",
   "metadata": {},
   "outputs": [
    {
     "name": "stdout",
     "output_type": "stream",
     "text": [
      "Yeah Tandon\n",
      "Yeah Ercel\n",
      "Yeah Bhadoria\n",
      "Yeah Favela\n",
      "Yeah White\n",
      "Yeah Megan\n",
      "Yeah Dutta\n",
      "Yeah Lopez\n",
      "Yeah Marie\n",
      "Yeah Macool\n",
      "Yeah Conde\n",
      "Yeah Elizabeth\n",
      "Yeah Dominguez\n",
      "Yeah Khanna\n",
      "Yeah Simpsonn\n",
      "Yeah Yancheva\n",
      "Yeah Pandit\n",
      "Yeah Nunez\n",
      "Yeah Adhikary\n",
      "Yeah Cherem\n",
      "Yeah Khera\n",
      "Yeah Pendse\n",
      "Yeah Aasadi\n",
      "Yeah Russel\n",
      "Yeah Jaberi\n",
      "Yeah Bhowmick\n",
      "Yeah Sagar\n",
      "Yeah Singh\n",
      "Yeah Arya\n",
      "Yeah Daniels\n",
      "Yeah Dilaik\n",
      "Yeah Hayat\n",
      "Yeah Fernandez\n",
      "Yeah Kalita\n",
      "Yeah Kapoor\n",
      "Yeah Mukherjee\n",
      "Yeah Fakhri\n",
      "Yeah Rekhate\n",
      "Yeah Navarro\n",
      "Yeah Sharma\n",
      "Yeah Bole\n",
      "Yeah Maity\n",
      "Yeah Budhatoki\n",
      "Yeah Khosla\n",
      "Yeah Jolie\n",
      "Yeah Dhanwani\n",
      "Yeah Vohra(l)\n",
      "Yeah Khan\n",
      "Yeah De Cruz\n",
      "Yeah Dhar\n",
      "Yeah Belucci\n",
      "Yeah Rai\n",
      "Yeah Renteria\n",
      "Yeah Banerjee\n"
     ]
    }
   ],
   "source": [
    "sc_name=[\"Tandon\",\"Ercel\",\"Bhadoria\",\"Favela\",\"White\",\"Megan\",\"Dutta\",\"Lopez\",\"Marie\",\"Macool\",\"Conde\",\"Elizabeth\",\"Dominguez\",\"Khanna\",\"Simpsonn\",\"Yancheva\",\"Pandit\",\"Nunez\",\"Adhikary\",\"Cherem\",\"Khera\",\"Pendse\",\"Aasadi\",\"Russel\",\"Jaberi\",\"Bhowmick\",\"Sagar\",\"Singh\",\"Arya\",\"Daniels\",\"Dilaik\",\"Hayat\",\"Fernandez\",\"Kalita\",\"Kapoor\",\"Mukherjee\",\"Fakhri\",\"Rekhate\",\"Navarro\",\"Sharma\",\"Bole\",\"Maity\",\"Budhatoki\",\"Khosla\",\"Jolie\",\"Dhanwani\",\"Vohra(l)\",\"Khan\",\"De Cruz\",\"Dhar\",\"Belucci\",\"Rai\",\"Renteria\",\"Banerjee\"]\n",
    "for x in sc_name:\n",
    "    print(\"Yeah\",x)"
   ]
  },
  {
   "cell_type": "code",
   "execution_count": 15,
   "id": "446ca27b",
   "metadata": {},
   "outputs": [
    {
     "name": "stdout",
     "output_type": "stream",
     "text": [
      "Yeah Tandon\n",
      "Yeah Ercel\n",
      "Yeah Bhadoria\n",
      "Yeah Favela\n",
      "Yeah White\n",
      "Yeah Megan\n",
      "Yeah Dutta\n",
      "Yeah Lopez\n",
      "Yeah Marie\n",
      "Yeah Macool\n",
      "1 big\n",
      "Yeah Conde\n",
      "Yeah Elizabeth\n",
      "Yeah Dominguez\n",
      "Yeah Khanna\n",
      "Yeah Simpsonn\n",
      "Yeah Yancheva\n",
      "Yeah Pandit\n",
      "Yeah Nunez\n",
      "Yeah Adhikary\n",
      "Yeah Cherem\n",
      "Yeah Khera\n",
      "Yeah Pendse\n",
      "Yeah Aasadi\n",
      "2 big\n",
      "Yeah Russel\n",
      "Yeah Jaberi\n",
      "Yeah Bhowmick\n",
      "Yeah Sagar\n",
      "Yeah Singh\n",
      "Yeah Arya\n",
      "Yeah Daniels\n",
      "Yeah Dilaik\n",
      "Yeah Hayat\n",
      "Yeah Fernandez\n",
      "Yeah Kalita\n",
      "Yeah Kapoor\n",
      "Yeah Mukherjee\n",
      "Yeah Fakhri\n",
      "Yeah Rekhate\n",
      "Yeah Navarro\n",
      "Yeah Sharma\n",
      "Yeah Bole\n",
      "Yeah Maity\n",
      "Yeah Budhatoki\n",
      "Yeah Khosla\n",
      "Yeah Jolie\n",
      "Yeah Dhanwani\n",
      "Yeah Vohra(l)\n",
      "Yeah Khan\n",
      "Yeah De Cruz\n",
      "Yeah Dhar\n",
      "Yeah Belucci\n",
      "Yeah Rai\n",
      "Yeah Renteria\n",
      "Yeah Banerjee\n"
     ]
    }
   ],
   "source": [
    "sp_name=[\"Tandon\",\"Ercel\",\"Bhadoria\",\"Favela\",\"White\",\"Megan\",\"Dutta\",\"Lopez\",\"Marie\",\"Macool\",\"Conde\",\"Elizabeth\",\"Dominguez\",\"Khanna\",\"Simpsonn\",\"Yancheva\",\"Pandit\",\"Nunez\",\"Adhikary\",\"Cherem\",\"Khera\",\"Pendse\",\"Aasadi\",\"Russel\",\"Jaberi\",\"Bhowmick\",\"Sagar\",\"Singh\",\"Arya\",\"Daniels\",\"Dilaik\",\"Hayat\",\"Fernandez\",\"Kalita\",\"Kapoor\",\"Mukherjee\",\"Fakhri\",\"Rekhate\",\"Navarro\",\"Sharma\",\"Bole\",\"Maity\",\"Budhatoki\",\"Khosla\",\"Jolie\",\"Dhanwani\",\"Vohra(l)\",\"Khan\",\"De Cruz\",\"Dhar\",\"Belucci\",\"Rai\",\"Renteria\",\"Banerjee\"]\n",
    "for x in sp_name:\n",
    "    print(\"Yeah\",x)\n",
    "    if(x==\"Macool\"):\n",
    "        print(\"1 big\")\n",
    "    if(x==\"Aasadi\"):\n",
    "        print(\"2 big\")"
   ]
  },
  {
   "cell_type": "code",
   "execution_count": 14,
   "id": "d6f0bc48",
   "metadata": {},
   "outputs": [
    {
     "name": "stdout",
     "output_type": "stream",
     "text": [
      "S\n",
      "a\n",
      "r\n",
      "k\n",
      "a\n",
      "r\n"
     ]
    }
   ],
   "source": [
    "l_name=\"Sarkar\"\n",
    "for x in l_name:\n",
    "    print(x)"
   ]
  },
  {
   "cell_type": "code",
   "execution_count": 17,
   "id": "a68ab0ca",
   "metadata": {},
   "outputs": [
    {
     "data": {
      "text/plain": [
       "'Tandon'"
      ]
     },
     "execution_count": 17,
     "metadata": {},
     "output_type": "execute_result"
    }
   ],
   "source": [
    "sp_name[0]"
   ]
  },
  {
   "cell_type": "code",
   "execution_count": 18,
   "id": "40ff4a7d",
   "metadata": {},
   "outputs": [
    {
     "name": "stdout",
     "output_type": "stream",
     "text": [
      "Tandon Ercel Bhadoria Favela White Megan Dutta Lopez Marie Macool Conde Elizabeth Dominguez Khanna Simpsonn Yancheva Pandit Nunez Adhikary Cherem Khera Pendse Aasadi Russel Jaberi Bhowmick Sagar Singh Arya Daniels Dilaik Hayat Fernandez Kalita Kapoor Mukherjee Fakhri Rekhate Navarro Sharma Bole Maity Budhatoki Khosla Jolie Dhanwani Vohra(l) Khan De Cruz Dhar Belucci Rai Renteria Banerjee "
     ]
    }
   ],
   "source": [
    "for a in sp_name:print(a, end=' ')"
   ]
  },
  {
   "cell_type": "code",
   "execution_count": 21,
   "id": "9cb81b26",
   "metadata": {},
   "outputs": [
    {
     "data": {
      "text/plain": [
       "'S'"
      ]
     },
     "execution_count": 21,
     "metadata": {},
     "output_type": "execute_result"
    }
   ],
   "source": [
    "l_name=\"Sarkar\"\n",
    "l_name[0]"
   ]
  },
  {
   "cell_type": "markdown",
   "id": "03a1cf21",
   "metadata": {},
   "source": [
    "# Nested LOOPs"
   ]
  },
  {
   "cell_type": "code",
   "execution_count": 23,
   "id": "ab824b8a",
   "metadata": {},
   "outputs": [
    {
     "name": "stdout",
     "output_type": "stream",
     "text": [
      "0\n",
      "1\n",
      "2\n",
      "3\n",
      "4\n",
      "5\n",
      "6\n",
      "7\n"
     ]
    }
   ],
   "source": [
    "for i in range(0,8):\n",
    "    print(i)"
   ]
  },
  {
   "cell_type": "code",
   "execution_count": 24,
   "id": "3dcc9b18",
   "metadata": {},
   "outputs": [
    {
     "name": "stdout",
     "output_type": "stream",
     "text": [
      "0\n",
      "2\n",
      "4\n",
      "6\n"
     ]
    }
   ],
   "source": [
    "for i in range(0,8,2):\n",
    "    print(i)"
   ]
  },
  {
   "cell_type": "code",
   "execution_count": 1,
   "id": "abf17016",
   "metadata": {},
   "outputs": [
    {
     "name": "stdout",
     "output_type": "stream",
     "text": [
      "* \r\n",
      "* * \r\n",
      "* * * \r\n",
      "* * * * \r\n",
      "* * * * * \r\n",
      "* * * * * * \r\n",
      "* * * * * * * \r\n"
     ]
    }
   ],
   "source": [
    "n=7 #n is length and width of triangle\n",
    "for i in range(0, n): #loop to handle the rows \n",
    "\n",
    "    for j in range(0, i+1): #loop to handle the columns \n",
    "\n",
    "        print(\"* \",end=\"\") #printing the stars \n",
    "\n",
    "    print(\"\\r\") #after each row line will end"
   ]
  }
 ],
 "metadata": {
  "kernelspec": {
   "display_name": "Python 3 (ipykernel)",
   "language": "python",
   "name": "python3"
  },
  "language_info": {
   "codemirror_mode": {
    "name": "ipython",
    "version": 3
   },
   "file_extension": ".py",
   "mimetype": "text/x-python",
   "name": "python",
   "nbconvert_exporter": "python",
   "pygments_lexer": "ipython3",
   "version": "3.9.12"
  }
 },
 "nbformat": 4,
 "nbformat_minor": 5
}
