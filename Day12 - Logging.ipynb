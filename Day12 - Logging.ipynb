{
 "cells": [
  {
   "cell_type": "markdown",
   "id": "4c540b45",
   "metadata": {},
   "source": [
    "**Why print statement is not Pythonic**\n",
    "\n",
    "Some developers use the concept of printing the statements to validate if the statements are executed correctly or if some error has occurred. But printing is not a good idea. It may solve your issues for simple scripts but for complex scripts, the printing approach will fail.\n",
    "Python has a built-in module logging which allows writing status messages to a file or any other output streams. The file can contain information on which part of the code is executed and what problems have arisen.  "
   ]
  },
  {
   "cell_type": "markdown",
   "id": "3b6fc162",
   "metadata": {},
   "source": [
    "Logging is a means of tracking events that happen when some software runs. Logging is important for software developing, debugging, and running. If you don’t have any logging record and your program crashes, there are very few chances that you detect the cause of the problem. And if you detect the cause, it will consume a lot of time. With logging, you can leave a trail of breadcrumbs so that if something goes wrong, we can determine the cause of the problem. "
   ]
  },
  {
   "cell_type": "code",
   "execution_count": 1,
   "id": "d1be595d",
   "metadata": {},
   "outputs": [],
   "source": [
    "import logging"
   ]
  },
  {
   "cell_type": "code",
   "execution_count": 3,
   "id": "ebe3e1a7",
   "metadata": {},
   "outputs": [],
   "source": [
    "logging.basicConfig(filename = \"test.log\" , level = logging.INFO)"
   ]
  },
  {
   "cell_type": "code",
   "execution_count": 4,
   "id": "f9a0e9c0",
   "metadata": {},
   "outputs": [],
   "source": [
    "logging.info(\"this is my line of execution \")"
   ]
  },
  {
   "cell_type": "markdown",
   "id": "1fc78970",
   "metadata": {},
   "source": [
    "There are five built-in levels of the log message.  \n",
    "\n",
    "**Debug**: These are used to give Detailed information, typically of interest only when diagnosing problems.\n",
    "\n",
    "**Info**: These are used to confirm that things are working as expected\n",
    "\n",
    "**Warning**: These are used as an indication that something unexpected happened, or is indicative of some problem in the near future\n",
    "\n",
    "**Error**: This tells that due to a more serious problem, the software has not been able to perform some function\n",
    "\n",
    "**Critical**: This tells serious error, indicating that the program itself may be unable to continue running"
   ]
  },
  {
   "cell_type": "code",
   "execution_count": 5,
   "id": "c8136dd6",
   "metadata": {},
   "outputs": [],
   "source": [
    "logging.info(\"this is my line of execution \")\n",
    "\n",
    "logging.error(\"this is my error\")\n",
    "\n",
    "logging.critical(\"this is my critical\")\n",
    "\n",
    "logging.warning(\"this is my warning \")\n",
    "\n",
    "logging.debug(\"this is my info related to debug\")"
   ]
  },
  {
   "cell_type": "markdown",
   "id": "e1d56574",
   "metadata": {},
   "source": [
    "Logging level hierarchy :\n",
    "\n",
    "NOSET\n",
    "\n",
    "DEBUG\n",
    "\n",
    "INFO\n",
    "\n",
    "WARNING\n",
    "\n",
    "ERROR\n",
    "\n",
    "CRITICAL\n",
    "\n",
    "Each level is able to log any level below it, therefore in the above code debug level is not logged"
   ]
  },
  {
   "cell_type": "code",
   "execution_count": 6,
   "id": "2118444d",
   "metadata": {},
   "outputs": [
    {
     "ename": "AttributeError",
     "evalue": "module 'logging' has no attribute 'noset'",
     "output_type": "error",
     "traceback": [
      "\u001b[1;31m---------------------------------------------------------------------------\u001b[0m",
      "\u001b[1;31mAttributeError\u001b[0m                            Traceback (most recent call last)",
      "Input \u001b[1;32mIn [6]\u001b[0m, in \u001b[0;36m<cell line: 1>\u001b[1;34m()\u001b[0m\n\u001b[1;32m----> 1\u001b[0m \u001b[43mlogging\u001b[49m\u001b[38;5;241;43m.\u001b[39;49m\u001b[43mnoset\u001b[49m(\u001b[38;5;124m\"\u001b[39m\u001b[38;5;124mthis is a no set related log\u001b[39m\u001b[38;5;124m\"\u001b[39m)\n",
      "\u001b[1;31mAttributeError\u001b[0m: module 'logging' has no attribute 'noset'"
     ]
    }
   ],
   "source": [
    "logging.noset(\"this is a no set related log\")"
   ]
  },
  {
   "cell_type": "markdown",
   "id": "221a6d8c",
   "metadata": {},
   "source": [
    "noset not available on latest versions of python"
   ]
  },
  {
   "cell_type": "code",
   "execution_count": 7,
   "id": "1963d648",
   "metadata": {},
   "outputs": [],
   "source": [
    "logging.shutdown()"
   ]
  },
  {
   "cell_type": "code",
   "execution_count": 2,
   "id": "2911a631",
   "metadata": {},
   "outputs": [],
   "source": [
    "logging.basicConfig(filename=\"testum.log\", level=logging.DEBUG,format= '%(asctime)s %(message)s')"
   ]
  },
  {
   "cell_type": "code",
   "execution_count": 3,
   "id": "a1b249d4",
   "metadata": {},
   "outputs": [],
   "source": [
    "logging.info(\"this is my info log\")\n",
    "\n",
    "logging.debug(\"this is my debug log\")\n",
    "\n",
    "logging.warning(\"this is my warning \")"
   ]
  },
  {
   "cell_type": "code",
   "execution_count": 4,
   "id": "8bc8fded",
   "metadata": {},
   "outputs": [],
   "source": [
    "logging.critical(\"this is my critical\")"
   ]
  },
  {
   "cell_type": "code",
   "execution_count": 5,
   "id": "c2fc706f",
   "metadata": {},
   "outputs": [],
   "source": [
    "logging.error(\"this is my error\")"
   ]
  },
  {
   "cell_type": "code",
   "execution_count": 6,
   "id": "e1eccd73",
   "metadata": {},
   "outputs": [],
   "source": [
    "logging.warning(\"this is my new warning \")"
   ]
  },
  {
   "cell_type": "code",
   "execution_count": 7,
   "id": "6fdcc2f6",
   "metadata": {},
   "outputs": [],
   "source": [
    "logging.info(\"this is my new new info log\")"
   ]
  },
  {
   "cell_type": "code",
   "execution_count": 8,
   "id": "31926f3c",
   "metadata": {},
   "outputs": [],
   "source": [
    "logging.shutdown()"
   ]
  },
  {
   "cell_type": "code",
   "execution_count": 2,
   "id": "c5adf567",
   "metadata": {},
   "outputs": [],
   "source": [
    "logging.basicConfig(filename = \"newtestpart1.log\" , level = logging.DEBUG, format = '%(asctime)s %(name)s %(levelname)s  %(message)s')"
   ]
  },
  {
   "cell_type": "markdown",
   "id": "693179ab",
   "metadata": {},
   "source": [
    "here %(name)s is for logger name"
   ]
  },
  {
   "cell_type": "code",
   "execution_count": 3,
   "id": "d3678b9a",
   "metadata": {},
   "outputs": [],
   "source": [
    "logging.info(\"this is my latest info\")"
   ]
  },
  {
   "cell_type": "code",
   "execution_count": 1,
   "id": "8bc7589f",
   "metadata": {},
   "outputs": [],
   "source": [
    "import logging\n",
    "\n",
    "# Create a custom logger with the name \"my_logger\"\n",
    "ml = logging.getLogger(\"my_logger\")\n",
    "\n",
    "# Configure your custom logger using basicConfig\n",
    "logging.basicConfig(filename=\"nayamaal.log\", level=logging.DEBUG, format='%(asctime)s - %(name)s - %(levelname)s - %(message)s')\n",
    "#The getLogger function is used in Python's logging module to create or retrieve logger objects.\n",
    "\n",
    "# Now your custom logger will inherit the configuration\n",
    "# set by basicConfig if it doesn't have any other handlers yet\n",
    "ml.debug(\"This is a debug message\")\n"
   ]
  },
  {
   "cell_type": "code",
   "execution_count": 2,
   "id": "9ecf0970",
   "metadata": {},
   "outputs": [],
   "source": [
    "ml.debug(\"This is a debug message\")\n",
    "ml.info(\"This is an info message\")\n",
    "ml.warning(\"This is a warning message\")\n",
    "ml.error(\"This is an error message\")\n",
    "ml.critical(\"This is a critical message\")"
   ]
  },
  {
   "cell_type": "code",
   "execution_count": 2,
   "id": "e15420d2",
   "metadata": {},
   "outputs": [],
   "source": [
    "l=[1,2,3,4,[5,6,7],\"Shubh\",\"Sarkar\"]"
   ]
  },
  {
   "cell_type": "code",
   "execution_count": 3,
   "id": "c23bd0c6",
   "metadata": {},
   "outputs": [],
   "source": [
    "l1_int=[]\n",
    "l2_str=[]\n",
    "for i in l:\n",
    "    logging.info(\"this is the start of my firt{}\".format(l))\n",
    "    logging.info(\"this is the value of I'm logging {}\".format(i))\n",
    "    if type(i) == list:\n",
    "        for j in i :\n",
    "            logging.info(\"this is my log for checking inside the nested list where iterating value j is : {j} and the nested list i is : {i}\".format(i=i,j=j))\n",
    "            if type(j) == int :\n",
    "                l1_int.append(j)\n",
    "    elif type(i) == int:\n",
    "        l1_int.append(i)\n",
    "    else :\n",
    "        if type(i) == str :\n",
    "            l2_str.append(i)\n",
    "logging.info(\"this is the end of coding with all int {l1}, with all str {l2}\".format(l1 = l1_int , l2= l2_str))"
   ]
  },
  {
   "cell_type": "code",
   "execution_count": 4,
   "id": "ac39af6d",
   "metadata": {},
   "outputs": [
    {
     "data": {
      "text/plain": [
       "[1, 2, 3, 4, 5, 6, 7]"
      ]
     },
     "execution_count": 4,
     "metadata": {},
     "output_type": "execute_result"
    }
   ],
   "source": [
    "l1_int"
   ]
  },
  {
   "cell_type": "code",
   "execution_count": 5,
   "id": "3d2188b4",
   "metadata": {},
   "outputs": [
    {
     "data": {
      "text/plain": [
       "['Shubh', 'Sarkar']"
      ]
     },
     "execution_count": 5,
     "metadata": {},
     "output_type": "execute_result"
    }
   ],
   "source": [
    "l2_str"
   ]
  },
  {
   "cell_type": "code",
   "execution_count": null,
   "id": "92fff638",
   "metadata": {},
   "outputs": [],
   "source": []
  }
 ],
 "metadata": {
  "kernelspec": {
   "display_name": "Python 3 (ipykernel)",
   "language": "python",
   "name": "python3"
  },
  "language_info": {
   "codemirror_mode": {
    "name": "ipython",
    "version": 3
   },
   "file_extension": ".py",
   "mimetype": "text/x-python",
   "name": "python",
   "nbconvert_exporter": "python",
   "pygments_lexer": "ipython3",
   "version": "3.9.12"
  }
 },
 "nbformat": 4,
 "nbformat_minor": 5
}
