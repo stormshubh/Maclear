{
 "cells": [
  {
   "cell_type": "code",
   "execution_count": null,
   "id": "f2edba5d",
   "metadata": {},
   "outputs": [],
   "source": []
  },
  {
   "cell_type": "code",
   "execution_count": null,
   "id": "2132cb48",
   "metadata": {},
   "outputs": [],
   "source": []
  },
  {
   "cell_type": "code",
   "execution_count": null,
   "id": "0927bd0a",
   "metadata": {},
   "outputs": [],
   "source": []
  },
  {
   "cell_type": "code",
   "execution_count": 2,
   "id": "79394d2b",
   "metadata": {},
   "outputs": [],
   "source": [
    "def checkhealthstatus(value):\n",
    "    # Implement the function logic here\n",
    "    pass\n",
    "def main():\n",
    "    n=int(input())\n",
    "    arr=[]\n",
    "    for i in range(n):\n",
    "        arr.append(int(input()))\n",
    "    for i in range(n):\n",
    "        print(checkhealthstatus(arr[i]))"
   ]
  },
  {
   "cell_type": "code",
   "execution_count": 1,
   "id": "82fac7b6",
   "metadata": {},
   "outputs": [],
   "source": [
    "def payment():\n",
    "    print(\"this is my payment\")"
   ]
  },
  {
   "cell_type": "code",
   "execution_count": 2,
   "id": "da3e3d97",
   "metadata": {},
   "outputs": [
    {
     "name": "stdout",
     "output_type": "stream",
     "text": [
      "this is my payment\n"
     ]
    }
   ],
   "source": [
    "payment()"
   ]
  },
  {
   "cell_type": "code",
   "execution_count": null,
   "id": "ebbd9838",
   "metadata": {},
   "outputs": [],
   "source": []
  }
 ],
 "metadata": {
  "kernelspec": {
   "display_name": "Python 3 (ipykernel)",
   "language": "python",
   "name": "python3"
  },
  "language_info": {
   "codemirror_mode": {
    "name": "ipython",
    "version": 3
   },
   "file_extension": ".py",
   "mimetype": "text/x-python",
   "name": "python",
   "nbconvert_exporter": "python",
   "pygments_lexer": "ipython3",
   "version": "3.9.12"
  }
 },
 "nbformat": 4,
 "nbformat_minor": 5
}
