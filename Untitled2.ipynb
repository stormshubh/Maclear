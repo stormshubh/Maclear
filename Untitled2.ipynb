{
 "cells": [
  {
   "cell_type": "code",
   "execution_count": 1,
   "id": "c7f792eb",
   "metadata": {},
   "outputs": [],
   "source": [
    "def checkhealthstatus(value):\n",
    "    status=\"Healthy\"\n",
    "    for i in range(1,len(value)):\n",
    "        if value[i] > value[i-1]:\n",
    "            pass\n",
    "        else:\n",
    "            status=\"Unhealthy\"\n",
    "    return status\n",
    "def main():\n",
    "    n = int(input())\n",
    "    arr = []\n",
    "    for i in range(n):\n",
    "        arr.append(int(input()))\n",
    "    for i in range(n):\n",
    "        print(checkhealthstatus(str(arr[i])))"
   ]
  },
  {
   "cell_type": "code",
   "execution_count": 2,
   "id": "9d162f49",
   "metadata": {},
   "outputs": [
    {
     "name": "stdout",
     "output_type": "stream",
     "text": [
      "3\n",
      "4543\n",
      "9876\n",
      "3456\n",
      "Unhealthy\n",
      "Unhealthy\n",
      "Healthy\n"
     ]
    }
   ],
   "source": [
    "main()"
   ]
  },
  {
   "cell_type": "code",
   "execution_count": null,
   "id": "e6f7795e",
   "metadata": {},
   "outputs": [],
   "source": []
  },
  {
   "cell_type": "code",
   "execution_count": null,
   "id": "70123b3e",
   "metadata": {},
   "outputs": [],
   "source": []
  },
  {
   "cell_type": "code",
   "execution_count": null,
   "id": "64caad64",
   "metadata": {},
   "outputs": [],
   "source": []
  }
 ],
 "metadata": {
  "kernelspec": {
   "display_name": "Python 3 (ipykernel)",
   "language": "python",
   "name": "python3"
  },
  "language_info": {
   "codemirror_mode": {
    "name": "ipython",
    "version": 3
   },
   "file_extension": ".py",
   "mimetype": "text/x-python",
   "name": "python",
   "nbconvert_exporter": "python",
   "pygments_lexer": "ipython3",
   "version": "3.9.12"
  }
 },
 "nbformat": 4,
 "nbformat_minor": 5
}
