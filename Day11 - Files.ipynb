{
 "cells": [
  {
   "cell_type": "code",
   "execution_count": 46,
   "id": "88d207dc",
   "metadata": {},
   "outputs": [],
   "source": [
    "new = open('trial.txt','w')"
   ]
  },
  {
   "cell_type": "code",
   "execution_count": 33,
   "id": "8ba79843",
   "metadata": {},
   "outputs": [
    {
     "ename": "NameError",
     "evalue": "name 'pwd' is not defined",
     "output_type": "error",
     "traceback": [
      "\u001b[1;31m---------------------------------------------------------------------------\u001b[0m",
      "\u001b[1;31mNameError\u001b[0m                                 Traceback (most recent call last)",
      "Input \u001b[1;32mIn [33]\u001b[0m, in \u001b[0;36m<cell line: 2>\u001b[1;34m()\u001b[0m\n\u001b[0;32m      1\u001b[0m \u001b[38;5;66;03m# present working directory\u001b[39;00m\n\u001b[1;32m----> 2\u001b[0m \u001b[43mpwd\u001b[49m\n",
      "\u001b[1;31mNameError\u001b[0m: name 'pwd' is not defined"
     ]
    }
   ],
   "source": [
    "# present working directory\n",
    "pwd"
   ]
  },
  {
   "cell_type": "code",
   "execution_count": 39,
   "id": "ad8b7483",
   "metadata": {},
   "outputs": [
    {
     "data": {
      "text/plain": [
       "'C:\\\\Users\\\\funka'"
      ]
     },
     "execution_count": 39,
     "metadata": {},
     "output_type": "execute_result"
    }
   ],
   "source": [
    "pwd"
   ]
  },
  {
   "cell_type": "code",
   "execution_count": 40,
   "id": "fa245e8e",
   "metadata": {},
   "outputs": [
    {
     "name": "stdout",
     "output_type": "stream",
     "text": [
      " Volume in drive C is Acer\n",
      " Volume Serial Number is E43B-2AA8\n",
      "\n",
      " Directory of C:\\Users\\funka\n",
      "\n",
      "02-10-2023  06:56    <DIR>          .\n",
      "17-03-2023  14:05    <DIR>          ..\n",
      "03-09-2022  19:40    <DIR>          .anaconda\n",
      "22-12-2022  15:06    <DIR>          .arduinoIDE\n",
      "05-09-2022  23:58    <DIR>          .conda\n",
      "03-09-2022  19:39                25 .condarc\n",
      "03-09-2022  19:38    <DIR>          .continuum\n",
      "30-09-2023  18:11    <DIR>          .ipynb_checkpoints\n",
      "03-09-2022  20:15    <DIR>          .ipython\n",
      "22-12-2022  16:24    <DIR>          .jssc\n",
      "15-09-2023  04:07    <DIR>          .jupyter\n",
      "12-09-2023  05:02    <DIR>          .matplotlib\n",
      "10-09-2022  13:30    <DIR>          .ms-ad\n",
      "29-06-2023  00:06    <DIR>          .vscode\n",
      "28-05-2022  01:01    <DIR>          3D Objects\n",
      "25-08-2022  01:49    <DIR>          anaconda3\n",
      "17-03-2023  14:14    <DIR>          Contacts\n",
      "20-06-2023  12:06            24,303 d2.ipynb\n",
      "30-09-2023  17:01            45,617 Day 10 - class method, static method, dunders, getters ,setters.ipynb\n",
      "22-06-2023  16:01            65,843 Day 3- Python Operators and Lists (1)-Copy1.ipynb\n",
      "24-06-2023  01:07            58,914 Day 4 Strings List.ipynb\n",
      "26-06-2023  02:24            68,960 Day 5 - tuples, strings.ipynb\n",
      "24-06-2023  01:57    <DIR>          Day 5 (tuples, sets)\n",
      "28-06-2023  22:27            24,055 Day 7 - lambda function,maps, reduce filter.ipynb\n",
      "31-08-2023  20:19            49,738 Day 8 - oops.ipynb\n",
      "15-09-2023  05:25            32,912 Day 9- Decorators, getters, setters.ipynb\n",
      "02-10-2023  06:55             6,822 Day11 - Files.ipynb\n",
      "26-06-2023  19:46            31,108 Day-6-Function.ipynb\n",
      "03-08-2023  11:27    <DIR>          Desktop\n",
      "17-03-2023  14:14    <DIR>          Documents\n",
      "04-08-2023  13:02    <DIR>          Downloads\n",
      "17-03-2023  14:14    <DIR>          Favorites\n",
      "02-10-2023  06:54                 0 hounds.txt\n",
      "19-03-2023  03:10            18,788 intro to py.ipynb\n",
      "17-03-2023  14:14    <DIR>          Links\n",
      "17-03-2023  14:14    <DIR>          Music\n",
      "12-03-2023  03:22             1,529 new.ipynb\n",
      "22-12-2022  15:33    <DIR>          NEWARDUINO\n",
      "01-10-2023  22:13    <DIR>          OneDrive\n",
      "28-09-2023  20:07    <DIR>          OneDrive - Techno Main Salt Lake\n",
      "17-03-2023  14:14    <DIR>          Pictures\n",
      "04-07-2023  12:20             3,780 Polymorphism eng.ipynb\n",
      "01-10-2023  21:23    <DIR>          pwsds\n",
      "28-06-2023  22:57    <DIR>          pwsdsass\n",
      "17-03-2023  14:14    <DIR>          Saved Games\n",
      "17-03-2023  14:14    <DIR>          Searches\n",
      "02-10-2023  06:52                 0 text.txt\n",
      "02-10-2023  06:56                 0 trial.txt\n",
      "26-06-2023  19:47    <DIR>          Untitled Folder\n",
      "17-03-2023  14:14    <DIR>          Videos\n",
      "              17 File(s)        432,394 bytes\n",
      "              33 Dir(s)  191,216,013,312 bytes free\n"
     ]
    }
   ],
   "source": [
    "ls"
   ]
  },
  {
   "cell_type": "markdown",
   "id": "285da566",
   "metadata": {},
   "source": [
    "this command shows all the files present in this directory"
   ]
  },
  {
   "cell_type": "code",
   "execution_count": 47,
   "id": "15caf702",
   "metadata": {},
   "outputs": [
    {
     "data": {
      "text/plain": [
       "219"
      ]
     },
     "execution_count": 47,
     "metadata": {},
     "output_type": "execute_result"
    }
   ],
   "source": [
    "new.write(\"I fled Him, down the nights and down the days; \\n I fled Him, down the arches of the years;\\n I fled Him, down the labyrinthine ways \\n Of my own mind; and in the mist of tears \\n I hid from Him, and under running laughter.\")"
   ]
  },
  {
   "cell_type": "markdown",
   "id": "a9d90f53",
   "metadata": {},
   "source": [
    "here 219 is the bit info"
   ]
  },
  {
   "cell_type": "code",
   "execution_count": 48,
   "id": "6420e7ea",
   "metadata": {},
   "outputs": [],
   "source": [
    "new.close()"
   ]
  },
  {
   "cell_type": "markdown",
   "id": "a7da55ce",
   "metadata": {},
   "source": [
    "The close() function in Python is a method associated with file objects, and it's used to close an open file, releasing the resources associated with it. When you're done working with a file, it's important to close it to free up system resources and ensure data integrity.\n",
    "\n",
    "Resource Release: When a file is opened in Python (using open()), system resources are allocated to manage the file. The close() function releases these resources, such as file buffers or handles, back to the operating system.\n",
    "\n",
    "\n",
    "Data Integrity: Closing a file ensures that all the data you've written to the file is fully written and stored. If you don't close the file, there's a risk that some data may not be written to the file."
   ]
  },
  {
   "cell_type": "code",
   "execution_count": 49,
   "id": "d6409115",
   "metadata": {},
   "outputs": [],
   "source": [
    "with open('example.txt', 'w') as file:\n",
    "    file.write(\"Hello, world!\")\n",
    "# The file is automatically closed when exiting the block\n"
   ]
  },
  {
   "cell_type": "markdown",
   "id": "14c8cd3b",
   "metadata": {},
   "source": [
    "A better way to handle file closing is by using the with statement, which automatically closes the file when you're done with it, even if an error occurs."
   ]
  },
  {
   "cell_type": "markdown",
   "id": "0c8db935",
   "metadata": {},
   "source": [
    "now since i have opened the file in a mode if i write something on the file again, the previous info will be truncated so to counter this we use \"a\" mode"
   ]
  },
  {
   "cell_type": "code",
   "execution_count": 20,
   "id": "959720b3",
   "metadata": {},
   "outputs": [],
   "source": [
    "update = open(\"poem.txt\",'a')"
   ]
  },
  {
   "cell_type": "code",
   "execution_count": 21,
   "id": "73d0db51",
   "metadata": {},
   "outputs": [
    {
     "data": {
      "text/plain": [
       "219"
      ]
     },
     "execution_count": 21,
     "metadata": {},
     "output_type": "execute_result"
    }
   ],
   "source": [
    "update.write(\"I fled Him, down the nights and down the days; \\n I fled Him, down the arches of the years;\\n I fled Him, down the labyrinthine ways \\n Of my own mind; and in the mist of tears \\n I hid from Him, and under running laughter.\")"
   ]
  },
  {
   "cell_type": "code",
   "execution_count": 22,
   "id": "65ac558f",
   "metadata": {},
   "outputs": [],
   "source": [
    "update.close()"
   ]
  },
  {
   "cell_type": "code",
   "execution_count": 23,
   "id": "9e647d74",
   "metadata": {},
   "outputs": [],
   "source": [
    "uv2=open(\"poem.txt\",'a')"
   ]
  },
  {
   "cell_type": "code",
   "execution_count": 24,
   "id": "c3c67e20",
   "metadata": {},
   "outputs": [
    {
     "data": {
      "text/plain": [
       "329"
      ]
     },
     "execution_count": 24,
     "metadata": {},
     "output_type": "execute_result"
    }
   ],
   "source": [
    "uv2.write(\"\"\"\n",
    " Up vistaed hopes I sped;\n",
    "And shot, precipitated;\n",
    "Adown Titanic glooms of chasmed fears;\n",
    "From those strong Feet that followed, followed after.\n",
    "But with unhurrying chase;\n",
    "And unperturbed pace;\n",
    "Deliberate speed, majestic instancy;\n",
    "They beat—and a Voice beat\n",
    "More instant than the Feet—\n",
    "'All things betray thee, who betrayest Me.'\n",
    "\"\"\")"
   ]
  },
  {
   "cell_type": "code",
   "execution_count": 25,
   "id": "8d43ca90",
   "metadata": {},
   "outputs": [],
   "source": [
    "uv2.close()"
   ]
  },
  {
   "cell_type": "code",
   "execution_count": 7,
   "id": "1926d7df",
   "metadata": {},
   "outputs": [],
   "source": [
    "po = open('fox.txt', 'a', encoding='utf-8')\n",
    "\n",
    "po.write(\"I fled Him, down the nights and down the days; \\n I fled Him, down the arches of the years;\\n I fled Him, down the labyrinthine ways \\n Of my own mind; and in the mist of tears \\n I hid from Him, and under running laughter.\")\n",
    "\n",
    "po.close()\n",
    "\n",
    "po = open('fox.txt', 'a', encoding='utf-8')\n",
    "\n",
    "po.write(\"\"\"\n",
    " Up vistaed hopes I sped;\n",
    "And shot, precipitated;\n",
    "Adown Titanic glooms of chasmed fears;\n",
    "From those strong Feet that followed, followed after.\n",
    "But with unhurrying chase;\n",
    "And unperturbed pace;\n",
    "Deliberate speed, majestic instancy;\n",
    "They beat—and a Voice beat\n",
    "More instant than the Feet—\n",
    "'All things betray thee, who betrayest Me.'\n",
    "\"\"\")\n",
    "\n",
    "po.close()\n"
   ]
  },
  {
   "cell_type": "code",
   "execution_count": 9,
   "id": "507efa0f",
   "metadata": {},
   "outputs": [],
   "source": [
    "f = open(\"newtest.txt\" ,'a' )"
   ]
  },
  {
   "cell_type": "code",
   "execution_count": 10,
   "id": "7ee50280",
   "metadata": {},
   "outputs": [
    {
     "data": {
      "text/plain": [
       "767"
      ]
     },
     "execution_count": 10,
     "metadata": {},
     "output_type": "execute_result"
    }
   ],
   "source": [
    "f.write(\"Data Science Masters course is highly curated and uniquely designed according to the latest industry standards. This program instills students the skills essential to knowledge discovery efforts to identify standard, novel, and truly differentiated solutions and decision-making, including skills in managing, querying, analyzing, visualizing, and extracting meaning from extremely large data sets. This trending program provides students with the statistical, mathematical and computational skills needed to meet the large-scale data science challenges of today's professional world. You will learn all the stack required to work in data science industry i3ncluding cloud infrastructure and real-time industry projects. This course will be taught in Hindi language. \")"
   ]
  },
  {
   "cell_type": "code",
   "execution_count": 11,
   "id": "3383bf9e",
   "metadata": {},
   "outputs": [],
   "source": [
    "f.close()"
   ]
  },
  {
   "cell_type": "code",
   "execution_count": 12,
   "id": "9882c18a",
   "metadata": {},
   "outputs": [],
   "source": [
    "data = open(\"newtest.txt\" , \"r\")"
   ]
  },
  {
   "cell_type": "code",
   "execution_count": 13,
   "id": "d5d93908",
   "metadata": {},
   "outputs": [
    {
     "data": {
      "text/plain": [
       "\"Data Science Masters course is highly curated and uniquely designed according to the latest industry standards. This program instills students the skills essential to knowledge discovery efforts to identify standard, novel, and truly differentiated solutions and decision-making, including skills in managing, querying, analyzing, visualizing, and extracting meaning from extremely large data sets. This trending program provides students with the statistical, mathematical and computational skills needed to meet the large-scale data science challenges of today's professional world. You will learn all the stack required to work in data science industry i3ncluding cloud infrastructure and real-time industry projects. This course will be taught in Hindi language. \""
      ]
     },
     "execution_count": 13,
     "metadata": {},
     "output_type": "execute_result"
    }
   ],
   "source": [
    "data.read()"
   ]
  },
  {
   "cell_type": "code",
   "execution_count": 37,
   "id": "03bcdbce",
   "metadata": {},
   "outputs": [],
   "source": [
    "uv3=open(\"god.txt\",'a')"
   ]
  },
  {
   "cell_type": "code",
   "execution_count": 38,
   "id": "ffe88b39",
   "metadata": {},
   "outputs": [
    {
     "data": {
      "text/plain": [
       "252"
      ]
     },
     "execution_count": 38,
     "metadata": {},
     "output_type": "execute_result"
    }
   ],
   "source": [
    "uv3.write(\"\"\"I fled Him, down the nights and down the days;\n",
    "          I fled Him, down the arches of the years;\n",
    "          I fled Him, down the labyrinthine ways\n",
    "          Of my own mind; and in the mist of tears\n",
    "          I hid from Him, and under running laughter.\"\"\")"
   ]
  },
  {
   "cell_type": "code",
   "execution_count": 39,
   "id": "f6fae37a",
   "metadata": {},
   "outputs": [],
   "source": [
    "uv3.close()"
   ]
  },
  {
   "cell_type": "code",
   "execution_count": 40,
   "id": "d81b39d4",
   "metadata": {},
   "outputs": [],
   "source": [
    "uv4=open(\"god.txt\",'a')"
   ]
  },
  {
   "cell_type": "code",
   "execution_count": 41,
   "id": "473240f9",
   "metadata": {},
   "outputs": [
    {
     "data": {
      "text/plain": [
       "329"
      ]
     },
     "execution_count": 41,
     "metadata": {},
     "output_type": "execute_result"
    }
   ],
   "source": [
    "uv4.write(\"\"\"\n",
    " Up vistaed hopes I sped;\n",
    "And shot, precipitated;\n",
    "Adown Titanic glooms of chasmed fears;\n",
    "From those strong Feet that followed, followed after.\n",
    "But with unhurrying chase;\n",
    "And unperturbed pace;\n",
    "Deliberate speed, majestic instancy;\n",
    "They beat—and a Voice beat\n",
    "More instant than the Feet—\n",
    "'All things betray thee, who betrayest Me.'\n",
    "\"\"\")"
   ]
  },
  {
   "cell_type": "code",
   "execution_count": 42,
   "id": "98dbe739",
   "metadata": {},
   "outputs": [],
   "source": [
    "uv4.close()"
   ]
  },
  {
   "cell_type": "code",
   "execution_count": 35,
   "id": "304b1e46",
   "metadata": {},
   "outputs": [],
   "source": [
    "data2 = open(\"god.txt\" , \"r\")"
   ]
  },
  {
   "cell_type": "code",
   "execution_count": 64,
   "id": "d203c92a",
   "metadata": {},
   "outputs": [
    {
     "data": {
      "text/plain": [
       "\"I fled Him, down the nights and down the days;\\n          I fled Him, down the arches of the years;\\n          I fled Him, down the labyrinthine ways\\n          Of my own mind; and in the mist of tears\\n          I hid from Him, and under running laughter.\\n Up vistaed hopes I sped;\\nAnd shot, precipitated;\\nAdown Titanic glooms of chasmed fears;\\nFrom those strong Feet that followed, followed after.\\nBut with unhurrying chase;\\nAnd unperturbed pace;\\nDeliberate speed, majestic instancy;\\nThey beat—and a Voice beat\\nMore instant than the Feet—\\n'All things betray thee, who betrayest Me.'\\n\""
      ]
     },
     "execution_count": 64,
     "metadata": {},
     "output_type": "execute_result"
    }
   ],
   "source": [
    "data2.read()"
   ]
  },
  {
   "cell_type": "code",
   "execution_count": 43,
   "id": "5a7b3d64",
   "metadata": {},
   "outputs": [],
   "source": [
    "f = open(\"newtest.txt\" ,'a' )"
   ]
  },
  {
   "cell_type": "code",
   "execution_count": 44,
   "id": "52299802",
   "metadata": {},
   "outputs": [
    {
     "data": {
      "text/plain": [
       "767"
      ]
     },
     "execution_count": 44,
     "metadata": {},
     "output_type": "execute_result"
    }
   ],
   "source": [
    "f.write(\"Data Science Masters course is highly curated and uniquely designed according to the latest industry standards. This program instills students the skills essential to knowledge discovery efforts to identify standard, novel, and truly differentiated solutions and decision-making, including skills in managing, querying, analyzing, visualizing, and extracting meaning from extremely large data sets. This trending program provides students with the statistical, mathematical and computational skills needed to meet the large-scale data science challenges of today's professional world. You will learn all the stack required to work in data science industry i3ncluding cloud infrastructure and real-time industry projects. This course will be taught in Hindi language. \")"
   ]
  },
  {
   "cell_type": "code",
   "execution_count": 45,
   "id": "894faa02",
   "metadata": {},
   "outputs": [],
   "source": [
    "f.close()"
   ]
  },
  {
   "cell_type": "code",
   "execution_count": 66,
   "id": "9f26c714",
   "metadata": {},
   "outputs": [],
   "source": [
    "data3 = open(\"newtest.txt\" , \"r\")"
   ]
  },
  {
   "cell_type": "code",
   "execution_count": 67,
   "id": "091602f7",
   "metadata": {},
   "outputs": [
    {
     "data": {
      "text/plain": [
       "\"Data Science Masters course is highly curated and uniquely designed according to the latest industry standards. This program instills students the skills essential to knowledge discovery efforts to identify standard, novel, and truly differentiated solutions and decision-making, including skills in managing, querying, analyzing, visualizing, and extracting meaning from extremely large data sets. This trending program provides students with the statistical, mathematical and computational skills needed to meet the large-scale data science challenges of today's professional world. You will learn all the stack required to work in data science industry i3ncluding cloud infrastructure and real-time industry projects. This course will be taught in Hindi language. Data Science Masters course is highly curated and uniquely designed according to the latest industry standards. This program instills students the skills essential to knowledge discovery efforts to identify standard, novel, and truly differentiated solutions and decision-making, including skills in managing, querying, analyzing, visualizing, and extracting meaning from extremely large data sets. This trending program provides students with the statistical, mathematical and computational skills needed to meet the large-scale data science challenges of today's professional world. You will learn all the stack required to work in data science industry i3ncluding cloud infrastructure and real-time industry projects. This course will be taught in Hindi language. \""
      ]
     },
     "execution_count": 67,
     "metadata": {},
     "output_type": "execute_result"
    }
   ],
   "source": [
    "data3.read()"
   ]
  },
  {
   "cell_type": "code",
   "execution_count": 68,
   "id": "8406ebfc",
   "metadata": {},
   "outputs": [
    {
     "data": {
      "text/plain": [
       "''"
      ]
     },
     "execution_count": 68,
     "metadata": {},
     "output_type": "execute_result"
    }
   ],
   "source": [
    "data3.read()"
   ]
  },
  {
   "cell_type": "markdown",
   "id": "2a8029df",
   "metadata": {},
   "source": [
    "This is because after the first read the cursor goes to the end so there is nothing more to read"
   ]
  },
  {
   "cell_type": "code",
   "execution_count": 69,
   "id": "99eb643c",
   "metadata": {},
   "outputs": [
    {
     "data": {
      "text/plain": [
       "0"
      ]
     },
     "execution_count": 69,
     "metadata": {},
     "output_type": "execute_result"
    }
   ],
   "source": [
    "data3.seek(0)"
   ]
  },
  {
   "cell_type": "code",
   "execution_count": 70,
   "id": "a753fc3c",
   "metadata": {},
   "outputs": [
    {
     "data": {
      "text/plain": [
       "\"Data Science Masters course is highly curated and uniquely designed according to the latest industry standards. This program instills students the skills essential to knowledge discovery efforts to identify standard, novel, and truly differentiated solutions and decision-making, including skills in managing, querying, analyzing, visualizing, and extracting meaning from extremely large data sets. This trending program provides students with the statistical, mathematical and computational skills needed to meet the large-scale data science challenges of today's professional world. You will learn all the stack required to work in data science industry i3ncluding cloud infrastructure and real-time industry projects. This course will be taught in Hindi language. Data Science Masters course is highly curated and uniquely designed according to the latest industry standards. This program instills students the skills essential to knowledge discovery efforts to identify standard, novel, and truly differentiated solutions and decision-making, including skills in managing, querying, analyzing, visualizing, and extracting meaning from extremely large data sets. This trending program provides students with the statistical, mathematical and computational skills needed to meet the large-scale data science challenges of today's professional world. You will learn all the stack required to work in data science industry i3ncluding cloud infrastructure and real-time industry projects. This course will be taught in Hindi language. \""
      ]
     },
     "execution_count": 70,
     "metadata": {},
     "output_type": "execute_result"
    }
   ],
   "source": [
    "data3.read()"
   ]
  },
  {
   "cell_type": "code",
   "execution_count": 71,
   "id": "119fc939",
   "metadata": {},
   "outputs": [
    {
     "data": {
      "text/plain": [
       "155"
      ]
     },
     "execution_count": 71,
     "metadata": {},
     "output_type": "execute_result"
    }
   ],
   "source": [
    "data3.seek(155)"
   ]
  },
  {
   "cell_type": "code",
   "execution_count": 72,
   "id": "79cf9676",
   "metadata": {},
   "outputs": [
    {
     "data": {
      "text/plain": [
       "\"ssential to knowledge discovery efforts to identify standard, novel, and truly differentiated solutions and decision-making, including skills in managing, querying, analyzing, visualizing, and extracting meaning from extremely large data sets. This trending program provides students with the statistical, mathematical and computational skills needed to meet the large-scale data science challenges of today's professional world. You will learn all the stack required to work in data science industry i3ncluding cloud infrastructure and real-time industry projects. This course will be taught in Hindi language. Data Science Masters course is highly curated and uniquely designed according to the latest industry standards. This program instills students the skills essential to knowledge discovery efforts to identify standard, novel, and truly differentiated solutions and decision-making, including skills in managing, querying, analyzing, visualizing, and extracting meaning from extremely large data sets. This trending program provides students with the statistical, mathematical and computational skills needed to meet the large-scale data science challenges of today's professional world. You will learn all the stack required to work in data science industry i3ncluding cloud infrastructure and real-time industry projects. This course will be taught in Hindi language. \""
      ]
     },
     "execution_count": 72,
     "metadata": {},
     "output_type": "execute_result"
    }
   ],
   "source": [
    "data3.read()"
   ]
  },
  {
   "cell_type": "code",
   "execution_count": 73,
   "id": "fb8d0f19",
   "metadata": {},
   "outputs": [
    {
     "data": {
      "text/plain": [
       "212"
      ]
     },
     "execution_count": 73,
     "metadata": {},
     "output_type": "execute_result"
    }
   ],
   "source": [
    "data3.seek(212)"
   ]
  },
  {
   "cell_type": "code",
   "execution_count": 74,
   "id": "db53b3e8",
   "metadata": {},
   "outputs": [
    {
     "name": "stdout",
     "output_type": "stream",
     "text": [
      "ard, novel, and truly differentiated solutions and decision-making, including skills in managing, querying, analyzing, visualizing, and extracting meaning from extremely large data sets. This trending program provides students with the statistical, mathematical and computational skills needed to meet the large-scale data science challenges of today's professional world. You will learn all the stack required to work in data science industry i3ncluding cloud infrastructure and real-time industry projects. This course will be taught in Hindi language. Data Science Masters course is highly curated and uniquely designed according to the latest industry standards. This program instills students the skills essential to knowledge discovery efforts to identify standard, novel, and truly differentiated solutions and decision-making, including skills in managing, querying, analyzing, visualizing, and extracting meaning from extremely large data sets. This trending program provides students with the statistical, mathematical and computational skills needed to meet the large-scale data science challenges of today's professional world. You will learn all the stack required to work in data science industry i3ncluding cloud infrastructure and real-time industry projects. This course will be taught in Hindi language. \n"
     ]
    }
   ],
   "source": [
    "for i in data3:\n",
    "    print(i)"
   ]
  },
  {
   "cell_type": "code",
   "execution_count": 2,
   "id": "57be0ad2",
   "metadata": {},
   "outputs": [],
   "source": [
    "import os"
   ]
  },
  {
   "cell_type": "code",
   "execution_count": 76,
   "id": "61589310",
   "metadata": {},
   "outputs": [
    {
     "data": {
      "text/plain": [
       "1534"
      ]
     },
     "execution_count": 76,
     "metadata": {},
     "output_type": "execute_result"
    }
   ],
   "source": [
    "os.path.getsize(\"newtest.txt\")"
   ]
  },
  {
   "cell_type": "code",
   "execution_count": 77,
   "id": "0a548624",
   "metadata": {},
   "outputs": [],
   "source": [
    "import shutil"
   ]
  },
  {
   "cell_type": "code",
   "execution_count": 78,
   "id": "7696e95b",
   "metadata": {},
   "outputs": [
    {
     "data": {
      "text/plain": [
       "'newtest.txt'"
      ]
     },
     "execution_count": 78,
     "metadata": {},
     "output_type": "execute_result"
    }
   ],
   "source": [
    "shutil.copy(\"fox.txt\",\"newtest.txt\")"
   ]
  },
  {
   "cell_type": "code",
   "execution_count": 3,
   "id": "6fc10547",
   "metadata": {},
   "outputs": [],
   "source": [
    "os.remove(\"newtest.txt\")"
   ]
  },
  {
   "cell_type": "code",
   "execution_count": 5,
   "id": "23a1b12e",
   "metadata": {},
   "outputs": [
    {
     "name": "stdout",
     "output_type": "stream",
     "text": [
      "Through dark dreary desert storm I walk alone\n"
     ]
    }
   ],
   "source": [
    "with open(\"new_test.txt\" , \"a\") as f :\n",
    "    print(\"Through dark dreary desert storm I walk alone\")"
   ]
  },
  {
   "cell_type": "code",
   "execution_count": 8,
   "id": "c987fde3",
   "metadata": {},
   "outputs": [
    {
     "name": "stdout",
     "output_type": "stream",
     "text": [
      "\n"
     ]
    }
   ],
   "source": [
    "with open(\"fox.txt\" , \"r\") as reading :\n",
    "    print()"
   ]
  },
  {
   "cell_type": "code",
   "execution_count": 9,
   "id": "6da47d38",
   "metadata": {},
   "outputs": [
    {
     "name": "stdout",
     "output_type": "stream",
     "text": [
      "{\"name\": \"Alice\", \"age\": 30}\n"
     ]
    }
   ],
   "source": [
    "import json\n",
    "\n",
    "python_dict = {'name': 'Alice', 'age': 30}\n",
    "json_str = json.dumps(python_dict)\n",
    "print(json_str)  # This will print a JSON-encoded string representing the dictionary"
   ]
  },
  {
   "cell_type": "code",
   "execution_count": 11,
   "id": "5a955e25",
   "metadata": {},
   "outputs": [],
   "source": [
    "# or you can also :\n",
    "python_dict2 = {'name': 'Bea', 'age': 36}\n",
    "with open(\"naya.json\",\"w\") as json_str1:\n",
    "    json.dump(python_dict2,json_str1)"
   ]
  },
  {
   "cell_type": "code",
   "execution_count": 12,
   "id": "b838619d",
   "metadata": {},
   "outputs": [
    {
     "name": "stdout",
     "output_type": "stream",
     "text": [
      "<_io.TextIOWrapper name='naya.json' mode='w' encoding='cp1252'>\n"
     ]
    }
   ],
   "source": [
    "print(json_str1)  # This will print a JSON-encoded string representing the dictionary"
   ]
  },
  {
   "cell_type": "code",
   "execution_count": 13,
   "id": "bac7e87f",
   "metadata": {},
   "outputs": [],
   "source": [
    "data = {\n",
    "    \"name\" : \"shubh\",\n",
    "    \"mail_id\" : \"shubh@gmail.com\",\n",
    "    \"phone_number\" : 82345435,\n",
    "    \"subject\" :[\"data science\" , \"big data\" , \"data analytics\"]\n",
    "}"
   ]
  },
  {
   "cell_type": "code",
   "execution_count": 14,
   "id": "5343fb09",
   "metadata": {},
   "outputs": [],
   "source": [
    "with open(\"naya2.json\",\"w\") as j:\n",
    "    json.dump(data,j)"
   ]
  },
  {
   "cell_type": "code",
   "execution_count": 15,
   "id": "520bb884",
   "metadata": {},
   "outputs": [],
   "source": [
    "data = {\n",
    "    \"name\" : \"sudh\",\n",
    "    \"mail_id\" : \"sudh@gmail.com\",\n",
    "    \"phone_number\" : 91345435,\n",
    "    \"subject\" :[\"data science\" , \"big data\" , \"data analytics\"]\n",
    "}\n",
    "\n",
    "import json\n",
    "\n",
    "with open(\"test1.json\", \"w\") as f :\n",
    "    json.dump(data,f)"
   ]
  },
  {
   "cell_type": "code",
   "execution_count": 16,
   "id": "fd060745",
   "metadata": {},
   "outputs": [],
   "source": [
    "with open(\"naya2.json\",\"r\") as n:\n",
    "    data2=json.load(n)"
   ]
  },
  {
   "cell_type": "code",
   "execution_count": 17,
   "id": "d2a5a0f6",
   "metadata": {},
   "outputs": [
    {
     "data": {
      "text/plain": [
       "{'name': 'shubh',\n",
       " 'mail_id': 'shubh@gmail.com',\n",
       " 'phone_number': 82345435,\n",
       " 'subject': ['data science', 'big data', 'data analytics']}"
      ]
     },
     "execution_count": 17,
     "metadata": {},
     "output_type": "execute_result"
    }
   ],
   "source": [
    "data2"
   ]
  },
  {
   "cell_type": "code",
   "execution_count": 19,
   "id": "9650b66f",
   "metadata": {},
   "outputs": [
    {
     "data": {
      "text/plain": [
       "'big data'"
      ]
     },
     "execution_count": 19,
     "metadata": {},
     "output_type": "execute_result"
    }
   ],
   "source": [
    "data2['subject'][1]"
   ]
  },
  {
   "cell_type": "code",
   "execution_count": 6,
   "id": "2f9d6f06",
   "metadata": {},
   "outputs": [],
   "source": [
    "data = [[\"name\", \"email_id\", \"number\"],\n",
    "        [\"sudh\", \"sudh@gmail.com\", '92342342'],\n",
    "        [\"krish\", \"krish@gmail.com\", '9324324242']]"
   ]
  },
  {
   "cell_type": "markdown",
   "id": "f96ab7cc",
   "metadata": {},
   "source": [
    "now this data set has all its values in each list separated by a comma, so we can convert into a csv file"
   ]
  },
  {
   "cell_type": "code",
   "execution_count": 7,
   "id": "8aa67d23",
   "metadata": {},
   "outputs": [],
   "source": [
    "import csv\n",
    "with open(\"test3.csv\" , 'w') as f :\n",
    "    csvset = csv.writer(f)\n",
    "    for i in data:\n",
    "        if i:\n",
    "            csvset.writerow(i)"
   ]
  },
  {
   "cell_type": "markdown",
   "id": "73bbf57e",
   "metadata": {},
   "source": [
    "The line `csvset = csv.writer(f)` is creating a CSV writer object using the `csv.writer()` function provided by the `csv` module. This object, named `csvset` in this case, is responsible for writing CSV data to a file.\n",
    "\n",
    "Let's break down this line in detail:\n",
    "\n",
    "1. **`csv` module:**\n",
    "   The `csv` module is a built-in Python module that provides functionalities for working with CSV (Comma-Separated Values) files. It offers tools to read from and write to CSV files, allowing for easy handling of tabular data.\n",
    "\n",
    "2. **`csv.writer()` function:**\n",
    "   The `csv.writer()` function creates a writer object that can write CSV data to a specified file object.\n",
    "\n",
    "3. **`f` - File object:**\n",
    "   `f` is a file object obtained from opening a file in write mode earlier in the code:\n",
    "   ```python\n",
    "   with open(\"test3.csv\", 'w') as f:\n",
    "   ```\n",
    "   The file object `f` represents the opened file \"test3.csv\" in write mode.\n",
    "\n",
    "4. **Creating the CSV writer object:**\n",
    "   ```python\n",
    "   csvset = csv.writer(f)\n",
    "   ```\n",
    "   This line uses `csv.writer()` to create a CSV writer object named `csvset`. The writer is associated with the file object `f`, which means it will write CSV data to the file represented by `f`.\n",
    "\n",
    "5. **Usage of the CSV writer object:**\n",
    "   After creating the CSV writer object (`csvset`), you can use its methods to write CSV data. The most common method is `writerow()`, which writes a single row of data to the CSV file.\n",
    "\n",
    "\n",
    "1. **`for i in data:`:**\n",
    "   This line initiates a loop where `i` iterates over each item in the iterable `data`. In this context, `data` is assumed to be a list of lists (or any iterable where each item is a list).\n",
    "\n",
    "2. **`if i:`:**\n",
    "   Within the loop, this line checks if the current item `i` is truthy. In Python, an empty list evaluates to `False`, and a non-empty list evaluates to `True`. This check ensures that the item being processed is a non-empty list.\n",
    "\n",
    "3. **`csvset.writerow(i)`:**\n",
    "   If `i` is a non-empty list (evaluates to `True`), this line calls the `writerow()` method of the CSV writer object (`csvset`) to write the contents of the list `i` as a row in the CSV file. Each item in the list `i` becomes a column in the CSV row.\n",
    "\n",
    "In summary, this loop iterates over each list in the `data` variable, checks if the list is non-empty, and if it is, writes the contents of that list as a row in the CSV file using the `writerow()` method of the CSV writer object. This loop effectively writes each non-empty list in `data` as a row in the CSV file."
   ]
  },
  {
   "cell_type": "code",
   "execution_count": 9,
   "id": "a65468ea",
   "metadata": {},
   "outputs": [
    {
     "name": "stdout",
     "output_type": "stream",
     "text": [
      "['name', 'email_id', 'number']\n",
      "['sudh', 'sudh@gmail.com', '92342342']\n",
      "['krish', 'krish@gmail.com', '9324324242']\n"
     ]
    }
   ],
   "source": [
    "with open(\"test3.csv\" , 'r') as f :\n",
    "    read = csv.reader(f)\n",
    "    for i in read:\n",
    "        if i:\n",
    "            print(i)"
   ]
  },
  {
   "cell_type": "code",
   "execution_count": 42,
   "id": "a4be6549",
   "metadata": {},
   "outputs": [
    {
     "name": "stdout",
     "output_type": "stream",
     "text": [
      "['name', 'email_id', 'number']\n",
      "['sudh', 'sudh@gmail.com', '92342342']\n",
      "['krish', 'krish@gmail.com', '9324324242']\n"
     ]
    }
   ],
   "source": [
    "data = [[\"name\", \"email_id\", \"number\"],\n",
    "        [\"sudh\", \"sudh@gmail.com\", '92342342'],  # Convert to string\n",
    "        [\"krish\", \"krish@gmail.com\", '9324324242']  # Convert to string\n",
    "       ]\n",
    "\n",
    "import csv\n",
    "\n",
    "# Write the data to CSV with numeric values as strings\n",
    "with open(\"test3.csv\", 'w', newline='') as f:\n",
    "    csvset = csv.writer(f)\n",
    "    for i in data:\n",
    "        csvset.writerow(i)\n",
    "\n",
    "# Read and print the CSV file\n",
    "with open(\"test3.csv\", 'r') as f:\n",
    "    read = csv.reader(f)\n",
    "    for i in read:\n",
    "        print(i)"
   ]
  },
  {
   "cell_type": "code",
   "execution_count": 40,
   "id": "cd144dee",
   "metadata": {},
   "outputs": [],
   "source": [
    "with open(\"test4.bin\", 'wb') as f :\n",
    "    f.write(b\"\\x01\\x02\\x03\")"
   ]
  },
  {
   "cell_type": "code",
   "execution_count": 38,
   "id": "45f70c24",
   "metadata": {},
   "outputs": [
    {
     "name": "stdout",
     "output_type": "stream",
     "text": [
      "b'\\x01\\x02\\x03'\n"
     ]
    }
   ],
   "source": [
    "with open(\"test4.bin\" , \"rb\") as f :\n",
    "    print(f.read())"
   ]
  },
  {
   "cell_type": "code",
   "execution_count": 14,
   "id": "50c59215",
   "metadata": {},
   "outputs": [],
   "source": [
    "import io\n",
    "\n",
    "with open(\"test365.txt\", \"wb\") as f :\n",
    "    file = io.BufferedWriter(f, buffer_size=1000)\n",
    "    file.write(b\"In physics, string theory is a theoretical framework in which the point-like particles of particle physics are replaced by one-dimensional objects called strings. String theory describes how these strings propagate through space and interact with each other. On distance scales larger than the string scale, a string looks just like an ordinary particle, with its mass, charge, and other properties determined by the vibrational state of the string. In string theory, one of the many vibrational states of the string corresponds to the graviton, a quantum mechanical particle that carries the gravitational force. Thus, string theory is a theory of quantum gravity.String theory is a broad and varied subject that attempts to address a number of deep questions of fundamental physics. String theory has contributed a number of advances to mathematical physics, which have been applied to a variety of problems in black hole physics, early universe cosmology, nuclear physics, and condensed matter physics, and it has stimulated a number of major developments in pure mathematics. Because string theory potentially provides a unified description of gravity and particle physics, it is a candidate for a theory of everything, a self-contained mathematical model that describes all fundamental forces and forms of matter. Despite much work on these problems, it is not known to what extent string theory describes the real world or how much freedom the theory allows in the choice of its details.String theory was first studied in the late 1960s as a theory of the strong nuclear force, before being abandoned in favor of quantum chromodynamics. Subsequently, it was realized that the very properties that made string theory unsuitable as a theory of nuclear physics made it a promising candidate for a quantum theory of gravity. The earliest version of string theory, bosonic string theory, incorporated only the class of particles known as bosons. It later developed into superstring theory, which posits a connection called supersymmetry between bosons and the class of particles called fermions. Five consistent versions of superstring theory were developed before it was conjectured in the mid-1990s that they were all different limiting cases of a single theory in 11 dimensions known as M-theory. In late 1997, theorists discovered an important relationship called the anti-de Sitter/conformal field theory correspondence (AdS/CFT correspondence), which relates string theory to another type of physical theory called a quantum field theory.\")\n",
    "    file.write(b\"\\n\\n naya line\")\n",
    "    file.flush()"
   ]
  },
  {
   "cell_type": "markdown",
   "id": "c7c55939",
   "metadata": {},
   "source": [
    "The `io.BufferedWriter` with a buffer size of 1000 bytes does not guarantee that it will only write exactly 1000 bytes. The buffer size is a performance optimization that dictates how much data will be held in memory before it is actually written to the file. When you call `write()`, the data is written to the buffer, and when the buffer is full (or when you call `flush()`), the buffer contents are written to the file.\n",
    "\n",
    "In your case, the data you're writing is larger than 1000 bytes, so the buffer will fill up multiple times before the `flush()` is called. The `flush()` function forces the data in the buffer to be written to the file, even if it's not full.\n",
    "\n",
    "If you want to limit the number of bytes written to exactly 1000, you would need to control the input data accordingly and only write the first 1000 bytes. Here's how you can achieve that:"
   ]
  },
  {
   "cell_type": "code",
   "execution_count": 32,
   "id": "c1795099",
   "metadata": {},
   "outputs": [],
   "source": [
    "import io\n",
    "\n",
    "with open(\"test365.txt\", \"wb\") as f:\n",
    "    file = io.BufferedWriter(f)\n",
    "    data = b\"In physics, string theory is a theoretical framework in which the point-like particles of particle physics are replaced by one-dimensional objects called strings. String theory describes how these strings propagate through space and interact with each other. On distance scales larger than the string scale, a string looks just like an ordinary particle, with its mass, charge, and other properties determined by the vibrational state of the string. In string theory, one of the many vibrational states of the string corresponds to the graviton, a quantum mechanical particle that carries the gravitational force. Thus, string theory is a theory of quantum gravity.String theory is a broad and varied subject that attempts to address a number of deep questions of fundamental physics. String theory has contributed a number of advances to mathematical physics, which have been applied to a variety of problems in black hole physics, early universe cosmology, nuclear physics, and condensed matter physics, and it has stimulated a number of major developments in pure mathematics. Because string theory potentially provides a unified description of gravity and particle physics, it is a candidate for a theory of everything, a self-contained mathematical model that describes all fundamental forces and forms of matter. Despite much work on these problems, it is not known to what extent string theory describes the real world or how much freedom the theory allows in the choice of its details.String theory was first studied in the late 1960s as a theory of the strong nuclear force, before being abandoned in favor of quantum chromodynamics. Subsequently, it was realized that the very properties that made string theory unsuitable as a theory of nuclear physics made it a promising candidate for a quantum theory of gravity. The earliest version of string theory, bosonic string theory, incorporated only the class of particles known as bosons. It later developed into superstring theory, which posits a connection called supersymmetry between bosons and the class of particles called fermions. Five consistent versions of superstring theory were developed before it was conjectured in the mid-1990s that they were all different limiting cases of a single theory in 11 dimensions known as M-theory. In late 1997, theorists discovered an important relationship called the anti-de Sitter/conformal field theory correspondence (AdS/CFT correspondence), which relates string theory to another type of physical theory called a quantum field theory.\"\n",
    "    file.write(data[:1000])  # Write only the first 1000 bytes\n",
    "    file.flush()\n"
   ]
  },
  {
   "cell_type": "code",
   "execution_count": 33,
   "id": "4956bddf",
   "metadata": {},
   "outputs": [],
   "source": [
    "\n",
    "with open(\"test365.txt\", \"wb\") as f:\n",
    "    file = io.BufferedWriter(f)\n",
    "    data = b\"In physics, string theory is a theoretical framework in which the point-like particles of particle physics are replaced by one-dimensional objects called strings. String theory describes how these strings propagate through space and interact with each other. On distance scales larger than the string scale, a string looks just like an ordinary particle, with its mass, charge, and other properties determined by the vibrational state of the string. In string theory, one of the many vibrational states of the string corresponds to the graviton, a quantum mechanical particle that carries the gravitational force. Thus, string theory is a theory of quantum gravity.String theory is a broad and varied subject that attempts to address a number of deep questions of fundamental physics. String theory has contributed a number of advances to mathematical physics, which have been applied to a variety of problems in black hole physics, early universe cosmology, nuclear physics, and condensed matter physics, and it has stimulated a number of major developments in pure mathematics. Because string theory potentially provides a unified description of gravity and particle physics, it is a candidate for a theory of everything, a self-contained mathematical model that describes all fundamental forces and forms of matter. Despite much work on these problems, it is not known to what extent string theory describes the real world or how much freedom the theory allows in the choice of its details.String theory was first studied in the late 1960s as a theory of the strong nuclear force, before being abandoned in favor of quantum chromodynamics. Subsequently, it was realized that the very properties that made string theory unsuitable as a theory of nuclear physics made it a promising candidate for a quantum theory of gravity. The earliest version of string theory, bosonic string theory, incorporated only the class of particles known as bosons. It later developed into superstring theory, which posits a connection called supersymmetry between bosons and the class of particles called fermions. Five consistent versions of superstring theory were developed before it was conjectured in the mid-1990s that they were all different limiting cases of a single theory in 11 dimensions known as M-theory. In late 1997, theorists discovered an important relationship called the anti-de Sitter/conformal field theory correspondence (AdS/CFT correspondence), which relates string theory to another type of physical theory called a quantum field theory.\"\n",
    "    file.write(data[:1000])  # Write only the first 1000 bytes\n",
    "    file.write(data[1000:2000])\n",
    "    file.flush()\n"
   ]
  },
  {
   "cell_type": "code",
   "execution_count": 38,
   "id": "ad840b53",
   "metadata": {},
   "outputs": [
    {
     "ename": "SyntaxError",
     "evalue": "invalid syntax (847178895.py, line 4)",
     "output_type": "error",
     "traceback": [
      "\u001b[1;36m  Input \u001b[1;32mIn [38]\u001b[1;36m\u001b[0m\n\u001b[1;33m    data2 = file.read([200:500])\u001b[0m\n\u001b[1;37m                          ^\u001b[0m\n\u001b[1;31mSyntaxError\u001b[0m\u001b[1;31m:\u001b[0m invalid syntax\n"
     ]
    }
   ],
   "source": [
    "with open(\"test365.txt\", \"rb\") as f:\n",
    "    file = io.BufferedReader(f)\n",
    "    data = file.read(151)\n",
    "    data2 = file.read([200:500])\n",
    "    print(data)\n",
    "    print(data2)"
   ]
  },
  {
   "cell_type": "code",
   "execution_count": null,
   "id": "c08c07d3",
   "metadata": {
    "scrolled": true
   },
   "outputs": [],
   "source": []
  },
  {
   "cell_type": "markdown",
   "id": "e244a6cc",
   "metadata": {},
   "source": [
    "The line `data2 = file.read([200:500])` is not valid syntax in Python. The correct syntax to read from the file between positions 200 and 500 is to use slicing:\n",
    "\n",
    "```python\n",
    "data2 = file.read()[200:500]\n",
    "```\n",
    "\n",
    "This will read the data from the file and then slice it to include only the bytes from position 200 to 500.\n",
    "\n",
    "Here's the corrected code:\n"
   ]
  },
  {
   "cell_type": "code",
   "execution_count": 39,
   "id": "60e0fb2e",
   "metadata": {},
   "outputs": [
    {
     "name": "stdout",
     "output_type": "stream",
     "text": [
      "b'In physics, string theory is a theoretical framework in which the point-like particles of particle physics are replaced by one-dimensional objects call'\n",
      "b'le, with its mass, charge, and other properties determined by the vibrational state of the string. In string theory, one of the many vibrational states of the string corresponds to the graviton, a quantum mechanical particle that carries the gravitational force. Thus, string theory is a theory of qu'\n"
     ]
    }
   ],
   "source": [
    "with open(\"test365.txt\", \"rb\") as f:\n",
    "    file = io.BufferedReader(f)\n",
    "    data = file.read(151)\n",
    "    data2 = file.read()[200:500]\n",
    "    print(data)\n",
    "    print(data2)"
   ]
  },
  {
   "cell_type": "code",
   "execution_count": null,
   "id": "7dd1315a",
   "metadata": {},
   "outputs": [],
   "source": []
  }
 ],
 "metadata": {
  "kernelspec": {
   "display_name": "Python 3 (ipykernel)",
   "language": "python",
   "name": "python3"
  },
  "language_info": {
   "codemirror_mode": {
    "name": "ipython",
    "version": 3
   },
   "file_extension": ".py",
   "mimetype": "text/x-python",
   "name": "python",
   "nbconvert_exporter": "python",
   "pygments_lexer": "ipython3",
   "version": "3.9.12"
  }
 },
 "nbformat": 4,
 "nbformat_minor": 5
}
