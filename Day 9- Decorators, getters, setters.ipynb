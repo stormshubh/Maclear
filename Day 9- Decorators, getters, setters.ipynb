{
 "cells": [
  {
   "cell_type": "markdown",
   "id": "a40de568",
   "metadata": {},
   "source": [
    "A decorator is a function that takes another function as an argument and returns a new function that modifies the behavior of the original function. The new function is often referred to as a \"decorated\" function. The basic syntax for using a decorator is the following:"
   ]
  },
  {
   "cell_type": "markdown",
   "id": "c85ed60e",
   "metadata": {},
   "source": [
    "Here's a step-by-step explanation of how decorators work:\n",
    "\n",
    "Functions as First-Class Objects: In Python, \n",
    "functions are treated as first-class objects, which means you can:\n",
    "(i)Assign them to variables.\n",
    "(ii)Pass them as arguments to other functions.\n",
    "(iii)Return them from other functions.\n",
    "\n",
    "Defining a Decorator: A decorator is essentially a function that takes another function as its input. It typically adds some functionality to that input function and then returns a new function."
   ]
  },
  {
   "cell_type": "code",
   "execution_count": 1,
   "id": "f3a8eb9d",
   "metadata": {},
   "outputs": [],
   "source": [
    "def my_decorator(func):\n",
    "    def wrapper():\n",
    "        print(\"Something is happening before the function is called.\")\n",
    "        func()\n",
    "        print(\"Something is happening after the function is called.\")\n",
    "    return wrapper"
   ]
  },
  {
   "cell_type": "markdown",
   "id": "efca1006",
   "metadata": {},
   "source": [
    "Using a Decorator: To apply a decorator to a function, you use the \"@\" symbol followed by the decorator's name just above the function definition."
   ]
  },
  {
   "cell_type": "code",
   "execution_count": 2,
   "id": "2c6b1215",
   "metadata": {},
   "outputs": [],
   "source": [
    "@my_decorator\n",
    "def say_hello():\n",
    "    print(\"Hello!\")\n"
   ]
  },
  {
   "cell_type": "markdown",
   "id": "93e11092",
   "metadata": {},
   "source": [
    "Function Execution: When you call say_hello(), it's actually the wrapper() function within my_decorator that gets executed. This allows you to execute code before and after the original say_hello function."
   ]
  },
  {
   "cell_type": "markdown",
   "id": "e197d926",
   "metadata": {},
   "source": [
    "Passing Arguments: If your function takes arguments, you can use *args and **kwargs in the wrapper function to handle them dynamically."
   ]
  },
  {
   "cell_type": "code",
   "execution_count": 11,
   "id": "e32539fd",
   "metadata": {},
   "outputs": [],
   "source": [
    "def my_decorator(func):\n",
    "    def wrapper(*args, **kwargs):\n",
    "        # Access and modify arguments if needed\n",
    "        result = func(*args, **kwargs)\n",
    "        # Perform additional actions\n",
    "        return result\n",
    "    return wrapper"
   ]
  },
  {
   "cell_type": "markdown",
   "id": "7826291b",
   "metadata": {},
   "source": [
    "Need for Returning Results:\n",
    "\n",
    "The return statement in a decorator serves two primary purposes:\n",
    "\n",
    "It allows you to capture the result of the original function that's being decorated (i.e., the return value of func(*args, **kwargs)).\n",
    "\n",
    "It lets you decide whether to return this captured result as is, modify it, or even suppress it by not returning anything."
   ]
  },
  {
   "cell_type": "code",
   "execution_count": 3,
   "id": "60d2df18",
   "metadata": {},
   "outputs": [],
   "source": [
    "def my_decorator(func):\n",
    "    def wrapper(*args, **kwargs):\n",
    "        print(\"Before calling the function\")\n",
    "        result = func(*args, **kwargs)\n",
    "        result += 10  # Modify the result\n",
    "        print(\"After calling the function\")\n",
    "        return result  # Return the modified result\n",
    "    return wrapper\n"
   ]
  },
  {
   "cell_type": "markdown",
   "id": "3e95434a",
   "metadata": {},
   "source": [
    "Need for Returning wrapper:\n",
    "\n",
    "The reason for returning the wrapper function is to replace the original function with the decorated version. When you use @my_decorator, it's the wrapper function that gets called when you invoke the decorated function.\n",
    "\n",
    "Without returning wrapper, the decorator wouldn't have any effect because there would be no function to execute before or after the original function.\n",
    "\n",
    "In essence, you're replacing func with wrapper while still retaining access to func within wrapper. This allows you to execute code before and after the original function's execution."
   ]
  },
  {
   "cell_type": "markdown",
   "id": "d60073a1",
   "metadata": {},
   "source": [
    "Why Arguments Are Not Given Together with my_decorator:\n",
    "\n",
    "In Python, decorators are typically used without arguments when they are applied to functions. However, you can certainly create decorators that accept arguments if you need to customize their behavior. Here's an example:"
   ]
  },
  {
   "cell_type": "code",
   "execution_count": 4,
   "id": "cce6e2fa",
   "metadata": {},
   "outputs": [],
   "source": [
    "def custom_decorator(arg1, arg2):\n",
    "    def decorator(func):\n",
    "        def wrapper(*args, **kwargs):\n",
    "            # Use arg1 and arg2 as needed\n",
    "            result = func(*args, **kwargs)\n",
    "            return result\n",
    "        return wrapper\n",
    "    return decorator"
   ]
  },
  {
   "cell_type": "markdown",
   "id": "1721acd7",
   "metadata": {},
   "source": [
    "With this approach, you can use @custom_decorator(arg1, arg2) to apply the decorator with specific arguments to a function. The outer function (custom_decorator) takes the decorator arguments, and the inner function (decorator) takes the function to be decorated."
   ]
  },
  {
   "cell_type": "markdown",
   "id": "bea6aadd",
   "metadata": {},
   "source": [
    "Let's go through an example where we create a decorator that accepts arguments. We'll build a decorator called repeat that repeats a function's execution a specified number of times. Here's the code:"
   ]
  },
  {
   "cell_type": "code",
   "execution_count": 5,
   "id": "4c7b9274",
   "metadata": {},
   "outputs": [],
   "source": [
    "def repeat(num_repeats):\n",
    "    def decorator(func):\n",
    "        def wrapper(*args, **kwargs):\n",
    "            results = []\n",
    "            for _ in range(num_repeats):\n",
    "                result = func(*args, **kwargs)\n",
    "                results.append(result)\n",
    "            return results\n",
    "        return wrapper\n",
    "    return decorator"
   ]
  },
  {
   "cell_type": "code",
   "execution_count": 7,
   "id": "dfe343fa",
   "metadata": {},
   "outputs": [],
   "source": [
    "# Using the 'repeat' decorator with arguments\n",
    "@repeat(num_repeats=3)\n",
    "def say_hello(name):\n",
    "    return f\"Hello, {name}!\""
   ]
  },
  {
   "cell_type": "code",
   "execution_count": 8,
   "id": "e4fc6763",
   "metadata": {},
   "outputs": [],
   "source": [
    "result = say_hello(\"Alice\")"
   ]
  },
  {
   "cell_type": "code",
   "execution_count": 9,
   "id": "297aac93",
   "metadata": {},
   "outputs": [
    {
     "name": "stdout",
     "output_type": "stream",
     "text": [
      "['Hello, Alice!', 'Hello, Alice!', 'Hello, Alice!']\n"
     ]
    }
   ],
   "source": [
    "print(result)"
   ]
  },
  {
   "cell_type": "markdown",
   "id": "72177eca",
   "metadata": {},
   "source": [
    "Multiple Decorators: You can apply multiple decorators to a single function by stacking them using multiple \"@\" symbols. Decorators are applied from the innermost to the outermost."
   ]
  },
  {
   "cell_type": "code",
   "execution_count": 10,
   "id": "8d0361ff",
   "metadata": {},
   "outputs": [
    {
     "ename": "NameError",
     "evalue": "name 'decorator1' is not defined",
     "output_type": "error",
     "traceback": [
      "\u001b[1;31m---------------------------------------------------------------------------\u001b[0m",
      "\u001b[1;31mNameError\u001b[0m                                 Traceback (most recent call last)",
      "Input \u001b[1;32mIn [10]\u001b[0m, in \u001b[0;36m<cell line: 1>\u001b[1;34m()\u001b[0m\n\u001b[1;32m----> 1\u001b[0m \u001b[38;5;129m@decorator1\u001b[39m\n\u001b[0;32m      2\u001b[0m \u001b[38;5;129m@decorator2\u001b[39m\n\u001b[0;32m      3\u001b[0m \u001b[38;5;28;01mdef\u001b[39;00m \u001b[38;5;21mmy_function\u001b[39m():\n\u001b[0;32m      4\u001b[0m     \u001b[38;5;241m.\u001b[39m\u001b[38;5;241m.\u001b[39m\u001b[38;5;241m.\u001b[39m\n",
      "\u001b[1;31mNameError\u001b[0m: name 'decorator1' is not defined"
     ]
    }
   ],
   "source": [
    "@decorator1\n",
    "@decorator2\n",
    "def my_function():\n",
    "    ...\n"
   ]
  },
  {
   "cell_type": "markdown",
   "id": "ec1dc231",
   "metadata": {},
   "source": [
    "## @decorator_function\n",
    "def my_function():\n",
    "    pass"
   ]
  },
  {
   "cell_type": "markdown",
   "id": "1c74f27f",
   "metadata": {},
   "source": [
    "The @decorator_function notation is just a shorthand for the following code:"
   ]
  },
  {
   "cell_type": "code",
   "execution_count": null,
   "id": "2dca144c",
   "metadata": {},
   "outputs": [],
   "source": [
    "def my_function():\n",
    "    pass\n",
    "my_function = decorator_function(my_function)"
   ]
  },
  {
   "cell_type": "markdown",
   "id": "6e59c5fc",
   "metadata": {},
   "source": [
    "Decorators are often used to add functionality to functions and methods, such as logging, memoization, and access control."
   ]
  },
  {
   "cell_type": "code",
   "execution_count": 14,
   "id": "184ba87d",
   "metadata": {},
   "outputs": [
    {
     "name": "stdout",
     "output_type": "stream",
     "text": [
      "Decorator: Before function execution\n",
      "yo, man\n",
      "Decorator: After function execution\n",
      "Decorator: Before function execution\n",
      "Hello, John!\n",
      "Decorator: After function execution\n"
     ]
    }
   ],
   "source": [
    "\n",
    "def decorator_function(original_function):\n",
    "    def wrapper_function(*args, **kwargs):\n",
    "        # Perform some actions before the original function is called\n",
    "        print(\"Decorator: Before function execution\")\n",
    "\n",
    "        # Call the original function\n",
    "        result = original_function(*args, **kwargs)\n",
    "\n",
    "        # Perform some actions after the original function is called\n",
    "        print(\"Decorator: After function execution\")\n",
    "\n",
    "        # Return the result of the original function\n",
    "        return result\n",
    "\n",
    "    return wrapper_function\n",
    "def reet(name):\n",
    "    print(f\"yo, {name}\")\n",
    "my_function = decorator_function(reet)\n",
    "my_function(\"man\")\n",
    "@decorator_function\n",
    "def greet(name):\n",
    "    print(f\"Hello, {name}!\")\n",
    "\n",
    "greet(\"John\")"
   ]
  },
  {
   "cell_type": "code",
   "execution_count": 21,
   "id": "789714bf",
   "metadata": {},
   "outputs": [
    {
     "name": "stdout",
     "output_type": "stream",
     "text": [
      "Decorator: Before addition\n",
      "22\n",
      "Decorator: After addition\n",
      "Decorator: Before addition\n",
      "14\n",
      "Decorator: After addition\n"
     ]
    },
    {
     "data": {
      "text/plain": [
       "14"
      ]
     },
     "execution_count": 21,
     "metadata": {},
     "output_type": "execute_result"
    }
   ],
   "source": [
    "def decorator_function(original_function):\n",
    "    def wrapper_function(a, b):\n",
    "        # Perform some actions before the original function is called\n",
    "        print(\"Decorator: Before addition\")\n",
    "\n",
    "        # Call the original function\n",
    "        result = original_function(a, b)\n",
    "        print(result)\n",
    "\n",
    "        # Perform some actions after the original function is called\n",
    "        print(\"Decorator: After addition\")\n",
    "\n",
    "        # Return the result of the original function\n",
    "        return result\n",
    "\n",
    "    return wrapper_function\n",
    "\n",
    "@decorator_function\n",
    "def addition(a, b):\n",
    "    return a + b\n",
    "addition(9,13)\n",
    "\n",
    "def sum(a,b):\n",
    "    return a+b\n",
    "\n",
    "mf=decorator_function(sum)\n",
    "mf(6,8)\n"
   ]
  },
  {
   "cell_type": "code",
   "execution_count": 11,
   "id": "850ccf0a",
   "metadata": {},
   "outputs": [
    {
     "name": "stdout",
     "output_type": "stream",
     "text": [
      "Decorator: Before addition\n"
     ]
    },
    {
     "ename": "NameError",
     "evalue": "name 'a' is not defined",
     "output_type": "error",
     "traceback": [
      "\u001b[1;31m---------------------------------------------------------------------------\u001b[0m",
      "\u001b[1;31mNameError\u001b[0m                                 Traceback (most recent call last)",
      "Input \u001b[1;32mIn [11]\u001b[0m, in \u001b[0;36m<cell line: 13>\u001b[1;34m()\u001b[0m\n\u001b[0;32m      9\u001b[0m         \u001b[38;5;66;03m# Perform some actions after the original function is called\u001b[39;00m\n\u001b[0;32m     10\u001b[0m         \u001b[38;5;28mprint\u001b[39m(\u001b[38;5;124m\"\u001b[39m\u001b[38;5;124mDecorator: After addition\u001b[39m\u001b[38;5;124m\"\u001b[39m)\n\u001b[0;32m     13\u001b[0m \u001b[38;5;129;43m@decorator_function\u001b[39;49m\n\u001b[1;32m---> 14\u001b[0m \u001b[38;5;28;43;01mdef\u001b[39;49;00m\u001b[43m \u001b[49m\u001b[38;5;21;43maddition\u001b[39;49m\u001b[43m(\u001b[49m\u001b[43ma\u001b[49m\u001b[43m,\u001b[49m\u001b[43m \u001b[49m\u001b[43mb\u001b[49m\u001b[43m)\u001b[49m\u001b[43m:\u001b[49m\n\u001b[0;32m     15\u001b[0m \u001b[43m    \u001b[49m\u001b[38;5;28;43;01mreturn\u001b[39;49;00m\u001b[43m \u001b[49m\u001b[43ma\u001b[49m\u001b[43m \u001b[49m\u001b[38;5;241;43m+\u001b[39;49m\u001b[43m \u001b[49m\u001b[43mb\u001b[49m\n",
      "Input \u001b[1;32mIn [11]\u001b[0m, in \u001b[0;36mdecorator_function\u001b[1;34m(original_function)\u001b[0m\n\u001b[0;32m      3\u001b[0m \u001b[38;5;28mprint\u001b[39m(\u001b[38;5;124m\"\u001b[39m\u001b[38;5;124mDecorator: Before addition\u001b[39m\u001b[38;5;124m\"\u001b[39m)\n\u001b[0;32m      5\u001b[0m \u001b[38;5;66;03m# Call the original function\u001b[39;00m\n\u001b[1;32m----> 6\u001b[0m result \u001b[38;5;241m=\u001b[39m original_function(\u001b[43ma\u001b[49m, b)\n\u001b[0;32m      7\u001b[0m \u001b[38;5;28mprint\u001b[39m(result)\n\u001b[0;32m      9\u001b[0m \u001b[38;5;66;03m# Perform some actions after the original function is called\u001b[39;00m\n",
      "\u001b[1;31mNameError\u001b[0m: name 'a' is not defined"
     ]
    }
   ],
   "source": [
    "def decorator_function(original_function):\n",
    "        # Perform some actions before the original function is called\n",
    "        print(\"Decorator: Before addition\")\n",
    "\n",
    "        # Call the original function\n",
    "        result = original_function(a, b)\n",
    "        print(result)\n",
    "\n",
    "        # Perform some actions after the original function is called\n",
    "        print(\"Decorator: After addition\")\n",
    "\n",
    "        \n",
    "@decorator_function\n",
    "def addition(a, b):\n",
    "    return a + b\n"
   ]
  },
  {
   "cell_type": "markdown",
   "id": "e4d50449",
   "metadata": {},
   "source": [
    "The error you're encountering is because the decorator_function is trying to access the variables a and b inside the original_function, but these variables are not defined within the scope of decorator_function. You need to pass these arguments to the decorator_function so that it can pass them on to the original_function. Here's how you can modify your code to make it work:"
   ]
  },
  {
   "cell_type": "code",
   "execution_count": 8,
   "id": "5763cb64",
   "metadata": {},
   "outputs": [],
   "source": [
    "def test():\n",
    "    print(\"this is the start of my fun\")\n",
    "    print(4+5)\n",
    "    print(\"this is the end of my fun\")\n"
   ]
  },
  {
   "cell_type": "code",
   "execution_count": 9,
   "id": "daa7a9d0",
   "metadata": {},
   "outputs": [
    {
     "name": "stdout",
     "output_type": "stream",
     "text": [
      "this is the start of my fun\n",
      "9\n",
      "this is the end of my fun\n"
     ]
    }
   ],
   "source": [
    "test()"
   ]
  },
  {
   "cell_type": "code",
   "execution_count": 6,
   "id": "6599400f",
   "metadata": {},
   "outputs": [],
   "source": [
    "def deco(func):\n",
    "    def inner_deco():\n",
    "        print(\"this is the start of my fun\")\n",
    "        func()\n",
    "        print(\"this is the end of my fun\")\n",
    "    return inner_deco"
   ]
  },
  {
   "cell_type": "code",
   "execution_count": null,
   "id": "7083da3f",
   "metadata": {},
   "outputs": [],
   "source": []
  },
  {
   "cell_type": "code",
   "execution_count": 7,
   "id": "835c1b0a",
   "metadata": {},
   "outputs": [],
   "source": [
    "@deco\n",
    "def test1():\n",
    "    print(4+5)"
   ]
  },
  {
   "cell_type": "code",
   "execution_count": null,
   "id": "10e8a737",
   "metadata": {},
   "outputs": [],
   "source": []
  },
  {
   "cell_type": "code",
   "execution_count": 12,
   "id": "4bd2e1a1",
   "metadata": {},
   "outputs": [
    {
     "name": "stdout",
     "output_type": "stream",
     "text": [
      "this is the start of my fun\n",
      "9\n",
      "this is the end of my fun\n"
     ]
    }
   ],
   "source": [
    "test1()"
   ]
  },
  {
   "cell_type": "code",
   "execution_count": 2,
   "id": "702901ce",
   "metadata": {},
   "outputs": [],
   "source": [
    "def deco1(func):\n",
    "    print(\"this is the start of my fun\")\n",
    "    func()\n",
    "    print(\"this is the end of my fun\")"
   ]
  },
  {
   "cell_type": "code",
   "execution_count": 3,
   "id": "796fc5b1",
   "metadata": {},
   "outputs": [
    {
     "name": "stdout",
     "output_type": "stream",
     "text": [
      "this is the start of my fun\n",
      "9\n",
      "this is the end of my fun\n"
     ]
    }
   ],
   "source": [
    "@deco1\n",
    "def test34():\n",
    "    print(4+5)"
   ]
  },
  {
   "cell_type": "code",
   "execution_count": 5,
   "id": "bb442ec4",
   "metadata": {},
   "outputs": [
    {
     "ename": "TypeError",
     "evalue": "'NoneType' object is not callable",
     "output_type": "error",
     "traceback": [
      "\u001b[1;31m---------------------------------------------------------------------------\u001b[0m",
      "\u001b[1;31mTypeError\u001b[0m                                 Traceback (most recent call last)",
      "Input \u001b[1;32mIn [5]\u001b[0m, in \u001b[0;36m<cell line: 1>\u001b[1;34m()\u001b[0m\n\u001b[1;32m----> 1\u001b[0m tb\u001b[38;5;241m=\u001b[39m\u001b[43mtest34\u001b[49m\u001b[43m(\u001b[49m\u001b[43m)\u001b[49m\n",
      "\u001b[1;31mTypeError\u001b[0m: 'NoneType' object is not callable"
     ]
    }
   ],
   "source": [
    "tb=test34()"
   ]
  },
  {
   "cell_type": "code",
   "execution_count": 3,
   "id": "01cf22ac",
   "metadata": {},
   "outputs": [],
   "source": [
    "import time\n",
    "def timer_test(func) :\n",
    "    def timer_test_inner():\n",
    "        start = time.time()\n",
    "        func()\n",
    "        end = time.time()\n",
    "        print(end-start)\n",
    "    return timer_test_inner"
   ]
  },
  {
   "cell_type": "code",
   "execution_count": 4,
   "id": "1561e32f",
   "metadata": {},
   "outputs": [],
   "source": [
    "@timer_test\n",
    "def test2():\n",
    "    print(45+67)"
   ]
  },
  {
   "cell_type": "code",
   "execution_count": 5,
   "id": "77bda9d5",
   "metadata": {},
   "outputs": [
    {
     "name": "stdout",
     "output_type": "stream",
     "text": [
      "112\n",
      "0.0\n"
     ]
    }
   ],
   "source": [
    "test2()"
   ]
  },
  {
   "cell_type": "code",
   "execution_count": 6,
   "id": "05de624c",
   "metadata": {},
   "outputs": [],
   "source": [
    "@timer_test\n",
    "def test3():\n",
    "    for i in range(100000000):\n",
    "        pass"
   ]
  },
  {
   "cell_type": "code",
   "execution_count": 7,
   "id": "04cf187e",
   "metadata": {},
   "outputs": [
    {
     "name": "stdout",
     "output_type": "stream",
     "text": [
      "2.950721502304077\n"
     ]
    }
   ],
   "source": [
    "test3()"
   ]
  },
  {
   "cell_type": "code",
   "execution_count": 2,
   "id": "46f931c1",
   "metadata": {},
   "outputs": [
    {
     "data": {
      "text/plain": [
       "1689321018.0652318"
      ]
     },
     "execution_count": 2,
     "metadata": {},
     "output_type": "execute_result"
    }
   ],
   "source": [
    "import time\n",
    "time.time()"
   ]
  },
  {
   "cell_type": "code",
   "execution_count": 22,
   "id": "dce536a7",
   "metadata": {},
   "outputs": [],
   "source": [
    "import time\n",
    "def timer_test(func) :\n",
    "    def timer_test_inner():\n",
    "        start = time.time()\n",
    "        func()\n",
    "        end = time.time()\n",
    "        print(end-start)\n",
    "    return timer_test_inner"
   ]
  },
  {
   "cell_type": "code",
   "execution_count": 23,
   "id": "5b998677",
   "metadata": {},
   "outputs": [],
   "source": [
    "@timer_test\n",
    "def test2():\n",
    "    print(45+67)"
   ]
  },
  {
   "cell_type": "code",
   "execution_count": 24,
   "id": "011654e8",
   "metadata": {},
   "outputs": [
    {
     "name": "stdout",
     "output_type": "stream",
     "text": [
      "112\n",
      "0.0\n"
     ]
    }
   ],
   "source": [
    "test2()"
   ]
  },
  {
   "cell_type": "code",
   "execution_count": 25,
   "id": "dda9c8ef",
   "metadata": {},
   "outputs": [
    {
     "name": "stdout",
     "output_type": "stream",
     "text": [
      "112\n",
      "0.0\n"
     ]
    }
   ],
   "source": [
    "test2()"
   ]
  },
  {
   "cell_type": "code",
   "execution_count": 29,
   "id": "432a0de2",
   "metadata": {},
   "outputs": [
    {
     "name": "stdout",
     "output_type": "stream",
     "text": [
      "112\n",
      "0.0\n"
     ]
    },
    {
     "data": {
      "text/plain": [
       "<function __main__.timer_test.<locals>.timer_test_inner()>"
      ]
     },
     "execution_count": 29,
     "metadata": {},
     "output_type": "execute_result"
    }
   ],
   "source": [
    "timer_test(test2())"
   ]
  },
  {
   "cell_type": "code",
   "execution_count": 30,
   "id": "f4f35801",
   "metadata": {},
   "outputs": [
    {
     "ename": "NameError",
     "evalue": "name 'timer_test_inner' is not defined",
     "output_type": "error",
     "traceback": [
      "\u001b[1;31m---------------------------------------------------------------------------\u001b[0m",
      "\u001b[1;31mNameError\u001b[0m                                 Traceback (most recent call last)",
      "Input \u001b[1;32mIn [30]\u001b[0m, in \u001b[0;36m<cell line: 1>\u001b[1;34m()\u001b[0m\n\u001b[1;32m----> 1\u001b[0m \u001b[43mtimer_test_inner\u001b[49m()\n",
      "\u001b[1;31mNameError\u001b[0m: name 'timer_test_inner' is not defined"
     ]
    }
   ],
   "source": [
    "timer_test_inner()"
   ]
  },
  {
   "cell_type": "code",
   "execution_count": 35,
   "id": "8939e625",
   "metadata": {},
   "outputs": [],
   "source": [
    "import time\n",
    "def timer_test1(func) :\n",
    "    def timer_test_inner():\n",
    "        start = 2*time.time()\n",
    "        func()\n",
    "        end = time.time()\n",
    "        print(end-start)\n",
    "    return timer_test_inner"
   ]
  },
  {
   "cell_type": "code",
   "execution_count": 37,
   "id": "080d4877",
   "metadata": {},
   "outputs": [],
   "source": [
    "@timer_test1\n",
    "def test3():\n",
    "    print(\"Sm\"+\"ya\")"
   ]
  },
  {
   "cell_type": "code",
   "execution_count": 38,
   "id": "bc2ddc27",
   "metadata": {},
   "outputs": [
    {
     "name": "stdout",
     "output_type": "stream",
     "text": [
      "Smya\n",
      "-1689322269.2993948\n"
     ]
    }
   ],
   "source": [
    "test3()"
   ]
  },
  {
   "cell_type": "code",
   "execution_count": 1,
   "id": "c9358486",
   "metadata": {},
   "outputs": [
    {
     "ename": "NameError",
     "evalue": "name 'timer_test' is not defined",
     "output_type": "error",
     "traceback": [
      "\u001b[1;31m---------------------------------------------------------------------------\u001b[0m",
      "\u001b[1;31mNameError\u001b[0m                                 Traceback (most recent call last)",
      "Input \u001b[1;32mIn [1]\u001b[0m, in \u001b[0;36m<cell line: 1>\u001b[1;34m()\u001b[0m\n\u001b[1;32m----> 1\u001b[0m \u001b[38;5;129m@timer_test\u001b[39m\n\u001b[0;32m      2\u001b[0m \u001b[38;5;28;01mdef\u001b[39;00m \u001b[38;5;21mtest3\u001b[39m():\n\u001b[0;32m      3\u001b[0m     \u001b[38;5;28;01mfor\u001b[39;00m i \u001b[38;5;129;01min\u001b[39;00m \u001b[38;5;28mrange\u001b[39m(\u001b[38;5;241m100000000\u001b[39m):\n\u001b[0;32m      4\u001b[0m         \u001b[38;5;28;01mpass\u001b[39;00m\n",
      "\u001b[1;31mNameError\u001b[0m: name 'timer_test' is not defined"
     ]
    }
   ],
   "source": [
    "@timer_test\n",
    "def test3():\n",
    "    for i in range(100000000):\n",
    "        pass"
   ]
  },
  {
   "cell_type": "code",
   "execution_count": 9,
   "id": "7702b54b",
   "metadata": {},
   "outputs": [],
   "source": [
    "import time\n",
    "def timer_testi(func) :\n",
    "    start = time.time()\n",
    "    func()\n",
    "    end = time.time()\n",
    "    print(2*end-start)\n",
    "    return timer_testi"
   ]
  },
  {
   "cell_type": "code",
   "execution_count": 10,
   "id": "033b897b",
   "metadata": {},
   "outputs": [
    {
     "name": "stdout",
     "output_type": "stream",
     "text": [
      "112\n",
      "1689529598.1980789\n"
     ]
    }
   ],
   "source": [
    "@timer_testi\n",
    "def test():\n",
    "    print(45+67)"
   ]
  },
  {
   "cell_type": "code",
   "execution_count": 14,
   "id": "9bc7f01b",
   "metadata": {},
   "outputs": [
    {
     "ename": "NameError",
     "evalue": "name 'args' is not defined",
     "output_type": "error",
     "traceback": [
      "\u001b[1;31m---------------------------------------------------------------------------\u001b[0m",
      "\u001b[1;31mNameError\u001b[0m                                 Traceback (most recent call last)",
      "Input \u001b[1;32mIn [14]\u001b[0m, in \u001b[0;36m<cell line: 5>\u001b[1;34m()\u001b[0m\n\u001b[0;32m      2\u001b[0m     \u001b[38;5;28mprint\u001b[39m(\u001b[38;5;124mf\u001b[39m\u001b[38;5;124m\"\u001b[39m\u001b[38;5;124mThe arguments passed to \u001b[39m\u001b[38;5;132;01m{\u001b[39;00mfunc\u001b[38;5;241m.\u001b[39m\u001b[38;5;18m__name__\u001b[39m\u001b[38;5;132;01m}\u001b[39;00m\u001b[38;5;124m are: \u001b[39m\u001b[38;5;132;01m{\u001b[39;00margs\u001b[38;5;132;01m}\u001b[39;00m\u001b[38;5;124m, \u001b[39m\u001b[38;5;132;01m{\u001b[39;00mkwargs\u001b[38;5;132;01m}\u001b[39;00m\u001b[38;5;124m\"\u001b[39m)\n\u001b[0;32m      3\u001b[0m     func(\u001b[38;5;241m*\u001b[39margs, \u001b[38;5;241m*\u001b[39m\u001b[38;5;241m*\u001b[39mkwargs)\n\u001b[0;32m      5\u001b[0m \u001b[38;5;129;43m@log_args\u001b[39;49m\n\u001b[1;32m----> 6\u001b[0m \u001b[38;5;28;43;01mdef\u001b[39;49;00m\u001b[43m \u001b[49m\u001b[38;5;21;43mmy_function\u001b[39;49m\u001b[43m(\u001b[49m\u001b[43ma\u001b[49m\u001b[43m,\u001b[49m\u001b[43m \u001b[49m\u001b[43mb\u001b[49m\u001b[43m)\u001b[49m\u001b[43m:\u001b[49m\n\u001b[0;32m      7\u001b[0m \u001b[43m    \u001b[49m\u001b[38;5;28;43mprint\u001b[39;49m\u001b[43m(\u001b[49m\u001b[43ma\u001b[49m\u001b[43m \u001b[49m\u001b[38;5;241;43m+\u001b[39;49m\u001b[43m \u001b[49m\u001b[43mb\u001b[49m\u001b[43m)\u001b[49m\n\u001b[0;32m      9\u001b[0m my_function(\u001b[38;5;241m1\u001b[39m, \u001b[38;5;241m2\u001b[39m)\n",
      "Input \u001b[1;32mIn [14]\u001b[0m, in \u001b[0;36mlog_args\u001b[1;34m(func)\u001b[0m\n\u001b[0;32m      1\u001b[0m \u001b[38;5;28;01mdef\u001b[39;00m \u001b[38;5;21mlog_args\u001b[39m(func):\n\u001b[1;32m----> 2\u001b[0m     \u001b[38;5;28mprint\u001b[39m(\u001b[38;5;124mf\u001b[39m\u001b[38;5;124m\"\u001b[39m\u001b[38;5;124mThe arguments passed to \u001b[39m\u001b[38;5;132;01m{\u001b[39;00mfunc\u001b[38;5;241m.\u001b[39m\u001b[38;5;18m__name__\u001b[39m\u001b[38;5;132;01m}\u001b[39;00m\u001b[38;5;124m are: \u001b[39m\u001b[38;5;132;01m{\u001b[39;00margs\u001b[38;5;132;01m}\u001b[39;00m\u001b[38;5;124m, \u001b[39m\u001b[38;5;132;01m{\u001b[39;00mkwargs\u001b[38;5;132;01m}\u001b[39;00m\u001b[38;5;124m\"\u001b[39m)\n\u001b[0;32m      3\u001b[0m     func(\u001b[38;5;241m*\u001b[39margs, \u001b[38;5;241m*\u001b[39m\u001b[38;5;241m*\u001b[39mkwargs)\n",
      "\u001b[1;31mNameError\u001b[0m: name 'args' is not defined"
     ]
    }
   ],
   "source": [
    "def log_args(func):\n",
    "    print(f\"The arguments passed to {func.__name__} are: {args}, {kwargs}\")\n",
    "    func(*args, **kwargs)\n",
    "\n",
    "@log_args\n",
    "def my_function(a, b):\n",
    "    print(a + b)\n",
    "\n",
    "my_function(1, 2)"
   ]
  },
  {
   "cell_type": "code",
   "execution_count": 21,
   "id": "0e73cf37",
   "metadata": {},
   "outputs": [
    {
     "name": "stdout",
     "output_type": "stream",
     "text": [
      "Decorator: Before function execution\n",
      "Hello, John!\n",
      "Decorator: After function execution\n"
     ]
    }
   ],
   "source": [
    "def decorator_function(original_function):\n",
    "    def wrapper_function(*args, **kwargs):\n",
    "        # Perform some actions before the original function is called\n",
    "        print(\"Decorator: Before function execution\")\n",
    "\n",
    "        # Call the original function\n",
    "        result = original_function(*args, **kwargs)\n",
    "\n",
    "        # Perform some actions after the original function is called\n",
    "        print(\"Decorator: After function execution\")\n",
    "\n",
    "        # Return the result of the original function\n",
    "        return result\n",
    "\n",
    "    return wrapper_function\n",
    "\n",
    "@decorator_function\n",
    "def greet(name):\n",
    "    print(f\"Hello, {name}!\")\n",
    "\n",
    "greet(\"John\")\n"
   ]
  },
  {
   "cell_type": "code",
   "execution_count": 18,
   "id": "8758f100",
   "metadata": {},
   "outputs": [
    {
     "name": "stdout",
     "output_type": "stream",
     "text": [
      "Decorator: Before function execution\n",
      "Hello, World!\n",
      "Decorator: After function execution\n"
     ]
    }
   ],
   "source": [
    "def decorator_function(original_function):\n",
    "    # Perform some actions before the original function is called\n",
    "    print(\"Decorator: Before function execution\")\n",
    "\n",
    "    # Call the original function\n",
    "    result = original_function()\n",
    "\n",
    "    # Perform some actions after the original function is called\n",
    "    print(\"Decorator: After function execution\")\n",
    "\n",
    "    # Return the result of the original function\n",
    "    return result\n",
    "\n",
    "@decorator_function\n",
    "def greet():\n",
    "    print(\"Hello, World!\")\n"
   ]
  },
  {
   "cell_type": "code",
   "execution_count": 19,
   "id": "d7313f54",
   "metadata": {},
   "outputs": [
    {
     "ename": "TypeError",
     "evalue": "'NoneType' object is not callable",
     "output_type": "error",
     "traceback": [
      "\u001b[1;31m---------------------------------------------------------------------------\u001b[0m",
      "\u001b[1;31mTypeError\u001b[0m                                 Traceback (most recent call last)",
      "Input \u001b[1;32mIn [19]\u001b[0m, in \u001b[0;36m<cell line: 1>\u001b[1;34m()\u001b[0m\n\u001b[1;32m----> 1\u001b[0m \u001b[43mgreet\u001b[49m\u001b[43m(\u001b[49m\u001b[43m)\u001b[49m\n",
      "\u001b[1;31mTypeError\u001b[0m: 'NoneType' object is not callable"
     ]
    }
   ],
   "source": [
    "greet()"
   ]
  },
  {
   "cell_type": "code",
   "execution_count": null,
   "id": "7af4ad0e",
   "metadata": {},
   "outputs": [],
   "source": []
  }
 ],
 "metadata": {
  "kernelspec": {
   "display_name": "Python 3 (ipykernel)",
   "language": "python",
   "name": "python3"
  },
  "language_info": {
   "codemirror_mode": {
    "name": "ipython",
    "version": 3
   },
   "file_extension": ".py",
   "mimetype": "text/x-python",
   "name": "python",
   "nbconvert_exporter": "python",
   "pygments_lexer": "ipython3",
   "version": "3.9.12"
  },
  "widgets": {
   "application/vnd.jupyter.widget-state+json": {
    "state": {},
    "version_major": 2,
    "version_minor": 0
   }
  }
 },
 "nbformat": 4,
 "nbformat_minor": 5
}
