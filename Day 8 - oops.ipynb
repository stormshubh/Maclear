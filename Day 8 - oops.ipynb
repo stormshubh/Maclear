{
 "cells": [
  {
   "cell_type": "markdown",
   "id": "1c983819",
   "metadata": {},
   "source": [
    "\n",
    "\\Introduction to Object-Oriented Programming in Python: In programming languages, mainly there are two approaches that are used to write program or code.\n",
    "\n",
    "1). Procedural Programming\n",
    "2). Object-Oriented Programming\n",
    "The procedure we are following till now is the “Procedural Programming” approach.\n",
    "\n",
    "So, in this session, we will learn about Object Oriented Programming (OOP). The basic idea of object-oriented programming (OOP) in Python is to use classes and objects to represent real-world concepts and entities.\n",
    "\n",
    "A class is a blueprint or template for creating objects. It defines the properties and methods that an object of that class will have. Properties are the data or state of an object, and methods are the actions or behaviors that an object can perform.\n",
    "\n",
    "An object is an instance of a class, and it contains its own data and methods. For example, you could create a class called \"Person\" that has properties such as name and age, and methods such as speak() and walk(). Each instance of the Person class would be a unique object with its own name and age, but they would all have the same methods to speak and walk.\n",
    "\n",
    "\"Oops\" stands for Object-Oriented Programming System\n",
    "\n",
    "Procedural Programming\n",
    "\n",
    "It is defined as a programming language derived from the structure programming and based on calling procedures. The procedures are the functions, routines, or subroutines that consist of the computational steps required to be carried. It follows a step-by-step approach in order to break down a task into a set of variables and routines via a sequence of instructions.\n",
    "\n",
    "During the program's execution, a procedure can be called at any point, either by other procedures or by itself. The examples of procedural programming are ALGOL, COBOL, BASIC, PASCAL, FORTRAN, and C.\n",
    "\n",
    "As compared to object-oriented programming, procedural programming is less secure. Procedural programming follows a top-down approach during the designing of a program. It gives importance to the concept of the function and divides the large programs into smaller parts or called as functions. Procedural programming is straightforward. Unlike object-oriented programming, there are no access modifiers introduced in procedural programming.\n",
    "\n",
    "Object-oriented programming\n",
    "\n",
    "Object-oriented programming is a computer programming design philosophy or methodology that organizes/ models software design around data or objects rather than functions and logic. It includes two words, \"object\" and \"oriented\". In a dictionary object is an article or entity that exists in the real world. The meaning of oriented is interested in a particular kind of thing or entity. In layman's terms, it is a programming pattern that rounds around an object or entity.\n",
    "\n",
    "The programming paradigm where everything is represented as an object is known as a truly object-oriented programming language. Smalltalk is said to be the first truly object-oriented programming language."
   ]
  },
  {
   "cell_type": "code",
   "execution_count": 1,
   "id": "3ec4aab2",
   "metadata": {},
   "outputs": [],
   "source": [
    "a=1"
   ]
  },
  {
   "cell_type": "code",
   "execution_count": 2,
   "id": "95a2567d",
   "metadata": {},
   "outputs": [
    {
     "name": "stdout",
     "output_type": "stream",
     "text": [
      "<class 'int'>\n"
     ]
    }
   ],
   "source": [
    "print(type(a))"
   ]
  },
  {
   "cell_type": "markdown",
   "id": "eabb3fe7",
   "metadata": {},
   "source": [
    "1) Code will be clean\n",
    "2) code will be maintainable\n",
    "3) Better readability\n",
    "4) Reusability\n",
    "5) through modularity we can achieve modifications in a better manner"
   ]
  },
  {
   "cell_type": "code",
   "execution_count": 6,
   "id": "2dc23a45",
   "metadata": {},
   "outputs": [
    {
     "ename": "IndentationError",
     "evalue": "expected an indented block (1236307212.py, line 2)",
     "output_type": "error",
     "traceback": [
      "\u001b[1;36m  Input \u001b[1;32mIn [6]\u001b[1;36m\u001b[0m\n\u001b[1;33m    \u001b[0m\n\u001b[1;37m    ^\u001b[0m\n\u001b[1;31mIndentationError\u001b[0m\u001b[1;31m:\u001b[0m expected an indented block\n"
     ]
    }
   ],
   "source": [
    "class test:\n",
    "    "
   ]
  },
  {
   "cell_type": "code",
   "execution_count": 7,
   "id": "d437b324",
   "metadata": {},
   "outputs": [],
   "source": [
    "class test:\n",
    "    pass"
   ]
  },
  {
   "cell_type": "code",
   "execution_count": 8,
   "id": "36e5b7e0",
   "metadata": {},
   "outputs": [],
   "source": [
    "a=test()"
   ]
  },
  {
   "cell_type": "code",
   "execution_count": 9,
   "id": "7ec6b50b",
   "metadata": {},
   "outputs": [
    {
     "name": "stdout",
     "output_type": "stream",
     "text": [
      "<class '__main__.test'>\n"
     ]
    }
   ],
   "source": [
    "print(type(a))"
   ]
  },
  {
   "cell_type": "code",
   "execution_count": 10,
   "id": "1fde605d",
   "metadata": {},
   "outputs": [
    {
     "data": {
      "text/plain": [
       "__main__.test"
      ]
     },
     "execution_count": 10,
     "metadata": {},
     "output_type": "execute_result"
    }
   ],
   "source": [
    "type(a)"
   ]
  },
  {
   "cell_type": "code",
   "execution_count": 24,
   "id": "a6f194ac",
   "metadata": {},
   "outputs": [],
   "source": [
    "#real world instance of class is object\n",
    "#a is a object"
   ]
  },
  {
   "cell_type": "markdown",
   "id": "952efae1",
   "metadata": {},
   "source": [
    "A class is a blueprint or a template for creating objects, providing initial values for state (member variables or attributes), and implementations of behavior (member functions or methods). The user-defined objects are created using the class keyword."
   ]
  },
  {
   "cell_type": "code",
   "execution_count": 12,
   "id": "982b08f5",
   "metadata": {},
   "outputs": [],
   "source": [
    "class num1:\n",
    "    def come_msg():\n",
    "        print(\"you wanna come\")"
   ]
  },
  {
   "cell_type": "markdown",
   "id": "0edb248d",
   "metadata": {},
   "source": [
    "Object is the instance of the class used to access the properties of the class Now lets create an object of the class."
   ]
  },
  {
   "cell_type": "code",
   "execution_count": 13,
   "id": "e01fd257",
   "metadata": {},
   "outputs": [],
   "source": [
    "b=num1()"
   ]
  },
  {
   "cell_type": "code",
   "execution_count": 14,
   "id": "3a11fca2",
   "metadata": {},
   "outputs": [
    {
     "ename": "TypeError",
     "evalue": "come_msg() takes 0 positional arguments but 1 was given",
     "output_type": "error",
     "traceback": [
      "\u001b[1;31m---------------------------------------------------------------------------\u001b[0m",
      "\u001b[1;31mTypeError\u001b[0m                                 Traceback (most recent call last)",
      "Input \u001b[1;32mIn [14]\u001b[0m, in \u001b[0;36m<cell line: 1>\u001b[1;34m()\u001b[0m\n\u001b[1;32m----> 1\u001b[0m \u001b[43mb\u001b[49m\u001b[38;5;241;43m.\u001b[39;49m\u001b[43mcome_msg\u001b[49m\u001b[43m(\u001b[49m\u001b[43m)\u001b[49m\n",
      "\u001b[1;31mTypeError\u001b[0m: come_msg() takes 0 positional arguments but 1 was given"
     ]
    }
   ],
   "source": [
    "b.come_msg()"
   ]
  },
  {
   "cell_type": "markdown",
   "id": "73533c20",
   "metadata": {},
   "source": [
    "so the above error is because, whenever we define a funct inside class, we have to give a pointer argument to the function so that the class understands this method belongs to it, and the class variables or objects can access it"
   ]
  },
  {
   "cell_type": "code",
   "execution_count": 15,
   "id": "99248b3a",
   "metadata": {},
   "outputs": [],
   "source": [
    "class num1:\n",
    "    def come_msg(self):\n",
    "        print(\"you wanna come\")"
   ]
  },
  {
   "cell_type": "code",
   "execution_count": 16,
   "id": "07f322da",
   "metadata": {},
   "outputs": [],
   "source": [
    "b=num1()"
   ]
  },
  {
   "cell_type": "code",
   "execution_count": 18,
   "id": "8596c012",
   "metadata": {},
   "outputs": [
    {
     "name": "stdout",
     "output_type": "stream",
     "text": [
      "you wanna come\n"
     ]
    }
   ],
   "source": [
    "b.come_msg()"
   ]
  },
  {
   "cell_type": "code",
   "execution_count": 19,
   "id": "ac163875",
   "metadata": {},
   "outputs": [],
   "source": [
    "c=num1()"
   ]
  },
  {
   "cell_type": "code",
   "execution_count": 25,
   "id": "2c323e2d",
   "metadata": {},
   "outputs": [
    {
     "name": "stdout",
     "output_type": "stream",
     "text": [
      "you wanna come\n"
     ]
    }
   ],
   "source": [
    "c.come_msg()"
   ]
  },
  {
   "cell_type": "code",
   "execution_count": null,
   "id": "672a8f11",
   "metadata": {},
   "outputs": [],
   "source": []
  },
  {
   "cell_type": "code",
   "execution_count": 21,
   "id": "d53e3d24",
   "metadata": {},
   "outputs": [],
   "source": [
    "a=1\n",
    "b=2"
   ]
  },
  {
   "cell_type": "code",
   "execution_count": 22,
   "id": "30524f55",
   "metadata": {},
   "outputs": [
    {
     "data": {
      "text/plain": [
       "1"
      ]
     },
     "execution_count": 22,
     "metadata": {},
     "output_type": "execute_result"
    }
   ],
   "source": [
    "a"
   ]
  },
  {
   "cell_type": "code",
   "execution_count": 23,
   "id": "7c27f982",
   "metadata": {},
   "outputs": [
    {
     "data": {
      "text/plain": [
       "2"
      ]
     },
     "execution_count": 23,
     "metadata": {},
     "output_type": "execute_result"
    }
   ],
   "source": [
    "b"
   ]
  },
  {
   "cell_type": "code",
   "execution_count": 26,
   "id": "73dad8a6",
   "metadata": {},
   "outputs": [
    {
     "name": "stdout",
     "output_type": "stream",
     "text": [
      "Rohan\n",
      "20\n"
     ]
    }
   ],
   "source": [
    "class Details:\n",
    "    name = \"Rohan\"\n",
    "    age = 20\n",
    "obj1 = Details()\n",
    "print(obj1.name)\n",
    "print(obj1.age)"
   ]
  },
  {
   "cell_type": "code",
   "execution_count": 27,
   "id": "d7d73a0f",
   "metadata": {},
   "outputs": [],
   "source": [
    "chica=Details()"
   ]
  },
  {
   "cell_type": "code",
   "execution_count": 28,
   "id": "7938f8ff",
   "metadata": {},
   "outputs": [
    {
     "data": {
      "text/plain": [
       "'Rohan'"
      ]
     },
     "execution_count": 28,
     "metadata": {},
     "output_type": "execute_result"
    }
   ],
   "source": [
    "chica.name"
   ]
  },
  {
   "cell_type": "code",
   "execution_count": 29,
   "id": "99f5d345",
   "metadata": {},
   "outputs": [
    {
     "data": {
      "text/plain": [
       "20"
      ]
     },
     "execution_count": 29,
     "metadata": {},
     "output_type": "execute_result"
    }
   ],
   "source": [
    "chica.age"
   ]
  },
  {
   "cell_type": "code",
   "execution_count": 30,
   "id": "f586558d",
   "metadata": {},
   "outputs": [],
   "source": [
    "chica.name=\"Mohan|\""
   ]
  },
  {
   "cell_type": "code",
   "execution_count": 31,
   "id": "a6e004dd",
   "metadata": {},
   "outputs": [],
   "source": [
    "chica.age=32"
   ]
  },
  {
   "cell_type": "code",
   "execution_count": 32,
   "id": "9120688b",
   "metadata": {},
   "outputs": [
    {
     "name": "stdout",
     "output_type": "stream",
     "text": [
      "Mohan|\n"
     ]
    }
   ],
   "source": [
    "print(chica.name)"
   ]
  },
  {
   "cell_type": "code",
   "execution_count": 5,
   "id": "c831c33c",
   "metadata": {},
   "outputs": [],
   "source": [
    "class bio:\n",
    "    name=\"Ravi\"\n",
    "    place=\"Bihar\"\n",
    "    networth=60\n",
    "    def khabar(self):\n",
    "        print(f\"{self.name} is from {self.place}\")"
   ]
  },
  {
   "cell_type": "code",
   "execution_count": 6,
   "id": "5cfbbcfb",
   "metadata": {},
   "outputs": [],
   "source": [
    "i=bio()"
   ]
  },
  {
   "cell_type": "code",
   "execution_count": 7,
   "id": "86286146",
   "metadata": {},
   "outputs": [
    {
     "name": "stdout",
     "output_type": "stream",
     "text": [
      "Ravi is from Bihar\n"
     ]
    }
   ],
   "source": [
    "i.khabar()"
   ]
  },
  {
   "cell_type": "markdown",
   "id": "c6d615cc",
   "metadata": {},
   "source": [
    "# Self parameter\n",
    "\n",
    "what self basically means is, that object upon which the method is being called\n",
    "\n",
    "\n",
    "The self parameter is a reference to the current instance of the class, and is used to access variables that belongs to the class.\n",
    "\n",
    "It must be provided as the extra parameter inside the method definition."
   ]
  },
  {
   "cell_type": "code",
   "execution_count": 8,
   "id": "967bbdb6",
   "metadata": {},
   "outputs": [],
   "source": [
    "r=bio()"
   ]
  },
  {
   "cell_type": "code",
   "execution_count": 9,
   "id": "41fe042a",
   "metadata": {},
   "outputs": [
    {
     "name": "stdout",
     "output_type": "stream",
     "text": [
      "Ravi is from Bihar\n"
     ]
    }
   ],
   "source": [
    "r.khabar()"
   ]
  },
  {
   "cell_type": "code",
   "execution_count": 10,
   "id": "5d8635f9",
   "metadata": {},
   "outputs": [],
   "source": [
    "k=bio()\n",
    "k.name = \"Swamy\""
   ]
  },
  {
   "cell_type": "code",
   "execution_count": 12,
   "id": "63e28ed9",
   "metadata": {},
   "outputs": [],
   "source": [
    "k.place= \"Himachal\""
   ]
  },
  {
   "cell_type": "code",
   "execution_count": 13,
   "id": "bffc8230",
   "metadata": {},
   "outputs": [
    {
     "name": "stdout",
     "output_type": "stream",
     "text": [
      "Swamy is from Himachal\n"
     ]
    }
   ],
   "source": [
    "k.khabar()"
   ]
  },
  {
   "cell_type": "code",
   "execution_count": 14,
   "id": "8c0d3269",
   "metadata": {},
   "outputs": [
    {
     "name": "stdout",
     "output_type": "stream",
     "text": [
      "Ravi is from Bihar\n"
     ]
    }
   ],
   "source": [
    "j=bio()\n",
    "j.khabar()"
   ]
  },
  {
   "cell_type": "markdown",
   "id": "ff5180f9",
   "metadata": {},
   "source": [
    "A constructor is a special method in a class used to create and initialize an object of a class. There are different types of constructors. Constructor is invoked automatically when an object of a class is created.\n",
    "\n",
    "A constructor is a unique function that gets called automatically when an object is created of a class. The main purpose of a constructor is to initialize or assign values to the data members of that class. It cannot return any value other than None.\n",
    "\n",
    "init is one of the reserved functions in Python. In Object Oriented Programming, it is known as a constructor."
   ]
  },
  {
   "cell_type": "code",
   "execution_count": 16,
   "id": "d993951d",
   "metadata": {},
   "outputs": [],
   "source": [
    "class person:\n",
    "\n",
    "    def __init__(self):\n",
    "        print(\"Hey I'm a person\") \n",
    " \n",
    "      def readmore():\n",
    "        age =24\n",
    "        print(age)"
   ]
  },
  {
   "cell_type": "code",
   "execution_count": 22,
   "id": "0fc7fc8b",
   "metadata": {},
   "outputs": [
    {
     "name": "stdout",
     "output_type": "stream",
     "text": [
      "Hey I'm a person\n"
     ]
    }
   ],
   "source": [
    "a=person()"
   ]
  },
  {
   "cell_type": "code",
   "execution_count": 23,
   "id": "f78024aa",
   "metadata": {},
   "outputs": [
    {
     "name": "stdout",
     "output_type": "stream",
     "text": [
      "Hey I'm a person\n",
      "Hey I'm a person\n"
     ]
    }
   ],
   "source": [
    "a=person()\n",
    "b=person()"
   ]
  },
  {
   "cell_type": "markdown",
   "id": "daff63b7",
   "metadata": {},
   "source": [
    "from the above code you can see the __init__(self) func is being called everytime we create object"
   ]
  },
  {
   "cell_type": "code",
   "execution_count": 27,
   "id": "b256c6fd",
   "metadata": {},
   "outputs": [],
   "source": [
    "class persona:\n",
    "      def __init__(self,n, w):\n",
    "        print(\"Hey I'm a person\")\n",
    "        self.name = n\n",
    "        self.work = w\n",
    "      def info(self):\n",
    "        print(f\"{self.name} is a {self.work}\")"
   ]
  },
  {
   "cell_type": "code",
   "execution_count": 30,
   "id": "af33db07",
   "metadata": {},
   "outputs": [
    {
     "name": "stdout",
     "output_type": "stream",
     "text": [
      "Hey I'm a person\n"
     ]
    }
   ],
   "source": [
    "j=persona(\"Raghav\", 'Writer')"
   ]
  },
  {
   "cell_type": "code",
   "execution_count": 32,
   "id": "d29681ba",
   "metadata": {},
   "outputs": [
    {
     "name": "stdout",
     "output_type": "stream",
     "text": [
      "Raghav is a Writer\n"
     ]
    }
   ],
   "source": [
    "j.info()"
   ]
  },
  {
   "cell_type": "code",
   "execution_count": 35,
   "id": "27698e12",
   "metadata": {},
   "outputs": [
    {
     "name": "stdout",
     "output_type": "stream",
     "text": [
      "Hey I'm a person\n"
     ]
    }
   ],
   "source": [
    "k=persona(\"Kavita\", 'stand-up comic')"
   ]
  },
  {
   "cell_type": "code",
   "execution_count": 36,
   "id": "c8889df1",
   "metadata": {},
   "outputs": [
    {
     "name": "stdout",
     "output_type": "stream",
     "text": [
      "Kavita is a stand-up comic\n"
     ]
    }
   ],
   "source": [
    "k.info()"
   ]
  },
  {
   "cell_type": "code",
   "execution_count": 37,
   "id": "94bc1aec",
   "metadata": {},
   "outputs": [
    {
     "ename": "TypeError",
     "evalue": "__init__() takes 3 positional arguments but 4 were given",
     "output_type": "error",
     "traceback": [
      "\u001b[1;31m---------------------------------------------------------------------------\u001b[0m",
      "\u001b[1;31mTypeError\u001b[0m                                 Traceback (most recent call last)",
      "Input \u001b[1;32mIn [37]\u001b[0m, in \u001b[0;36m<cell line: 1>\u001b[1;34m()\u001b[0m\n\u001b[1;32m----> 1\u001b[0m o\u001b[38;5;241m=\u001b[39m\u001b[43mpersona\u001b[49m\u001b[43m(\u001b[49m\u001b[38;5;241;43m1\u001b[39;49m\u001b[43m,\u001b[49m\u001b[38;5;241;43m2\u001b[39;49m\u001b[43m,\u001b[49m\u001b[38;5;241;43m3\u001b[39;49m\u001b[43m)\u001b[49m\n",
      "\u001b[1;31mTypeError\u001b[0m: __init__() takes 3 positional arguments but 4 were given"
     ]
    }
   ],
   "source": [
    "o=persona(1,2,3)"
   ]
  },
  {
   "cell_type": "markdown",
   "id": "24c4767a",
   "metadata": {},
   "source": [
    "__init__() takes 3 positional arguments but 4 were given\n",
    "\n",
    "\n",
    "this error is being shown because by 4 it means python automatically takes self as an argument"
   ]
  },
  {
   "cell_type": "code",
   "execution_count": 40,
   "id": "3a864387",
   "metadata": {},
   "outputs": [
    {
     "ename": "TypeError",
     "evalue": "__init__() missing 2 required positional arguments: 'n' and 'w'",
     "output_type": "error",
     "traceback": [
      "\u001b[1;31m---------------------------------------------------------------------------\u001b[0m",
      "\u001b[1;31mTypeError\u001b[0m                                 Traceback (most recent call last)",
      "Input \u001b[1;32mIn [40]\u001b[0m, in \u001b[0;36m<cell line: 1>\u001b[1;34m()\u001b[0m\n\u001b[1;32m----> 1\u001b[0m p\u001b[38;5;241m=\u001b[39m\u001b[43mpersona\u001b[49m\u001b[43m(\u001b[49m\u001b[43m)\u001b[49m\n",
      "\u001b[1;31mTypeError\u001b[0m: __init__() missing 2 required positional arguments: 'n' and 'w'"
     ]
    }
   ],
   "source": [
    "p=persona()"
   ]
  },
  {
   "cell_type": "code",
   "execution_count": 2,
   "id": "c2346dbe",
   "metadata": {},
   "outputs": [],
   "source": [
    "class bd:\n",
    "    \n",
    "    def __init__(person_name ,phone_number , email_id, student_id ):\n",
    "        \n",
    "        person_name.phone_number = phone_number\n",
    "        person_name.email_id = email_id\n",
    "        person_name.student_id = student_id\n",
    "        \n",
    "    \n",
    "    def return_details(person_name):\n",
    "        return person_name.phone_number, person_name.email_id , person_name.student_id"
   ]
  },
  {
   "cell_type": "code",
   "execution_count": 6,
   "id": "c2b73552",
   "metadata": {},
   "outputs": [],
   "source": [
    "Ravi=bd(8767677098,\"ravbishnoi@work.com\",\"A35y7u8\")"
   ]
  },
  {
   "cell_type": "code",
   "execution_count": 7,
   "id": "a36d550b",
   "metadata": {},
   "outputs": [
    {
     "data": {
      "text/plain": [
       "8767677098"
      ]
     },
     "execution_count": 7,
     "metadata": {},
     "output_type": "execute_result"
    }
   ],
   "source": [
    "Ravi.phone_number"
   ]
  },
  {
   "cell_type": "code",
   "execution_count": 8,
   "id": "44bfc3fd",
   "metadata": {},
   "outputs": [
    {
     "data": {
      "text/plain": [
       "'ravbishnoi@work.com'"
      ]
     },
     "execution_count": 8,
     "metadata": {},
     "output_type": "execute_result"
    }
   ],
   "source": [
    "Ravi.email_id"
   ]
  },
  {
   "cell_type": "code",
   "execution_count": 12,
   "id": "d78acb98",
   "metadata": {},
   "outputs": [],
   "source": [
    "class bd:\n",
    "    \n",
    "    def __init__(person_name ,phone_number , email_id, student_id ):\n",
    "        \n",
    "        person_name.phone_number = phone_number\n",
    "        person_name.email_id = email_id\n",
    "        person_name.student_id = student_id\n",
    "        print(person_name.phone_number)\n",
    "        print(person_name.email_id)\n",
    "        print( person_name.student_id)\n",
    "    \n",
    "    def return_details(person_name):\n",
    "        return person_name.phone_number, person_name.email_id , person_name.student_id"
   ]
  },
  {
   "cell_type": "code",
   "execution_count": 13,
   "id": "31b97391",
   "metadata": {},
   "outputs": [
    {
     "name": "stdout",
     "output_type": "stream",
     "text": [
      "8393949012\n",
      "Krishjamjam@kav.ccom\n",
      "A903\n"
     ]
    }
   ],
   "source": [
    "Krishna=bd(8393949012,\"Krishjamjam@kav.ccom\",\"A903\")"
   ]
  },
  {
   "cell_type": "markdown",
   "id": "30ef8b22",
   "metadata": {},
   "source": [
    "# Types of constructor\n",
    "\n",
    "1) Parameterized Constructor\n",
    "\n",
    "When the constructor accepts arguments along with self, it is known as parameterized constructor.\n",
    "\n",
    "These arguments can be used inside the class to assign the values to the data members."
   ]
  },
  {
   "cell_type": "code",
   "execution_count": 14,
   "id": "759cce40",
   "metadata": {},
   "outputs": [
    {
     "name": "stdout",
     "output_type": "stream",
     "text": [
      "Crab belongs to the Crustaceans group.\n"
     ]
    }
   ],
   "source": [
    "class Details:\n",
    "    def __init__(self, animal, group):\n",
    "        self.animal = animal\n",
    "        self.group = group\n",
    "obj1 = Details(\"Crab\", \"Crustaceans\")\n",
    "print(obj1.animal, \"belongs to the\", obj1.group, \"group.\")"
   ]
  },
  {
   "cell_type": "markdown",
   "id": "d0c9bdb3",
   "metadata": {},
   "source": [
    "2) Default Constructor\n",
    "\n",
    "When the constructor doesn't accept any arguments from the object and has only one argument, self, in the constructor, it is known as a Default constructor."
   ]
  },
  {
   "cell_type": "code",
   "execution_count": 15,
   "id": "fdd0b93b",
   "metadata": {},
   "outputs": [
    {
     "name": "stdout",
     "output_type": "stream",
     "text": [
      "animal Crab belongs to Crustaceans group\n"
     ]
    }
   ],
   "source": [
    "class Details:\n",
    "  def __init__(self):\n",
    "    print(\"animal Crab belongs to Crustaceans group\")\n",
    "obj1=Details()"
   ]
  },
  {
   "cell_type": "code",
   "execution_count": 1,
   "id": "20b5a394",
   "metadata": {},
   "outputs": [],
   "source": [
    "class bd3:\n",
    "    \n",
    "    def __init__(person_name ,phone_number , email_id, student_id ):\n",
    "        \n",
    "        person_name.phone_number = phone_number\n",
    "        person_name.email_id = email_id\n",
    "        person_name.student_id = student_id\n",
    "        print(person_name.phone_number)\n",
    "        print(person_name.email_id)\n",
    "        print( person_name.student_id)\n",
    "    \n",
    "    def return_details(person_name):\n",
    "        return person_name.phone_number, person_name.email_id , person_name.student_id"
   ]
  },
  {
   "cell_type": "code",
   "execution_count": 3,
   "id": "ed547af1",
   "metadata": {},
   "outputs": [
    {
     "name": "stdout",
     "output_type": "stream",
     "text": [
      "2642448481\n",
      "ggfgv@koka.com\n",
      "thygy\n"
     ]
    }
   ],
   "source": [
    "R=bd3(2642448481,\"ggfgv@koka.com\",\"thygy\")"
   ]
  },
  {
   "cell_type": "code",
   "execution_count": 6,
   "id": "789978e5",
   "metadata": {},
   "outputs": [
    {
     "data": {
      "text/plain": [
       "2642448481"
      ]
     },
     "execution_count": 6,
     "metadata": {},
     "output_type": "execute_result"
    }
   ],
   "source": [
    "R.phone_number"
   ]
  },
  {
   "cell_type": "markdown",
   "id": "1cc70f2c",
   "metadata": {},
   "source": [
    "# Polymorphsism"
   ]
  },
  {
   "cell_type": "markdown",
   "id": "1c2446a1",
   "metadata": {},
   "source": [
    "The word \"polymorphism\" means \"many forms\", and in programming it refers to methods/functions/operators with the same name that can be executed on many objects or classes.\n",
    "The key difference is the data types and number of arguments used in function."
   ]
  },
  {
   "cell_type": "code",
   "execution_count": 1,
   "id": "545fca97",
   "metadata": {},
   "outputs": [],
   "source": [
    "def test(a,b) :\n",
    "    return a+b"
   ]
  },
  {
   "cell_type": "code",
   "execution_count": 2,
   "id": "826be955",
   "metadata": {},
   "outputs": [
    {
     "data": {
      "text/plain": [
       "9"
      ]
     },
     "execution_count": 2,
     "metadata": {},
     "output_type": "execute_result"
    }
   ],
   "source": [
    "test(4,5)\n",
    "#for adition"
   ]
  },
  {
   "cell_type": "code",
   "execution_count": 6,
   "id": "c7a76dec",
   "metadata": {},
   "outputs": [
    {
     "data": {
      "text/plain": [
       "'ScarFace'"
      ]
     },
     "execution_count": 6,
     "metadata": {},
     "output_type": "execute_result"
    }
   ],
   "source": [
    "test(\"Scar\" , \"Face\")\n",
    "#for concatenation"
   ]
  },
  {
   "cell_type": "code",
   "execution_count": 4,
   "id": "7d21c487",
   "metadata": {},
   "outputs": [
    {
     "data": {
      "text/plain": [
       "[2, 3, 4, 5, 5, 4, 5, 6, 7]"
      ]
     },
     "execution_count": 4,
     "metadata": {},
     "output_type": "execute_result"
    }
   ],
   "source": [
    "test([2,3,4,5,5] , [4,5,6,7])\n",
    "#for list append/concatenation"
   ]
  },
  {
   "cell_type": "code",
   "execution_count": 5,
   "id": "7d9f476f",
   "metadata": {},
   "outputs": [
    {
     "name": "stdout",
     "output_type": "stream",
     "text": [
      "5\n",
      "9\n"
     ]
    }
   ],
   "source": [
    "# A simple Python function to demonstrate\n",
    "# Polymorphism\n",
    "\n",
    "def add(x, y, z = 0):\n",
    "\treturn x + y+z\n",
    "\n",
    "# Driver code\n",
    "print(add(2, 3))\n",
    "print(add(2, 3, 4))"
   ]
  },
  {
   "cell_type": "code",
   "execution_count": 9,
   "id": "efa36af4",
   "metadata": {},
   "outputs": [],
   "source": [
    "class data_science:\n",
    "    def syllabus(self) : \n",
    "        print(\"this is my method for data science syllbaus \" )"
   ]
  },
  {
   "cell_type": "code",
   "execution_count": 10,
   "id": "e9d361be",
   "metadata": {},
   "outputs": [],
   "source": [
    "class web_dev :\n",
    "    def syllabus(self) : \n",
    "        print(\"this is my method for web dev \" )"
   ]
  },
  {
   "cell_type": "code",
   "execution_count": 11,
   "id": "05d803c5",
   "metadata": {},
   "outputs": [],
   "source": [
    "def class_parcer(class_obj) : \n",
    "    for i in class_obj : \n",
    "        i.syllabus()\n",
    "#polymorphsism takes place as for every new object the function syllabus behaves differently"
   ]
  },
  {
   "cell_type": "code",
   "execution_count": 12,
   "id": "51f8c8ed",
   "metadata": {},
   "outputs": [],
   "source": [
    "obj_data_science= data_science()"
   ]
  },
  {
   "cell_type": "code",
   "execution_count": 13,
   "id": "36d8dea6",
   "metadata": {},
   "outputs": [],
   "source": [
    "obj_web_dev = web_dev()"
   ]
  },
  {
   "cell_type": "code",
   "execution_count": 14,
   "id": "049383ca",
   "metadata": {},
   "outputs": [],
   "source": [
    "class_ojb = [obj_data_science , obj_web_dev]"
   ]
  },
  {
   "cell_type": "code",
   "execution_count": 15,
   "id": "e01a5761",
   "metadata": {},
   "outputs": [
    {
     "name": "stdout",
     "output_type": "stream",
     "text": [
      "this is my method for data science syllbaus \n",
      "this is my method for web dev \n"
     ]
    }
   ],
   "source": [
    "class_parcer(class_ojb)"
   ]
  },
  {
   "cell_type": "markdown",
   "id": "6ad423c0",
   "metadata": {},
   "source": [
    "# Encapsulation\n",
    "\n",
    "Encapsulation is one of the fundamental concepts in object-oriented programming (OOP). It describes the idea of wrapping data and the methods that work on data within one unit. This puts restrictions on accessing variables and methods directly and can prevent the accidental modification of data. To prevent accidental change, an object’s variable can only be changed by an object’s method. Those types of variables are known as private variables.\n",
    "\n",
    "A class is an example of encapsulation as it encapsulates all the data that is member functions, variables, etc. The goal of information hiding is to ensure that an object’s state is always valid by controlling access to attributes that are hidden from the outside world."
   ]
  },
  {
   "cell_type": "code",
   "execution_count": 2,
   "id": "7b1692ac",
   "metadata": {},
   "outputs": [],
   "source": [
    "class test : \n",
    "    def __init__(self , a,b ) : \n",
    "        self.a = a \n",
    "        self.b = b "
   ]
  },
  {
   "cell_type": "code",
   "execution_count": 3,
   "id": "6320227a",
   "metadata": {},
   "outputs": [],
   "source": [
    "t = test(45,56)"
   ]
  },
  {
   "cell_type": "code",
   "execution_count": 4,
   "id": "ac5ffa16",
   "metadata": {},
   "outputs": [
    {
     "data": {
      "text/plain": [
       "45"
      ]
     },
     "execution_count": 4,
     "metadata": {},
     "output_type": "execute_result"
    }
   ],
   "source": [
    "t.a"
   ]
  },
  {
   "cell_type": "code",
   "execution_count": 5,
   "id": "f9362c18",
   "metadata": {},
   "outputs": [
    {
     "data": {
      "text/plain": [
       "56"
      ]
     },
     "execution_count": 5,
     "metadata": {},
     "output_type": "execute_result"
    }
   ],
   "source": [
    "t.b"
   ]
  },
  {
   "cell_type": "code",
   "execution_count": 5,
   "id": "3a2b0216",
   "metadata": {},
   "outputs": [
    {
     "data": {
      "text/plain": [
       "3243"
      ]
     },
     "execution_count": 5,
     "metadata": {},
     "output_type": "execute_result"
    }
   ],
   "source": [
    "t.a = 3243\n",
    "\n",
    "t.a"
   ]
  },
  {
   "cell_type": "code",
   "execution_count": 2,
   "id": "8d287f65",
   "metadata": {},
   "outputs": [],
   "source": [
    "class car:\n",
    "    \n",
    "    def __init__(self , year , make , model ,speed ) :\n",
    "        self.__year = year \n",
    "        self.__make = make\n",
    "        self.__model = model\n",
    "        self.__speed = 0 "
   ]
  },
  {
   "cell_type": "code",
   "execution_count": 3,
   "id": "4a012776",
   "metadata": {},
   "outputs": [],
   "source": [
    "#when after t. we press tab then it will show its variables\n",
    "#but\n",
    "objcar=car(2022,\"Maruti\",\"ZEX\",320)"
   ]
  },
  {
   "cell_type": "code",
   "execution_count": 4,
   "id": "9d99e553",
   "metadata": {},
   "outputs": [
    {
     "ename": "AttributeError",
     "evalue": "'car' object has no attribute 'year'",
     "output_type": "error",
     "traceback": [
      "\u001b[1;31m---------------------------------------------------------------------------\u001b[0m",
      "\u001b[1;31mAttributeError\u001b[0m                            Traceback (most recent call last)",
      "Input \u001b[1;32mIn [4]\u001b[0m, in \u001b[0;36m<cell line: 2>\u001b[1;34m()\u001b[0m\n\u001b[0;32m      1\u001b[0m \u001b[38;5;66;03m#now if we do objcar. after this tab nothing would come as thodse variables are private\u001b[39;00m\n\u001b[1;32m----> 2\u001b[0m \u001b[43mobjcar\u001b[49m\u001b[38;5;241;43m.\u001b[39;49m\u001b[43myear\u001b[49m\n",
      "\u001b[1;31mAttributeError\u001b[0m: 'car' object has no attribute 'year'"
     ]
    }
   ],
   "source": [
    "#now if we do objcar. after this tab nothing would come as thodse variables are private\n",
    "objcar.year"
   ]
  },
  {
   "cell_type": "code",
   "execution_count": 17,
   "id": "924b7894",
   "metadata": {},
   "outputs": [
    {
     "data": {
      "text/plain": [
       "2022"
      ]
     },
     "execution_count": 17,
     "metadata": {},
     "output_type": "execute_result"
    }
   ],
   "source": [
    "objcar._car__year"
   ]
  },
  {
   "cell_type": "code",
   "execution_count": 18,
   "id": "cb2205d4",
   "metadata": {},
   "outputs": [
    {
     "data": {
      "text/plain": [
       "2023"
      ]
     },
     "execution_count": 18,
     "metadata": {},
     "output_type": "execute_result"
    }
   ],
   "source": [
    "objcar._car__year = 2023\n",
    "objcar._car__year"
   ]
  },
  {
   "cell_type": "code",
   "execution_count": 19,
   "id": "a3c0ab4e",
   "metadata": {},
   "outputs": [],
   "source": [
    "class car:\n",
    "    \n",
    "    def __init__(self , year , make , model ,speed ) :\n",
    "        self.__year = year \n",
    "        self.__make = make\n",
    "        self.__model = model\n",
    "        self.__speed = 0 \n",
    "    \n",
    "    def set_speed(self , speed) : \n",
    "        self.__speed = 0 if speed < 0 else speed \n",
    "    \n",
    "    def get_speed(self) : \n",
    "        return self.__speed"
   ]
  },
  {
   "cell_type": "code",
   "execution_count": 28,
   "id": "bea02233",
   "metadata": {},
   "outputs": [],
   "source": [
    "objcar=car(2022,\"Maruti\",\"ZEX\",320)"
   ]
  },
  {
   "cell_type": "code",
   "execution_count": 29,
   "id": "49dc42eb",
   "metadata": {},
   "outputs": [],
   "source": [
    "objcar.set_speed(-78)"
   ]
  },
  {
   "cell_type": "code",
   "execution_count": 30,
   "id": "1c739b1c",
   "metadata": {},
   "outputs": [
    {
     "data": {
      "text/plain": [
       "0"
      ]
     },
     "execution_count": 30,
     "metadata": {},
     "output_type": "execute_result"
    }
   ],
   "source": [
    "objcar.get_speed()"
   ]
  },
  {
   "cell_type": "code",
   "execution_count": 31,
   "id": "f80aec71",
   "metadata": {},
   "outputs": [],
   "source": [
    "objcar.set_speed(788)"
   ]
  },
  {
   "cell_type": "code",
   "execution_count": 32,
   "id": "54de3b5d",
   "metadata": {},
   "outputs": [
    {
     "data": {
      "text/plain": [
       "788"
      ]
     },
     "execution_count": 32,
     "metadata": {},
     "output_type": "execute_result"
    }
   ],
   "source": [
    "objcar.get_speed()"
   ]
  },
  {
   "cell_type": "code",
   "execution_count": 33,
   "id": "5356a688",
   "metadata": {},
   "outputs": [
    {
     "data": {
      "text/plain": [
       "<__main__.car at 0x21c72299a90>"
      ]
     },
     "execution_count": 33,
     "metadata": {},
     "output_type": "execute_result"
    }
   ],
   "source": [
    "objcar"
   ]
  },
  {
   "cell_type": "markdown",
   "id": "6a8ad24a",
   "metadata": {},
   "source": [
    "# Inheritance"
   ]
  },
  {
   "cell_type": "markdown",
   "id": "5d01d977",
   "metadata": {},
   "source": [
    "One of the core concepts in object-oriented programming (OOP) languages is inheritance. It is a mechanism that allows you to create a hierarchy of classes that share a set of properties and methods by deriving a class from another class. Inheritance is the capability of one class to derive or inherit the properties from another class. \n",
    "\n",
    "\n",
    "Benefits of inheritance are:\n",
    "\n",
    "Inheritance allows you to inherit the properties of a class, i.e., base class to another, i.e., derived class. The benefits of Inheritance in Python are as follows:\n",
    "\n",
    "It represents real-world relationships well.\n",
    "\n",
    "It provides the reusability of a code. We don’t have to write the same code again and again. Also, it allows us to add more features to a class without modifying it.\n",
    "It is transitive in nature, which means that if class B inherits from another class A, then all the subclasses of B would automatically inherit from class A.\n",
    "Inheritance offers a simple, understandable model structure. \n",
    "Less development and maintenance expenses result from an inheritance. "
   ]
  },
  {
   "cell_type": "code",
   "execution_count": 5,
   "id": "5893a67b",
   "metadata": {},
   "outputs": [],
   "source": [
    "class parent:\n",
    "    \n",
    "    def test_parent(self) : \n",
    "        print(\"this is my parent class \")"
   ]
  },
  {
   "cell_type": "code",
   "execution_count": 6,
   "id": "eaf52a0d",
   "metadata": {},
   "outputs": [],
   "source": [
    "class child(parent):\n",
    "    pass"
   ]
  },
  {
   "cell_type": "code",
   "execution_count": 7,
   "id": "57ba7003",
   "metadata": {},
   "outputs": [],
   "source": [
    "child_obj = child()"
   ]
  },
  {
   "cell_type": "code",
   "execution_count": 8,
   "id": "06352d7f",
   "metadata": {},
   "outputs": [
    {
     "name": "stdout",
     "output_type": "stream",
     "text": [
      "this is my parent class \n"
     ]
    }
   ],
   "source": [
    "child_obj.test_parent()\n",
    "# the child class is able to invoke methods from parent class"
   ]
  },
  {
   "cell_type": "code",
   "execution_count": null,
   "id": "5a450edc",
   "metadata": {},
   "outputs": [],
   "source": []
  },
  {
   "cell_type": "markdown",
   "id": "a2dd9c1b",
   "metadata": {},
   "source": [
    "# Multilevel inheritance"
   ]
  },
  {
   "cell_type": "markdown",
   "id": "c627c2d9",
   "metadata": {},
   "source": [
    "Multilevel Inheritance in Python is a type of Inheritance that involves inheriting a class that has already inherited some other class. That means the derived/subclass class inherits the features of the base class/parent class, and the new derived class inherits the features of the derived class"
   ]
  },
  {
   "cell_type": "code",
   "execution_count": 7,
   "id": "c1283457",
   "metadata": {},
   "outputs": [],
   "source": [
    "class class1 :\n",
    "    def test_class1(self) : \n",
    "        print(\"this is my class1 \" )"
   ]
  },
  {
   "cell_type": "code",
   "execution_count": 8,
   "id": "dfe7e070",
   "metadata": {},
   "outputs": [],
   "source": [
    "class class2(class1) : \n",
    "    def test_class2(self) : \n",
    "        print(\"this is my class2\" )"
   ]
  },
  {
   "cell_type": "code",
   "execution_count": 9,
   "id": "e0bb471e",
   "metadata": {},
   "outputs": [],
   "source": [
    "class class3(class2) : \n",
    "    def test_class3(self) : \n",
    "        print(\"this is my class3 \")"
   ]
  },
  {
   "cell_type": "code",
   "execution_count": 10,
   "id": "b6fd74dc",
   "metadata": {},
   "outputs": [],
   "source": [
    "obj_class3  = class3()"
   ]
  },
  {
   "cell_type": "code",
   "execution_count": 11,
   "id": "4a951ced",
   "metadata": {},
   "outputs": [
    {
     "name": "stdout",
     "output_type": "stream",
     "text": [
      "this is my class1 \n"
     ]
    }
   ],
   "source": [
    "obj_class3.test_class1()"
   ]
  },
  {
   "cell_type": "code",
   "execution_count": 12,
   "id": "4606d69c",
   "metadata": {},
   "outputs": [
    {
     "name": "stdout",
     "output_type": "stream",
     "text": [
      "this is my class2\n"
     ]
    }
   ],
   "source": [
    "obj_class3.test_class2()"
   ]
  },
  {
   "cell_type": "code",
   "execution_count": 13,
   "id": "431e2030",
   "metadata": {},
   "outputs": [
    {
     "name": "stdout",
     "output_type": "stream",
     "text": [
      "this is my class3 \n"
     ]
    }
   ],
   "source": [
    "obj_class3.test_class3()"
   ]
  },
  {
   "cell_type": "markdown",
   "id": "968a11f4",
   "metadata": {},
   "source": [
    "# Multiple Inheritance \n",
    "When a class is derived from more than one base class it is called multiple Inheritance. The derived class inherits all the features of the base case."
   ]
  },
  {
   "cell_type": "code",
   "execution_count": 14,
   "id": "f7717efe",
   "metadata": {},
   "outputs": [],
   "source": [
    "class class1 :\n",
    "    def test_class1(self) : \n",
    "        print(\"this is my class1 \" )"
   ]
  },
  {
   "cell_type": "code",
   "execution_count": 15,
   "id": "8ccd30b7",
   "metadata": {},
   "outputs": [],
   "source": [
    "class class2 :\n",
    "    def test_class2(self) : \n",
    "        print(\"this is my class2 \" )"
   ]
  },
  {
   "cell_type": "code",
   "execution_count": 16,
   "id": "3cc58dd4",
   "metadata": {},
   "outputs": [],
   "source": [
    "class class3 (class1 , class2) : \n",
    "    pass"
   ]
  },
  {
   "cell_type": "code",
   "execution_count": 17,
   "id": "ec682e7c",
   "metadata": {},
   "outputs": [],
   "source": [
    "OBJ_ML= class3()"
   ]
  },
  {
   "cell_type": "code",
   "execution_count": 19,
   "id": "d96a4ee4",
   "metadata": {},
   "outputs": [
    {
     "name": "stdout",
     "output_type": "stream",
     "text": [
      "this is my class1 \n"
     ]
    }
   ],
   "source": [
    "OBJ_ML.test_class1()"
   ]
  },
  {
   "cell_type": "code",
   "execution_count": 20,
   "id": "20bb48c8",
   "metadata": {},
   "outputs": [
    {
     "name": "stdout",
     "output_type": "stream",
     "text": [
      "this is my class2 \n"
     ]
    }
   ],
   "source": [
    "OBJ_ML.test_class2()"
   ]
  },
  {
   "cell_type": "markdown",
   "id": "e30e52ed",
   "metadata": {},
   "source": [
    "# Abstraction"
   ]
  },
  {
   "cell_type": "markdown",
   "id": "4326818f",
   "metadata": {},
   "source": [
    "An abstract class can be considered as a blueprint for other classes. It allows you to create a set of methods that must be created within any child classes built from the abstract class. A class which contains one or more abstract methods is called an abstract class. An abstract method is a method that has a declaration but does not have an implementation. While we are designing large functional units we use an abstract class. When we want to provide a common interface for different implementations of a component, we use an abstract class. "
   ]
  },
  {
   "cell_type": "markdown",
   "id": "20737bff",
   "metadata": {},
   "source": [
    "Why use Abstract Base Classes : \n",
    "By defining an abstract base class, you can define a common Application Program Interface(API) for a set of subclasses. This capability is especially useful in situations where a third-party is going to provide implementations, such as with plugins, but can also help you when working in a large team or with a large code-base where keeping all classes in your mind is difficult or not possible. "
   ]
  },
  {
   "cell_type": "code",
   "execution_count": 24,
   "id": "038df15e",
   "metadata": {},
   "outputs": [],
   "source": [
    "import abc\n",
    "\n",
    "class fields :\n",
    "    \n",
    "    @abc.abstractmethod\n",
    "    def student_details(self):\n",
    "        cout<<\"override me\"\n",
    "        pass\n",
    "    \n",
    "    @abc.abstractmethod\n",
    "    def student_assignment(self):\n",
    "        pass\n",
    "    \n",
    "    \n",
    "    @abc.abstractmethod\n",
    "    def student_marks(self):\n",
    "        pass"
   ]
  },
  {
   "cell_type": "code",
   "execution_count": 27,
   "id": "7f2a8376",
   "metadata": {},
   "outputs": [],
   "source": [
    "class data_science(fields):\n",
    "    \n",
    "    def student_details(self):\n",
    "        return \"it will try to return a details of data science \"\n",
    "    \n",
    "    def student_assignment(self):\n",
    "        return \"it will return a details of student assignemnt for data science \"\n",
    "    "
   ]
  },
  {
   "cell_type": "code",
   "execution_count": 28,
   "id": "a84c1f71",
   "metadata": {},
   "outputs": [
    {
     "data": {
      "text/plain": [
       "'it will try to return a details of data science '"
      ]
     },
     "execution_count": 28,
     "metadata": {},
     "output_type": "execute_result"
    }
   ],
   "source": [
    "ds = data_science()\n",
    "ds.student_details()"
   ]
  },
  {
   "cell_type": "code",
   "execution_count": 30,
   "id": "9819ab76",
   "metadata": {},
   "outputs": [],
   "source": [
    "class web_dev(fields):\n",
    "     def student_details(self):\n",
    "            return \"this will retrun a detils of web dev \"\n",
    "    \n",
    "     def student_marks(self):\n",
    "             return \"this will return a makrs of web dev class\""
   ]
  },
  {
   "cell_type": "code",
   "execution_count": 32,
   "id": "71863439",
   "metadata": {},
   "outputs": [
    {
     "data": {
      "text/plain": [
       "'this will return a makrs of web dev class'"
      ]
     },
     "execution_count": 32,
     "metadata": {},
     "output_type": "execute_result"
    }
   ],
   "source": [
    "wd = web_dev()\n",
    "wd.student_marks()"
   ]
  },
  {
   "cell_type": "code",
   "execution_count": 33,
   "id": "f50af469",
   "metadata": {},
   "outputs": [
    {
     "name": "stdout",
     "output_type": "stream",
     "text": [
      "I have 3 sides\n",
      "I have 4 sides\n",
      "I have 5 sides\n",
      "I have 6 sides\n"
     ]
    }
   ],
   "source": [
    "# Python program showing\n",
    "# abstract base class work\n",
    "\n",
    "from abc import ABC, abstractmethod\n",
    "\n",
    "class Polygon(ABC):\n",
    "\n",
    "\t@abstractmethod\n",
    "\tdef noofsides(self):\n",
    "\t\tpass\n",
    "\n",
    "class Triangle(Polygon):\n",
    "\n",
    "\t# overriding abstract method\n",
    "\tdef noofsides(self):\n",
    "\t\tprint(\"I have 3 sides\")\n",
    "\n",
    "class Pentagon(Polygon):\n",
    "\n",
    "\t# overriding abstract method\n",
    "\tdef noofsides(self):\n",
    "\t\tprint(\"I have 5 sides\")\n",
    "\n",
    "class Hexagon(Polygon):\n",
    "\n",
    "\t# overriding abstract method\n",
    "\tdef noofsides(self):\n",
    "\t\tprint(\"I have 6 sides\")\n",
    "\n",
    "class Quadrilateral(Polygon):\n",
    "\n",
    "\t# overriding abstract method\n",
    "\tdef noofsides(self):\n",
    "\t\tprint(\"I have 4 sides\")\n",
    "\n",
    "# Driver code\n",
    "R = Triangle()\n",
    "R.noofsides()\n",
    "\n",
    "K = Quadrilateral()\n",
    "K.noofsides()\n",
    "\n",
    "R = Pentagon()\n",
    "R.noofsides()\n",
    "\n",
    "K = Hexagon()\n",
    "K.noofsides()\n"
   ]
  },
  {
   "cell_type": "markdown",
   "id": "6ab8379f",
   "metadata": {},
   "source": [
    " Class is logical abstraction because it provides a logical structure for all of its objects. It gives an overview of the features of an object. "
   ]
  },
  {
   "cell_type": "markdown",
   "id": "c8a80c2a",
   "metadata": {},
   "source": [
    "An object is an instance of a class in object-oriented programming. It combines both data and code within a single entity. Let's breakdown this :\n",
    "\n",
    "\n",
    "Data Abstraction:\n",
    "\n",
    "Objects encapsulate data by defining attributes or data members.\n",
    "\n",
    "These attributes represent the state or properties of the object.\n",
    "\n",
    "The object holds data in the form of its attribute values.\n",
    "\n",
    "Data abstraction allows us to hide the internal representation of data and access it through methods or interfaces.\n",
    "\n",
    "\n",
    "Code Abstraction:\n",
    "\n",
    "Objects also include code in the form of methods or member functions.\n",
    "\n",
    "Methods define the behavior or functionality of the object.\n",
    "\n",
    "The code within methods operates on the object's data, providing operations or actions related to the object's state.\n",
    "\n",
    "Code abstraction allows us to encapsulate the implementation details and provide a higher-level interface for interacting with the object."
   ]
  },
  {
   "cell_type": "code",
   "execution_count": null,
   "id": "f266e4c4",
   "metadata": {},
   "outputs": [],
   "source": []
  }
 ],
 "metadata": {
  "kernelspec": {
   "display_name": "Python 3 (ipykernel)",
   "language": "python",
   "name": "python3"
  },
  "language_info": {
   "codemirror_mode": {
    "name": "ipython",
    "version": 3
   },
   "file_extension": ".py",
   "mimetype": "text/x-python",
   "name": "python",
   "nbconvert_exporter": "python",
   "pygments_lexer": "ipython3",
   "version": "3.9.12"
  }
 },
 "nbformat": 4,
 "nbformat_minor": 5
}
