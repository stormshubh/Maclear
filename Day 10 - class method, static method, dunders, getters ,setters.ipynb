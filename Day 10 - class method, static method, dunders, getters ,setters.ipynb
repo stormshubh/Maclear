{
 "cells": [
  {
   "cell_type": "code",
   "execution_count": 1,
   "id": "d2bf1150",
   "metadata": {},
   "outputs": [],
   "source": [
    "class pwskills1:\n",
    "    def __init__(self, name , email):\n",
    "        \n",
    "        self.name = name\n",
    "        self.email = email\n",
    "    \n",
    "    @classmethod\n",
    "    def details(cls , name1 , email1):\n",
    "        return cls(name1 , email1)\n",
    "    \n",
    "    def student_details(self):\n",
    "        print(self.name , self.email)"
   ]
  },
  {
   "cell_type": "code",
   "execution_count": 2,
   "id": "f6f4482b",
   "metadata": {},
   "outputs": [],
   "source": [
    "pw1 = pwskills1.details(\"mohan\" , \"mohan@gamil.com\")"
   ]
  },
  {
   "cell_type": "code",
   "execution_count": 3,
   "id": "97ad0105",
   "metadata": {},
   "outputs": [
    {
     "data": {
      "text/plain": [
       "'mohan'"
      ]
     },
     "execution_count": 3,
     "metadata": {},
     "output_type": "execute_result"
    }
   ],
   "source": [
    "pw1.name"
   ]
  },
  {
   "cell_type": "code",
   "execution_count": 4,
   "id": "ce631252",
   "metadata": {},
   "outputs": [
    {
     "data": {
      "text/plain": [
       "'mohan@gamil.com'"
      ]
     },
     "execution_count": 4,
     "metadata": {},
     "output_type": "execute_result"
    }
   ],
   "source": [
    "pw1.email"
   ]
  },
  {
   "cell_type": "code",
   "execution_count": 5,
   "id": "b2065304",
   "metadata": {},
   "outputs": [
    {
     "ename": "TypeError",
     "evalue": "'pwskills1' object is not callable",
     "output_type": "error",
     "traceback": [
      "\u001b[1;31m---------------------------------------------------------------------------\u001b[0m",
      "\u001b[1;31mTypeError\u001b[0m                                 Traceback (most recent call last)",
      "Input \u001b[1;32mIn [5]\u001b[0m, in \u001b[0;36m<cell line: 1>\u001b[1;34m()\u001b[0m\n\u001b[1;32m----> 1\u001b[0m \u001b[43mpw1\u001b[49m\u001b[43m(\u001b[49m\u001b[38;5;124;43m\"\u001b[39;49m\u001b[38;5;124;43mrohan\u001b[39;49m\u001b[38;5;124;43m\"\u001b[39;49m\u001b[43m,\u001b[49m\u001b[38;5;124;43m\"\u001b[39;49m\u001b[38;5;124;43mrohan@gmail.com\u001b[39;49m\u001b[38;5;124;43m\"\u001b[39;49m\u001b[43m)\u001b[49m\n",
      "\u001b[1;31mTypeError\u001b[0m: 'pwskills1' object is not callable"
     ]
    }
   ],
   "source": [
    "pw1(\"rohan\",\"rohan@gmail.com\")"
   ]
  },
  {
   "cell_type": "code",
   "execution_count": 41,
   "id": "febcafee",
   "metadata": {},
   "outputs": [],
   "source": [
    "class pwskills3:\n",
    "    \n",
    "    mobile_number = 9134534535\n",
    "    \n",
    "    def __init__(self, name , email):\n",
    "        \n",
    "        self.name = name\n",
    "        self.email = email\n",
    "        \n",
    "    \n",
    "    @classmethod\n",
    "    def change_number(cls, mobile):\n",
    "        pwskills3.mobile_number = mobile\n",
    "    \n",
    "    @classmethod\n",
    "    def details(cls , name1 , email1):\n",
    "        return cls(name1 , email1)\n",
    "    \n",
    "    def student_details(self):\n",
    "        print(self.name , self.email,pwskills3.mobile_number)"
   ]
  },
  {
   "cell_type": "code",
   "execution_count": 42,
   "id": "8f3e9cd0",
   "metadata": {},
   "outputs": [],
   "source": [
    "def course_details(cls ,course_name ):\n",
    "    print(\"course details\" , course_name)"
   ]
  },
  {
   "cell_type": "code",
   "execution_count": 43,
   "id": "950bd2e4",
   "metadata": {},
   "outputs": [],
   "source": [
    "obj=pwskills3(\"Ram\",\"Ram@ok\")"
   ]
  },
  {
   "cell_type": "code",
   "execution_count": 44,
   "id": "ea0f985f",
   "metadata": {},
   "outputs": [
    {
     "data": {
      "text/plain": [
       "<__main__.pwskills3 at 0x2480a90f580>"
      ]
     },
     "execution_count": 44,
     "metadata": {},
     "output_type": "execute_result"
    }
   ],
   "source": [
    "obj.details(\"Sam\",\"Sam@yo\")"
   ]
  },
  {
   "cell_type": "code",
   "execution_count": 45,
   "id": "c6fcf13e",
   "metadata": {},
   "outputs": [
    {
     "data": {
      "text/plain": [
       "'Ram'"
      ]
     },
     "execution_count": 45,
     "metadata": {},
     "output_type": "execute_result"
    }
   ],
   "source": [
    "obj.name"
   ]
  },
  {
   "cell_type": "markdown",
   "id": "ffa9e5b2",
   "metadata": {},
   "source": [
    "See, from the object using class methods we cannot get in output the new name in place of the one given in constructors\n",
    "but, we can do so using directly the class"
   ]
  },
  {
   "cell_type": "code",
   "execution_count": 53,
   "id": "84bcfa39",
   "metadata": {},
   "outputs": [],
   "source": [
    "obj=pwskills3.details(\"Sam\",\"Sam@yo\")"
   ]
  },
  {
   "cell_type": "code",
   "execution_count": 54,
   "id": "78cd1c26",
   "metadata": {},
   "outputs": [
    {
     "data": {
      "text/plain": [
       "'Sam'"
      ]
     },
     "execution_count": 54,
     "metadata": {},
     "output_type": "execute_result"
    }
   ],
   "source": [
    "obj.name"
   ]
  },
  {
   "cell_type": "markdown",
   "id": "fcac10e9",
   "metadata": {},
   "source": []
  },
  {
   "cell_type": "code",
   "execution_count": 55,
   "id": "cee8618a",
   "metadata": {},
   "outputs": [
    {
     "data": {
      "text/plain": [
       "'87340328932'"
      ]
     },
     "execution_count": 55,
     "metadata": {},
     "output_type": "execute_result"
    }
   ],
   "source": [
    "obj.mobile_number"
   ]
  },
  {
   "cell_type": "code",
   "execution_count": 56,
   "id": "f87bbf5f",
   "metadata": {},
   "outputs": [],
   "source": [
    "obj.change_number(\"87340328932\")"
   ]
  },
  {
   "cell_type": "code",
   "execution_count": 57,
   "id": "37577ada",
   "metadata": {},
   "outputs": [
    {
     "data": {
      "text/plain": [
       "'87340328932'"
      ]
     },
     "execution_count": 57,
     "metadata": {},
     "output_type": "execute_result"
    }
   ],
   "source": [
    "obj.mobile_number"
   ]
  },
  {
   "cell_type": "markdown",
   "id": "8e604ace",
   "metadata": {},
   "source": [
    "Here the mobile number change directly through the object using class method because mob. no. var is not inside the constructor"
   ]
  },
  {
   "cell_type": "code",
   "execution_count": 58,
   "id": "958e46ed",
   "metadata": {},
   "outputs": [
    {
     "name": "stdout",
     "output_type": "stream",
     "text": [
      "Sam Sam@yo 87340328932\n"
     ]
    }
   ],
   "source": [
    "obj.student_details()"
   ]
  },
  {
   "cell_type": "code",
   "execution_count": 59,
   "id": "70b1acd0",
   "metadata": {},
   "outputs": [],
   "source": [
    "pwskills3.new_func = classmethod(course_details)"
   ]
  },
  {
   "cell_type": "markdown",
   "id": "fcd18771",
   "metadata": {},
   "source": [
    "this how we use the class method for an external function"
   ]
  },
  {
   "cell_type": "code",
   "execution_count": 67,
   "id": "1f03899f",
   "metadata": {},
   "outputs": [
    {
     "name": "stdout",
     "output_type": "stream",
     "text": [
      "course details tHE nONSENSE sTUDIES\n"
     ]
    }
   ],
   "source": [
    "pwskills3.new_func(\"tHE nONSENSE sTUDIES\")"
   ]
  },
  {
   "cell_type": "code",
   "execution_count": 68,
   "id": "c2878b95",
   "metadata": {},
   "outputs": [],
   "source": [
    "obj = pwskills3(\"MAdh\" , \"MAdh@gmail.com\")"
   ]
  },
  {
   "cell_type": "code",
   "execution_count": 69,
   "id": "da076390",
   "metadata": {},
   "outputs": [
    {
     "name": "stdout",
     "output_type": "stream",
     "text": [
      "course details how to scroll for 72 hrs\n"
     ]
    }
   ],
   "source": [
    "obj.new_func(\"how to scroll for 72 hrs\")"
   ]
  },
  {
   "cell_type": "code",
   "execution_count": 71,
   "id": "90a2329a",
   "metadata": {},
   "outputs": [],
   "source": [
    "del pwskills3.change_number"
   ]
  },
  {
   "cell_type": "code",
   "execution_count": 72,
   "id": "104369a3",
   "metadata": {},
   "outputs": [
    {
     "ename": "AttributeError",
     "evalue": "type object 'pwskills3' has no attribute 'change_number'",
     "output_type": "error",
     "traceback": [
      "\u001b[1;31m---------------------------------------------------------------------------\u001b[0m",
      "\u001b[1;31mAttributeError\u001b[0m                            Traceback (most recent call last)",
      "Input \u001b[1;32mIn [72]\u001b[0m, in \u001b[0;36m<cell line: 1>\u001b[1;34m()\u001b[0m\n\u001b[1;32m----> 1\u001b[0m \u001b[43mpwskills3\u001b[49m\u001b[38;5;241;43m.\u001b[39;49m\u001b[43mchange_number\u001b[49m(\u001b[38;5;241m2432535345\u001b[39m)\n",
      "\u001b[1;31mAttributeError\u001b[0m: type object 'pwskills3' has no attribute 'change_number'"
     ]
    }
   ],
   "source": [
    "pwskills3.change_number(2432535345)"
   ]
  },
  {
   "cell_type": "code",
   "execution_count": 74,
   "id": "d999afbf",
   "metadata": {},
   "outputs": [
    {
     "data": {
      "text/plain": [
       "'87340328932'"
      ]
     },
     "execution_count": 74,
     "metadata": {},
     "output_type": "execute_result"
    }
   ],
   "source": [
    "pwskills3.mobile_number"
   ]
  },
  {
   "cell_type": "code",
   "execution_count": 76,
   "id": "c66e2731",
   "metadata": {},
   "outputs": [],
   "source": [
    "\n",
    "delattr(pwskills3 , \"mobile_number\")"
   ]
  },
  {
   "cell_type": "code",
   "execution_count": 78,
   "id": "6539c084",
   "metadata": {},
   "outputs": [
    {
     "ename": "AttributeError",
     "evalue": "type object 'pwskills3' has no attribute 'mobile_number'",
     "output_type": "error",
     "traceback": [
      "\u001b[1;31m---------------------------------------------------------------------------\u001b[0m",
      "\u001b[1;31mAttributeError\u001b[0m                            Traceback (most recent call last)",
      "Input \u001b[1;32mIn [78]\u001b[0m, in \u001b[0;36m<cell line: 1>\u001b[1;34m()\u001b[0m\n\u001b[1;32m----> 1\u001b[0m \u001b[43mpwskills3\u001b[49m\u001b[38;5;241;43m.\u001b[39;49m\u001b[43mmobile_number\u001b[49m\n",
      "\u001b[1;31mAttributeError\u001b[0m: type object 'pwskills3' has no attribute 'mobile_number'"
     ]
    }
   ],
   "source": [
    "pwskills3.mobile_number"
   ]
  },
  {
   "cell_type": "markdown",
   "id": "4980fadd",
   "metadata": {},
   "source": [
    "Static methods are used when a method in a class doesn't need to access or modify instance-specific data , you designate a method as static using the @staticmethod decorator. "
   ]
  },
  {
   "cell_type": "code",
   "execution_count": 79,
   "id": "e127730e",
   "metadata": {},
   "outputs": [],
   "source": [
    "class MagicSchool:\n",
    "    @staticmethod\n",
    "    def magical_greeting():\n",
    "        print(\"Greetings, magical beings!\")\n"
   ]
  },
  {
   "cell_type": "code",
   "execution_count": 80,
   "id": "6def3918",
   "metadata": {},
   "outputs": [
    {
     "name": "stdout",
     "output_type": "stream",
     "text": [
      "Greetings, magical beings!\n"
     ]
    }
   ],
   "source": [
    "MagicSchool.magical_greeting()"
   ]
  },
  {
   "cell_type": "code",
   "execution_count": 81,
   "id": "5fa354a7",
   "metadata": {},
   "outputs": [
    {
     "data": {
      "text/plain": [
       "<__main__.MagicSchool at 0x2480ab7f1f0>"
      ]
     },
     "execution_count": 81,
     "metadata": {},
     "output_type": "execute_result"
    }
   ],
   "source": [
    "MagicSchool()"
   ]
  },
  {
   "cell_type": "code",
   "execution_count": 82,
   "id": "746ea6d0",
   "metadata": {},
   "outputs": [],
   "source": [
    "class pwskills1:\n",
    "    def student_details(self , name , mail_id , number) : \n",
    "        print(name , mail_id, number)\n",
    "        \n",
    "    @staticmethod\n",
    "    def mentor_class(list_mentor) : \n",
    "        print(list_mentor)\n",
    "        \n",
    "    def mentor(self , mentor_list) :\n",
    "        print(mentor_list)"
   ]
  },
  {
   "cell_type": "code",
   "execution_count": 83,
   "id": "ee92fc8a",
   "metadata": {},
   "outputs": [
    {
     "name": "stdout",
     "output_type": "stream",
     "text": [
      "['sudh', 'kris']\n"
     ]
    }
   ],
   "source": [
    "pwskills1.mentor_class([\"sudh\" , \"kris\"])"
   ]
  },
  {
   "cell_type": "code",
   "execution_count": 85,
   "id": "f3f7860c",
   "metadata": {},
   "outputs": [],
   "source": [
    "pw1=pwskills1()"
   ]
  },
  {
   "cell_type": "code",
   "execution_count": 86,
   "id": "c566e953",
   "metadata": {},
   "outputs": [
    {
     "name": "stdout",
     "output_type": "stream",
     "text": [
      "['krish', 'sudh']\n"
     ]
    }
   ],
   "source": [
    "pw1.mentor([\"krish\" , \"sudh\"])"
   ]
  },
  {
   "cell_type": "code",
   "execution_count": 87,
   "id": "8f4ea455",
   "metadata": {},
   "outputs": [
    {
     "name": "stdout",
     "output_type": "stream",
     "text": [
      "['sudh', 'naik']\n"
     ]
    }
   ],
   "source": [
    "pw1.mentor_class([\"sudh\" , \"naik\"])"
   ]
  },
  {
   "cell_type": "code",
   "execution_count": 88,
   "id": "4a2863ed",
   "metadata": {},
   "outputs": [
    {
     "name": "stdout",
     "output_type": "stream",
     "text": [
      "['srdh', 'naik']\n"
     ]
    }
   ],
   "source": [
    "pw1.mentor_class([\"srdh\" , \"naik\"])"
   ]
  },
  {
   "cell_type": "code",
   "execution_count": 89,
   "id": "4e02da65",
   "metadata": {},
   "outputs": [],
   "source": [
    "class pwskills1:\n",
    "    def student_details(self , name , mail_id , number) : \n",
    "        print(name , mail_id, number)\n",
    "        \n",
    "    @staticmethod\n",
    "    def mentor_mail_id(mail_id):\n",
    "        print(mail_id)\n",
    "        \n",
    "    @staticmethod\n",
    "    def mentor_class(list_mentor) : \n",
    "        print(list_mentor)\n",
    "        pwskills1.mentor_mail_id([\"krish@gmail.com\" , \"sudh@gmail.com\"])\n",
    "        \n",
    "    @classmethod\n",
    "    def class_name(cls,class_name):\n",
    "        cls.mentor_class([\"sudh\" , \"krish\"])\n",
    "        \n",
    "    def mentor(self , mentor_list) :\n",
    "        print(mentor_list)\n",
    "        self.mentor_class([\"krish\" , \"sudh\"])"
   ]
  },
  {
   "cell_type": "code",
   "execution_count": 90,
   "id": "1f5309d5",
   "metadata": {},
   "outputs": [],
   "source": [
    "pw1 = pwskills1()"
   ]
  },
  {
   "cell_type": "code",
   "execution_count": 91,
   "id": "2ed6c8f9",
   "metadata": {},
   "outputs": [
    {
     "name": "stdout",
     "output_type": "stream",
     "text": [
      "mohan mohan@gmail.com 9675657657\n"
     ]
    }
   ],
   "source": [
    "pw1.student_details(\"mohan\" , \"mohan@gmail.com\" , 9675657657)"
   ]
  },
  {
   "cell_type": "code",
   "execution_count": 92,
   "id": "ec2d55c9",
   "metadata": {},
   "outputs": [
    {
     "name": "stdout",
     "output_type": "stream",
     "text": [
      "['krish@gmail.com', 'sudh@gmail.com']\n"
     ]
    }
   ],
   "source": [
    "pw1.mentor_mail_id([\"krish@gmail.com\" , \"sudh@gmail.com\"])"
   ]
  },
  {
   "cell_type": "code",
   "execution_count": 93,
   "id": "1123563f",
   "metadata": {},
   "outputs": [
    {
     "name": "stdout",
     "output_type": "stream",
     "text": [
      "['sudh', 'krish']\n",
      "['krish@gmail.com', 'sudh@gmail.com']\n"
     ]
    }
   ],
   "source": [
    "pw1.class_name(\"yo yo ho ho\")"
   ]
  },
  {
   "cell_type": "code",
   "execution_count": 94,
   "id": "991b13b5",
   "metadata": {},
   "outputs": [
    {
     "name": "stdout",
     "output_type": "stream",
     "text": [
      "['krish@gmail.com', 'sudh@gmail.com']\n"
     ]
    }
   ],
   "source": [
    "pwskills1.mentor_mail_id([\"krish@gmail.com\" , \"sudh@gmail.com\"])"
   ]
  },
  {
   "cell_type": "code",
   "execution_count": 96,
   "id": "ce47f7f7",
   "metadata": {},
   "outputs": [
    {
     "name": "stdout",
     "output_type": "stream",
     "text": [
      "['Rami', 'Timothy']\n",
      "['krish', 'sudh']\n",
      "['krish@gmail.com', 'sudh@gmail.com']\n"
     ]
    }
   ],
   "source": [
    "pw1.mentor(['Rami', 'Timothy'])"
   ]
  },
  {
   "cell_type": "markdown",
   "id": "fc6ca875",
   "metadata": {},
   "source": [
    "What are Magic (Dunder) Methods?\n",
    "\n",
    "Magic methods in Python are special methods that begin and end with double underscores (e.g., __init__, __str__). These methods are invoked by the Python interpreter for specific operations or behaviors.\n",
    "Magic methods allow you to define custom behavior for your objects when they're involved in operations like addition, printing, comparison, etc. They enable your custom objects to behave like built-in types."
   ]
  },
  {
   "cell_type": "markdown",
   "id": "dc592202",
   "metadata": {},
   "source": [
    "Commonly Used Magic Methods:\n",
    "\n",
    "__init__(self, ...): Initializes an object when it's created.\n",
    "\n",
    "__str__(self): Returns a string representation of the object.\n",
    "\n",
    "__repr__(self): Returns a representation of the object (often used for debugging).\n",
    "\n",
    "__len__(self): Returns the length of the object.\n",
    "\n",
    "__getitem__(self, key): Gets an item by key (used for indexing).\n",
    "\n",
    "__setitem__(self, key, value): Sets an item by key (used for assignment).\n",
    "\n",
    "__delitem__(self, key): Deletes an item by key.\n",
    "\n",
    "__eq__(self, other): Checks for equality with another object.\n",
    "\n",
    "__lt__(self, other): Checks if the object is less than another.\n"
   ]
  },
  {
   "cell_type": "code",
   "execution_count": 6,
   "id": "8593069b",
   "metadata": {},
   "outputs": [],
   "source": [
    "class MagicalBook:\n",
    "    def __init__(self, title):\n",
    "        self.title = title\n",
    "\n",
    "    def __str__(self):\n",
    "        return f\"A magical book titled '{self.title}'\"\n",
    "\n",
    "book = MagicalBook(\"The Python Chronicles\")"
   ]
  },
  {
   "cell_type": "code",
   "execution_count": 7,
   "id": "711b5842",
   "metadata": {
    "scrolled": true
   },
   "outputs": [
    {
     "name": "stdout",
     "output_type": "stream",
     "text": [
      "A magical book titled 'The Python Chronicles'\n"
     ]
    }
   ],
   "source": [
    "print(book)"
   ]
  },
  {
   "cell_type": "code",
   "execution_count": 1,
   "id": "6701a24b",
   "metadata": {},
   "outputs": [],
   "source": [
    "class IBook:\n",
    "    def __init__(self, name):\n",
    "        self.gal = name\n",
    "\n",
    "    def __len__(self):\n",
    "        return len(self.gal)\n",
    "\n",
    "e=IBook(\"Caprianno\")"
   ]
  },
  {
   "cell_type": "code",
   "execution_count": 2,
   "id": "ea6c82e0",
   "metadata": {},
   "outputs": [
    {
     "data": {
      "text/plain": [
       "<__main__.IBook at 0x27fdf452130>"
      ]
     },
     "execution_count": 2,
     "metadata": {},
     "output_type": "execute_result"
    }
   ],
   "source": [
    "e"
   ]
  },
  {
   "cell_type": "code",
   "execution_count": 22,
   "id": "8edc5942",
   "metadata": {},
   "outputs": [
    {
     "name": "stdout",
     "output_type": "stream",
     "text": [
      "Caprianno\n"
     ]
    }
   ],
   "source": [
    "print(e.gal)"
   ]
  },
  {
   "cell_type": "code",
   "execution_count": 23,
   "id": "e52a3650",
   "metadata": {},
   "outputs": [
    {
     "name": "stdout",
     "output_type": "stream",
     "text": [
      "9\n"
     ]
    }
   ],
   "source": [
    "print(len(e))"
   ]
  },
  {
   "cell_type": "code",
   "execution_count": 24,
   "id": "c2f1dfb9",
   "metadata": {},
   "outputs": [
    {
     "name": "stdout",
     "output_type": "stream",
     "text": [
      "<__main__.IBook object at 0x00000272E9AC3490>\n"
     ]
    }
   ],
   "source": [
    "print(e)"
   ]
  },
  {
   "cell_type": "code",
   "execution_count": 26,
   "id": "8cb73b23",
   "metadata": {},
   "outputs": [
    {
     "data": {
      "text/plain": [
       "datetime.datetime(2023, 9, 30, 3, 15, 27, 492359)"
      ]
     },
     "execution_count": 26,
     "metadata": {},
     "output_type": "execute_result"
    }
   ],
   "source": []
  },
  {
   "cell_type": "code",
   "execution_count": 28,
   "id": "e96f8379",
   "metadata": {},
   "outputs": [
    {
     "name": "stdout",
     "output_type": "stream",
     "text": [
      "<built-in method now of type object at 0x00007FFA7546B650>\n"
     ]
    }
   ],
   "source": []
  },
  {
   "cell_type": "markdown",
   "id": "93a0e83e",
   "metadata": {},
   "source": [
    "The __str__ and __repr__ methods are both used to provide string representations of objects in Python. However, they serve different purposes and are used in different contexts.\n",
    "\n",
    "__str__ Method :\n",
    "\n",
    "The __str__ method is called by the str() built-in function and by the print() function to get a string representation of the object.\n",
    "\n",
    "It's intended to provide a human-readable representation of the object.\n",
    "\n",
    "This method is used for creating output for end-users.\n",
    "\n",
    "If __str__ is not defined for an object, __repr__ will be called as a fallback."
   ]
  },
  {
   "cell_type": "code",
   "execution_count": 29,
   "id": "af9759a2",
   "metadata": {},
   "outputs": [
    {
     "name": "stdout",
     "output_type": "stream",
     "text": [
      "MyClass instance with value: 42\n"
     ]
    }
   ],
   "source": [
    "class MyClass:\n",
    "    def __init__(self, value):\n",
    "        self.value = value\n",
    "\n",
    "    def __str__(self):\n",
    "        return f\"MyClass instance with value: {self.value}\"\n",
    "\n",
    "obj = MyClass(42)\n",
    "print(str(obj))  # Output: MyClass instance with value: 42\n"
   ]
  },
  {
   "cell_type": "markdown",
   "id": "afb45ce1",
   "metadata": {},
   "source": [
    "__repr__ Method:\n",
    "\n",
    "\n",
    "\n",
    "The __repr__ method is called by the repr() built-in function to get a string representation of the object.\n",
    "\n",
    "It's intended to provide a developer-readable representation of the object.\n",
    "\n",
    "This method is used for debugging and development purposes.\n",
    "\n",
    "If __repr__ is not defined, a default implementation is used based on the object's memory address."
   ]
  },
  {
   "cell_type": "code",
   "execution_count": 30,
   "id": "cb28dab4",
   "metadata": {},
   "outputs": [
    {
     "name": "stdout",
     "output_type": "stream",
     "text": [
      "MyClass(42)\n"
     ]
    }
   ],
   "source": [
    "class MyClass:\n",
    "    def __init__(self, value):\n",
    "        self.value = value\n",
    "\n",
    "    def __repr__(self):\n",
    "        return f\"MyClass({self.value})\"\n",
    "\n",
    "obj = MyClass(42)\n",
    "print(repr(obj))  # Output: MyClass(42)\n"
   ]
  },
  {
   "cell_type": "code",
   "execution_count": 3,
   "id": "a8c8cf9a",
   "metadata": {},
   "outputs": [],
   "source": [
    "class new:\n",
    "    def __init__(self,name):\n",
    "        self.name=name\n",
    "    def __str__(self):\n",
    "        return f\"ur crush's name is {self.name}\"\n",
    "    def __repr__(self):\n",
    "        return f\"new false hope is {self.name}\"\n",
    "\n",
    "dream=new(\"every girl\")"
   ]
  },
  {
   "cell_type": "code",
   "execution_count": 4,
   "id": "675290ad",
   "metadata": {},
   "outputs": [
    {
     "name": "stdout",
     "output_type": "stream",
     "text": [
      "ur crush's name is every girl\n"
     ]
    }
   ],
   "source": [
    "print(dream)"
   ]
  },
  {
   "cell_type": "code",
   "execution_count": 5,
   "id": "2b0cdbf3",
   "metadata": {},
   "outputs": [
    {
     "name": "stdout",
     "output_type": "stream",
     "text": [
      "ur crush's name is every girl\n"
     ]
    }
   ],
   "source": [
    "print(str(dream))"
   ]
  },
  {
   "cell_type": "code",
   "execution_count": 6,
   "id": "da5c0138",
   "metadata": {},
   "outputs": [
    {
     "name": "stdout",
     "output_type": "stream",
     "text": [
      "new false hope is every girl\n"
     ]
    }
   ],
   "source": [
    "print(repr(dream))"
   ]
  },
  {
   "cell_type": "code",
   "execution_count": 36,
   "id": "ee9d357a",
   "metadata": {},
   "outputs": [
    {
     "ename": "TypeError",
     "evalue": "__init__() missing 1 required positional argument: 'name'",
     "output_type": "error",
     "traceback": [
      "\u001b[1;31m---------------------------------------------------------------------------\u001b[0m",
      "\u001b[1;31mTypeError\u001b[0m                                 Traceback (most recent call last)",
      "Input \u001b[1;32mIn [36]\u001b[0m, in \u001b[0;36m<cell line: 1>\u001b[1;34m()\u001b[0m\n\u001b[1;32m----> 1\u001b[0m \u001b[43mnew\u001b[49m\u001b[43m(\u001b[49m\u001b[43m)\u001b[49m\n",
      "\u001b[1;31mTypeError\u001b[0m: __init__() missing 1 required positional argument: 'name'"
     ]
    }
   ],
   "source": [
    "new()"
   ]
  },
  {
   "cell_type": "markdown",
   "id": "b25a8ae4",
   "metadata": {},
   "source": [
    "now the call method allows the object to be called as if it were a function\n",
    "\n",
    "When you define __call__ in a class, it enables instances of that class to be callable\n"
   ]
  },
  {
   "cell_type": "code",
   "execution_count": 37,
   "id": "15d169c8",
   "metadata": {},
   "outputs": [],
   "source": [
    "class CallableClass:\n",
    "    def __call__(self, *args, **kwargs):\n",
    "        # Define behavior when the instance is called\n",
    "        pass\n"
   ]
  },
  {
   "cell_type": "markdown",
   "id": "21b143de",
   "metadata": {},
   "source": [
    "Behavior When Called:\n",
    "\n",
    "Inside the __call__ method, you can define any behavior you want for the instance when it's called, just like you would in a regular function.\n",
    "\n",
    "The *args and **kwargs allow the instance to accept any number of positional and keyword arguments, just like a regular function."
   ]
  },
  {
   "cell_type": "code",
   "execution_count": 38,
   "id": "e0bd6ed7",
   "metadata": {},
   "outputs": [
    {
     "name": "stdout",
     "output_type": "stream",
     "text": [
      "Instance of CallableClass was called!\n"
     ]
    }
   ],
   "source": [
    "class CallableClass:\n",
    "    def __call__(self, *args, **kwargs):\n",
    "        print(\"Instance of CallableClass was called!\")\n",
    "\n",
    "# Create an instance\n",
    "instance = CallableClass()\n",
    "\n",
    "# Call the instance as if it were a function\n",
    "instance()  # Output: Instance of CallableClass was called!"
   ]
  },
  {
   "cell_type": "markdown",
   "id": "ff85d187",
   "metadata": {},
   "source": [
    "Use Cases:\n",
    "\n",
    "**Function-Like **Behavior: You can use __call__ to give instances function-like behavior, allowing them to accept arguments and perform actions when called.\n",
    "\n",
    "**Maintain **State: Instances can maintain internal state between calls, similar to closures in regular functions."
   ]
  },
  {
   "cell_type": "code",
   "execution_count": 7,
   "id": "49c9c4c3",
   "metadata": {},
   "outputs": [
    {
     "name": "stdout",
     "output_type": "stream",
     "text": [
      "1\n",
      "2\n"
     ]
    }
   ],
   "source": [
    " class Counter:\n",
    "     def __init__(self):\n",
    "         self.count = 0\n",
    "\n",
    "     def __call__(self):\n",
    "         self.count += 1\n",
    "         return self.count\n",
    "\n",
    " counter = Counter()\n",
    " print(counter())  # Output: 1\n",
    " print(counter())  # Output: 2\n"
   ]
  },
  {
   "cell_type": "code",
   "execution_count": 8,
   "id": "aa3c25d7",
   "metadata": {},
   "outputs": [
    {
     "ename": "TypeError",
     "evalue": "'Counter' object is not callable",
     "output_type": "error",
     "traceback": [
      "\u001b[1;31m---------------------------------------------------------------------------\u001b[0m",
      "\u001b[1;31mTypeError\u001b[0m                                 Traceback (most recent call last)",
      "Input \u001b[1;32mIn [8]\u001b[0m, in \u001b[0;36m<cell line: 10>\u001b[1;34m()\u001b[0m\n\u001b[0;32m      5\u001b[0m \u001b[38;5;66;03m#      def __call__(self):\u001b[39;00m\n\u001b[0;32m      6\u001b[0m \u001b[38;5;66;03m#          self.count += 1\u001b[39;00m\n\u001b[0;32m      7\u001b[0m \u001b[38;5;66;03m#          return self.count\u001b[39;00m\n\u001b[0;32m      9\u001b[0m counter \u001b[38;5;241m=\u001b[39m Counter()\n\u001b[1;32m---> 10\u001b[0m \u001b[38;5;28mprint\u001b[39m(\u001b[43mcounter\u001b[49m\u001b[43m(\u001b[49m\u001b[43m)\u001b[49m)  \u001b[38;5;66;03m# Output: 1\u001b[39;00m\n\u001b[0;32m     11\u001b[0m \u001b[38;5;28mprint\u001b[39m(counter())\n",
      "\u001b[1;31mTypeError\u001b[0m: 'Counter' object is not callable"
     ]
    }
   ],
   "source": [
    " class Counter:\n",
    "     def __init__(self):\n",
    "         self.count = 0\n",
    "\n",
    "#      def __call__(self):\n",
    "#          self.count += 1\n",
    "#          return self.count\n",
    "\n",
    " counter = Counter()\n",
    " print(counter())  # Output: 1\n",
    " print(counter())  # Output: 2\n"
   ]
  },
  {
   "cell_type": "code",
   "execution_count": 9,
   "id": "f23b1ec0",
   "metadata": {},
   "outputs": [
    {
     "name": "stdout",
     "output_type": "stream",
     "text": [
      "<__main__.Counter object at 0x0000027FDF48F100>\n"
     ]
    }
   ],
   "source": [
    "print(counter)"
   ]
  },
  {
   "cell_type": "code",
   "execution_count": 43,
   "id": "e41493f7",
   "metadata": {},
   "outputs": [
    {
     "data": {
      "text/plain": [
       "['__abs__',\n",
       " '__add__',\n",
       " '__and__',\n",
       " '__bool__',\n",
       " '__ceil__',\n",
       " '__class__',\n",
       " '__delattr__',\n",
       " '__dir__',\n",
       " '__divmod__',\n",
       " '__doc__',\n",
       " '__eq__',\n",
       " '__float__',\n",
       " '__floor__',\n",
       " '__floordiv__',\n",
       " '__format__',\n",
       " '__ge__',\n",
       " '__getattribute__',\n",
       " '__getnewargs__',\n",
       " '__gt__',\n",
       " '__hash__',\n",
       " '__index__',\n",
       " '__init__',\n",
       " '__init_subclass__',\n",
       " '__int__',\n",
       " '__invert__',\n",
       " '__le__',\n",
       " '__lshift__',\n",
       " '__lt__',\n",
       " '__mod__',\n",
       " '__mul__',\n",
       " '__ne__',\n",
       " '__neg__',\n",
       " '__new__',\n",
       " '__or__',\n",
       " '__pos__',\n",
       " '__pow__',\n",
       " '__radd__',\n",
       " '__rand__',\n",
       " '__rdivmod__',\n",
       " '__reduce__',\n",
       " '__reduce_ex__',\n",
       " '__repr__',\n",
       " '__rfloordiv__',\n",
       " '__rlshift__',\n",
       " '__rmod__',\n",
       " '__rmul__',\n",
       " '__ror__',\n",
       " '__round__',\n",
       " '__rpow__',\n",
       " '__rrshift__',\n",
       " '__rshift__',\n",
       " '__rsub__',\n",
       " '__rtruediv__',\n",
       " '__rxor__',\n",
       " '__setattr__',\n",
       " '__sizeof__',\n",
       " '__str__',\n",
       " '__sub__',\n",
       " '__subclasshook__',\n",
       " '__truediv__',\n",
       " '__trunc__',\n",
       " '__xor__',\n",
       " 'as_integer_ratio',\n",
       " 'bit_length',\n",
       " 'conjugate',\n",
       " 'denominator',\n",
       " 'from_bytes',\n",
       " 'imag',\n",
       " 'numerator',\n",
       " 'real',\n",
       " 'to_bytes']"
      ]
     },
     "execution_count": 43,
     "metadata": {},
     "output_type": "execute_result"
    }
   ],
   "source": [
    "dir(int)"
   ]
  },
  {
   "cell_type": "code",
   "execution_count": 44,
   "id": "24156bf2",
   "metadata": {},
   "outputs": [
    {
     "data": {
      "text/plain": [
       "16"
      ]
     },
     "execution_count": 44,
     "metadata": {},
     "output_type": "execute_result"
    }
   ],
   "source": [
    "a=10\n",
    "a.__add__(6)"
   ]
  },
  {
   "cell_type": "code",
   "execution_count": 45,
   "id": "9d0b9bcd",
   "metadata": {},
   "outputs": [
    {
     "data": {
      "text/plain": [
       "16"
      ]
     },
     "execution_count": 45,
     "metadata": {},
     "output_type": "execute_result"
    }
   ],
   "source": [
    "a+6"
   ]
  },
  {
   "cell_type": "markdown",
   "id": "63594078",
   "metadata": {},
   "source": [
    "now in a+6 internally __add__() is called"
   ]
  },
  {
   "cell_type": "code",
   "execution_count": 46,
   "id": "fdaaecda",
   "metadata": {},
   "outputs": [
    {
     "data": {
      "text/plain": [
       "['__add__',\n",
       " '__class__',\n",
       " '__contains__',\n",
       " '__delattr__',\n",
       " '__dir__',\n",
       " '__doc__',\n",
       " '__eq__',\n",
       " '__format__',\n",
       " '__ge__',\n",
       " '__getattribute__',\n",
       " '__getitem__',\n",
       " '__getnewargs__',\n",
       " '__gt__',\n",
       " '__hash__',\n",
       " '__init__',\n",
       " '__init_subclass__',\n",
       " '__iter__',\n",
       " '__le__',\n",
       " '__len__',\n",
       " '__lt__',\n",
       " '__mod__',\n",
       " '__mul__',\n",
       " '__ne__',\n",
       " '__new__',\n",
       " '__reduce__',\n",
       " '__reduce_ex__',\n",
       " '__repr__',\n",
       " '__rmod__',\n",
       " '__rmul__',\n",
       " '__setattr__',\n",
       " '__sizeof__',\n",
       " '__str__',\n",
       " '__subclasshook__',\n",
       " 'capitalize',\n",
       " 'casefold',\n",
       " 'center',\n",
       " 'count',\n",
       " 'encode',\n",
       " 'endswith',\n",
       " 'expandtabs',\n",
       " 'find',\n",
       " 'format',\n",
       " 'format_map',\n",
       " 'index',\n",
       " 'isalnum',\n",
       " 'isalpha',\n",
       " 'isascii',\n",
       " 'isdecimal',\n",
       " 'isdigit',\n",
       " 'isidentifier',\n",
       " 'islower',\n",
       " 'isnumeric',\n",
       " 'isprintable',\n",
       " 'isspace',\n",
       " 'istitle',\n",
       " 'isupper',\n",
       " 'join',\n",
       " 'ljust',\n",
       " 'lower',\n",
       " 'lstrip',\n",
       " 'maketrans',\n",
       " 'partition',\n",
       " 'removeprefix',\n",
       " 'removesuffix',\n",
       " 'replace',\n",
       " 'rfind',\n",
       " 'rindex',\n",
       " 'rjust',\n",
       " 'rpartition',\n",
       " 'rsplit',\n",
       " 'rstrip',\n",
       " 'split',\n",
       " 'splitlines',\n",
       " 'startswith',\n",
       " 'strip',\n",
       " 'swapcase',\n",
       " 'title',\n",
       " 'translate',\n",
       " 'upper',\n",
       " 'zfill']"
      ]
     },
     "execution_count": 46,
     "metadata": {},
     "output_type": "execute_result"
    }
   ],
   "source": [
    "dir(str)"
   ]
  },
  {
   "cell_type": "code",
   "execution_count": 48,
   "id": "fcd4e721",
   "metadata": {},
   "outputs": [],
   "source": [
    "class learn :\n",
    "    \n",
    "    def __new__(cls) : \n",
    "        print(\"this is my new\")\n",
    "        \n",
    "    \n",
    "    def __init__(self):\n",
    "        print(\"this is my init\")\n",
    "        "
   ]
  },
  {
   "cell_type": "markdown",
   "id": "dbf5b861",
   "metadata": {},
   "source": [
    "now before init always new is called if it is present\n",
    "also init internally calls new"
   ]
  },
  {
   "cell_type": "code",
   "execution_count": 55,
   "id": "07c9376b",
   "metadata": {},
   "outputs": [
    {
     "name": "stdout",
     "output_type": "stream",
     "text": [
      "this is my new\n"
     ]
    }
   ],
   "source": [
    "w = learn()"
   ]
  },
  {
   "cell_type": "code",
   "execution_count": 56,
   "id": "bdd01ea0",
   "metadata": {},
   "outputs": [],
   "source": [
    "class skills:\n",
    "    \n",
    "    def __init__(self, course_price , course_name):\n",
    "        self.__course_price = course_price\n",
    "        self.course_name = course_name\n"
   ]
  },
  {
   "cell_type": "code",
   "execution_count": 57,
   "id": "88b5c3f1",
   "metadata": {},
   "outputs": [],
   "source": [
    "p = skills(3500 , \"B.tech scamming\")"
   ]
  },
  {
   "cell_type": "code",
   "execution_count": 58,
   "id": "84e9dfcd",
   "metadata": {},
   "outputs": [
    {
     "data": {
      "text/plain": [
       "'B.tech scamming'"
      ]
     },
     "execution_count": 58,
     "metadata": {},
     "output_type": "execute_result"
    }
   ],
   "source": [
    "p.course_name"
   ]
  },
  {
   "cell_type": "code",
   "execution_count": 59,
   "id": "b5df0ece",
   "metadata": {},
   "outputs": [
    {
     "ename": "AttributeError",
     "evalue": "'skills' object has no attribute '__course_price'",
     "output_type": "error",
     "traceback": [
      "\u001b[1;31m---------------------------------------------------------------------------\u001b[0m",
      "\u001b[1;31mAttributeError\u001b[0m                            Traceback (most recent call last)",
      "Input \u001b[1;32mIn [59]\u001b[0m, in \u001b[0;36m<cell line: 1>\u001b[1;34m()\u001b[0m\n\u001b[1;32m----> 1\u001b[0m \u001b[43mp\u001b[49m\u001b[38;5;241;43m.\u001b[39;49m\u001b[43m__course_price\u001b[49m\n",
      "\u001b[1;31mAttributeError\u001b[0m: 'skills' object has no attribute '__course_price'"
     ]
    }
   ],
   "source": [
    "p.__course_price"
   ]
  },
  {
   "cell_type": "markdown",
   "id": "af67e902",
   "metadata": {},
   "source": [
    "now we cannot acces the private variable course price\n",
    "\n",
    "though we can access by:"
   ]
  },
  {
   "cell_type": "code",
   "execution_count": 60,
   "id": "c449b3a7",
   "metadata": {},
   "outputs": [
    {
     "data": {
      "text/plain": [
       "3500"
      ]
     },
     "execution_count": 60,
     "metadata": {},
     "output_type": "execute_result"
    }
   ],
   "source": [
    "p._skills__course_price"
   ]
  },
  {
   "cell_type": "markdown",
   "id": "113420b4",
   "metadata": {},
   "source": [
    "but it is highly unlikely that a end user will know about the class name and names of the attributes, so for this we use the property decorator which exposes a private value through a new method"
   ]
  },
  {
   "cell_type": "code",
   "execution_count": 75,
   "id": "293d9823",
   "metadata": {},
   "outputs": [],
   "source": [
    "class skills:\n",
    "    \n",
    "    def __init__(self, course_price , course_name):\n",
    "        self.__course_price = course_price\n",
    "        self.course_name = course_name\n",
    "        \n",
    "    @property\n",
    "    def course_price_access(self):\n",
    "        return self.__course_price\n"
   ]
  },
  {
   "cell_type": "code",
   "execution_count": 76,
   "id": "2077234c",
   "metadata": {},
   "outputs": [],
   "source": [
    "y = skills(3500 , \"B.tech scamming\")"
   ]
  },
  {
   "cell_type": "code",
   "execution_count": 77,
   "id": "37aeac5c",
   "metadata": {},
   "outputs": [
    {
     "data": {
      "text/plain": [
       "3500"
      ]
     },
     "execution_count": 77,
     "metadata": {},
     "output_type": "execute_result"
    }
   ],
   "source": [
    "y.course_price_access"
   ]
  },
  {
   "cell_type": "markdown",
   "id": "befe3fca",
   "metadata": {},
   "source": [
    "now here using y._skills__course_price inside class would not work"
   ]
  },
  {
   "cell_type": "code",
   "execution_count": 80,
   "id": "00752fef",
   "metadata": {},
   "outputs": [],
   "source": [
    "class skills2:\n",
    "    \n",
    "    def __init__(self, course_price , course_name):\n",
    "        self.__course_price = course_price\n",
    "        self.course_name = course_name\n",
    "        \n",
    "    def course_price_access(self):\n",
    "        return self._skills__course_price"
   ]
  },
  {
   "cell_type": "code",
   "execution_count": 81,
   "id": "948db860",
   "metadata": {},
   "outputs": [],
   "source": [
    "bantai = skills2(3500 , \"B.tech scamming\")"
   ]
  },
  {
   "cell_type": "code",
   "execution_count": 82,
   "id": "45e09bbf",
   "metadata": {},
   "outputs": [
    {
     "data": {
      "text/plain": [
       "<bound method skills2.course_price_access of <__main__.skills2 object at 0x00000272EA65B310>>"
      ]
     },
     "execution_count": 82,
     "metadata": {},
     "output_type": "execute_result"
    }
   ],
   "source": [
    "bantai.course_price_access"
   ]
  },
  {
   "cell_type": "markdown",
   "id": "41c567e8",
   "metadata": {},
   "source": [
    "But through property we won't be able to modify an attribute's value for this we use setters"
   ]
  },
  {
   "cell_type": "code",
   "execution_count": 95,
   "id": "7441a1d0",
   "metadata": {},
   "outputs": [],
   "source": [
    "class skill_India:\n",
    "    \n",
    "    def __init__(self, course_price , course_name):\n",
    "        self.__course_price = course_price\n",
    "        self.course_name = course_name\n",
    "        \n",
    "    @property\n",
    "    def course_price_access(self):\n",
    "        return self.__course_price\n",
    "    \n",
    "    @course_price_access.setter\n",
    "    def course_price_set(self , price):\n",
    "        if price <= 3500:\n",
    "            pass\n",
    "        else :\n",
    "            self.__course_price = price"
   ]
  },
  {
   "cell_type": "code",
   "execution_count": 96,
   "id": "3837573e",
   "metadata": {},
   "outputs": [],
   "source": [
    "o=skill_India(3500,\"Farzi Doctor\")"
   ]
  },
  {
   "cell_type": "code",
   "execution_count": 97,
   "id": "45bd0cd6",
   "metadata": {},
   "outputs": [],
   "source": [
    "o.course_price_set=2344"
   ]
  },
  {
   "cell_type": "code",
   "execution_count": 101,
   "id": "0f65d651",
   "metadata": {},
   "outputs": [
    {
     "data": {
      "text/plain": [
       "5668"
      ]
     },
     "execution_count": 101,
     "metadata": {},
     "output_type": "execute_result"
    }
   ],
   "source": [
    "o.course_price_access"
   ]
  },
  {
   "cell_type": "code",
   "execution_count": 102,
   "id": "37a4590d",
   "metadata": {},
   "outputs": [],
   "source": [
    "o.course_price_set=5668"
   ]
  },
  {
   "cell_type": "code",
   "execution_count": 103,
   "id": "6324d634",
   "metadata": {},
   "outputs": [
    {
     "data": {
      "text/plain": [
       "5668"
      ]
     },
     "execution_count": 103,
     "metadata": {},
     "output_type": "execute_result"
    }
   ],
   "source": [
    "o.course_price_access"
   ]
  },
  {
   "cell_type": "markdown",
   "id": "f694c58b",
   "metadata": {},
   "source": [
    "\n",
    "In Python, when you define a property setter using the @property.setter decorator, it changes the way you assign values to the property. Instead of using a method call like o.course_price_set(5668), you assign the value directly to the property, as if it were a regular attribute assignment."
   ]
  },
  {
   "cell_type": "code",
   "execution_count": 105,
   "id": "e7131a7b",
   "metadata": {},
   "outputs": [],
   "source": [
    "class skill_India1:\n",
    "    \n",
    "    def __init__(self, course_price , course_name):\n",
    "        self.__course_price = course_price\n",
    "        self.course_name = course_name\n",
    "        \n",
    "    @property\n",
    "    def course_price_access(self):\n",
    "        return self.__course_price\n",
    "    \n",
    "    @course_price_access.setter\n",
    "    def course_price_set(self , price):\n",
    "        if price <= 3500:\n",
    "            pass\n",
    "        else :\n",
    "            self.__course_price = price\n",
    "    \n",
    "    @course_price_access.deleter \n",
    "    def course_price_del(self):\n",
    "        del  self.__course_price"
   ]
  },
  {
   "cell_type": "code",
   "execution_count": 106,
   "id": "27555723",
   "metadata": {},
   "outputs": [],
   "source": [
    "og=skill_India(3500,\"Farzi Doctor\")"
   ]
  },
  {
   "cell_type": "code",
   "execution_count": 107,
   "id": "778fd231",
   "metadata": {},
   "outputs": [
    {
     "data": {
      "text/plain": [
       "3500"
      ]
     },
     "execution_count": 107,
     "metadata": {},
     "output_type": "execute_result"
    }
   ],
   "source": [
    "og.course_price_access"
   ]
  },
  {
   "cell_type": "code",
   "execution_count": 109,
   "id": "564c2dd4",
   "metadata": {},
   "outputs": [],
   "source": [
    "del og.course_price_del"
   ]
  },
  {
   "cell_type": "code",
   "execution_count": 110,
   "id": "3e28b760",
   "metadata": {},
   "outputs": [
    {
     "ename": "AttributeError",
     "evalue": "'skill_India' object has no attribute '_skill_India__course_price'",
     "output_type": "error",
     "traceback": [
      "\u001b[1;31m---------------------------------------------------------------------------\u001b[0m",
      "\u001b[1;31mAttributeError\u001b[0m                            Traceback (most recent call last)",
      "Input \u001b[1;32mIn [110]\u001b[0m, in \u001b[0;36m<cell line: 1>\u001b[1;34m()\u001b[0m\n\u001b[1;32m----> 1\u001b[0m \u001b[43mog\u001b[49m\u001b[38;5;241;43m.\u001b[39;49m\u001b[43mcourse_price_access\u001b[49m\n",
      "Input \u001b[1;32mIn [104]\u001b[0m, in \u001b[0;36mskill_India.course_price_access\u001b[1;34m(self)\u001b[0m\n\u001b[0;32m      7\u001b[0m \u001b[38;5;129m@property\u001b[39m\n\u001b[0;32m      8\u001b[0m \u001b[38;5;28;01mdef\u001b[39;00m \u001b[38;5;21mcourse_price_access\u001b[39m(\u001b[38;5;28mself\u001b[39m):\n\u001b[1;32m----> 9\u001b[0m     \u001b[38;5;28;01mreturn\u001b[39;00m \u001b[38;5;28;43mself\u001b[39;49m\u001b[38;5;241;43m.\u001b[39;49m\u001b[43m__course_price\u001b[49m\n",
      "\u001b[1;31mAttributeError\u001b[0m: 'skill_India' object has no attribute '_skill_India__course_price'"
     ]
    }
   ],
   "source": [
    "og.course_price_access"
   ]
  },
  {
   "cell_type": "code",
   "execution_count": null,
   "id": "8089c837",
   "metadata": {},
   "outputs": [],
   "source": []
  }
 ],
 "metadata": {
  "kernelspec": {
   "display_name": "Python 3 (ipykernel)",
   "language": "python",
   "name": "python3"
  },
  "language_info": {
   "codemirror_mode": {
    "name": "ipython",
    "version": 3
   },
   "file_extension": ".py",
   "mimetype": "text/x-python",
   "name": "python",
   "nbconvert_exporter": "python",
   "pygments_lexer": "ipython3",
   "version": "3.9.12"
  }
 },
 "nbformat": 4,
 "nbformat_minor": 5
}
