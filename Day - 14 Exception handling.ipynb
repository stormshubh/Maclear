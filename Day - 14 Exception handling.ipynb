{
 "cells": [
  {
   "cell_type": "code",
   "execution_count": 1,
   "id": "16c85770",
   "metadata": {},
   "outputs": [
    {
     "ename": "FileNotFoundError",
     "evalue": "[Errno 2] No such file or directory: 'nutan.txt'",
     "output_type": "error",
     "traceback": [
      "\u001b[1;31m---------------------------------------------------------------------------\u001b[0m",
      "\u001b[1;31mFileNotFoundError\u001b[0m                         Traceback (most recent call last)",
      "Input \u001b[1;32mIn [1]\u001b[0m, in \u001b[0;36m<cell line: 1>\u001b[1;34m()\u001b[0m\n\u001b[1;32m----> 1\u001b[0m f\u001b[38;5;241m=\u001b[39m\u001b[38;5;28;43mopen\u001b[39;49m\u001b[43m(\u001b[49m\u001b[38;5;124;43m\"\u001b[39;49m\u001b[38;5;124;43mnutan.txt\u001b[39;49m\u001b[38;5;124;43m\"\u001b[39;49m\u001b[43m,\u001b[49m\u001b[38;5;124;43m'\u001b[39;49m\u001b[38;5;124;43mr\u001b[39;49m\u001b[38;5;124;43m'\u001b[39;49m\u001b[43m)\u001b[49m\n\u001b[0;32m      2\u001b[0m \u001b[38;5;28mprint\u001b[39m(\u001b[38;5;124m\"\u001b[39m\u001b[38;5;124mkya hoga?\u001b[39m\u001b[38;5;124m\"\u001b[39m)\n",
      "\u001b[1;31mFileNotFoundError\u001b[0m: [Errno 2] No such file or directory: 'nutan.txt'"
     ]
    }
   ],
   "source": [
    "f=open(\"nutan.txt\",'r')\n",
    "print(\"kya hoga?\")"
   ]
  },
  {
   "cell_type": "markdown",
   "id": "5d7ac7b6",
   "metadata": {},
   "source": [
    "now here clearly the file I'm trying to open will not open because it does not exist also because of these the lines below it would not execute, now in a real life project there are so many lines of codes it becomes really very hard if there is a error, but you don't want your program to crash for this we use the try - except method"
   ]
  },
  {
   "cell_type": "markdown",
   "id": "4f61bd0f",
   "metadata": {},
   "source": []
  },
  {
   "cell_type": "markdown",
   "id": "169a92fd",
   "metadata": {},
   "source": [
    "### Basic Syntax:\n",
    "\n",
    "```python\n",
    "try:\n",
    "    # Code that might raise an exception\n",
    "    # ...\n",
    "except SomeException as e:\n",
    "    # Code to handle the exception\n",
    "    # ...\n",
    "```\n",
    "\n",
    "### Explanation:\n",
    "\n",
    "1. The `try` block contains the code that might raise an exception. This is the portion of your code where you anticipate a potential error.\n",
    "\n",
    "2. If an exception occurs within the `try` block, the control immediately jumps to the `except` block.\n",
    "\n",
    "3. The `except` block is where you handle the exception. You can specify the type of exception you want to catch, or you can catch a general exception.\n",
    "\n",
    "4. The `as e` part is optional but can be used to capture the exception object. This object contains information about the exception, such as its type and any associated error message."
   ]
  },
  {
   "cell_type": "code",
   "execution_count": 4,
   "id": "9a3dbaf4",
   "metadata": {},
   "outputs": [
    {
     "name": "stdout",
     "output_type": "stream",
     "text": [
      "Error: division by zero\n",
      "Result: 0\n"
     ]
    }
   ],
   "source": [
    "### Example:\n",
    "\n",
    "try:\n",
    "    x = 10 / 0  # This will raise a ZeroDivisionError\n",
    "except ZeroDivisionError as e:\n",
    "    print(f\"Error: {e}\")\n",
    "    # Handle the exception gracefully, e.g., by assigning a default value to x\n",
    "    x = 0\n",
    "\n",
    "print(f\"Result: {x}\")"
   ]
  },
  {
   "cell_type": "markdown",
   "id": "e3b9867c",
   "metadata": {},
   "source": [
    "In this example, a `ZeroDivisionError` is anticipated, and the `except` block catches and handles the exception. Instead of crashing the program, it prints an error message and assigns a default value to `x`.\n",
    "\n",
    "### Multiple Except Blocks:\n",
    "\n",
    "You can have multiple `except` blocks to handle different types of exceptions:\n",
    "\n",
    "try:\n",
    "    # Code that might raise an exception\n",
    "    # ...\n",
    "except ZeroDivisionError as e:\n",
    "    # Handle division by zero\n",
    "    # ...\n",
    "except ValueError as e:\n",
    "    # Handle a value error\n",
    "    # ...\n",
    "except Exception as e:\n",
    "    # Handle any other exceptions (general catch-all)\n",
    "    # ...\n",
    "```\n",
    "\n",
    "### Finally Block:\n",
    "\n",
    "You can also use a `finally` block to include code that should be executed regardless of whether an exception occurred or not. The `finally` block is optional.\n",
    "\n",
    "```python\n",
    "try:\n",
    "    # Code that might raise an exception\n",
    "    # ...\n",
    "except SomeException as e:\n",
    "    # Handle the exception\n",
    "    # ...\n",
    "finally:\n",
    "    # Code to be executed whether an exception occurred or not\n",
    "    # ...\n",
    "```\n",
    "\n",
    "The `finally` block is commonly used for cleanup tasks, such as closing files or releasing resources."
   ]
  },
  {
   "cell_type": "code",
   "execution_count": 6,
   "id": "734d6495",
   "metadata": {},
   "outputs": [
    {
     "name": "stdout",
     "output_type": "stream",
     "text": [
      "there is some issue with my code : [Errno 2] No such file or directory: 'nutan.txt'\n",
      "this is after exception handling\n"
     ]
    },
    {
     "data": {
      "text/plain": [
       "10"
      ]
     },
     "execution_count": 6,
     "metadata": {},
     "output_type": "execute_result"
    }
   ],
   "source": [
    "try:\n",
    "    f=open(\"nutan.txt\",'r')\n",
    "except Exception as e :\n",
    "    print(\"there is some issue with my code :\",e)\n",
    "print(\"this is after exception handling\")\n",
    "a=10\n",
    "a"
   ]
  },
  {
   "cell_type": "code",
   "execution_count": 7,
   "id": "09779bee",
   "metadata": {},
   "outputs": [
    {
     "name": "stdout",
     "output_type": "stream",
     "text": [
      "there is some issue with my code  name 'write' is not defined\n"
     ]
    }
   ],
   "source": [
    "try:\n",
    "    f = write(\"funtest.txt\" , 'w')\n",
    "    f.write(\"this is my msg\")\n",
    "    f.close()\n",
    "except Exception as e :\n",
    "    print(\"there is some issue with my code \", e)"
   ]
  },
  {
   "cell_type": "markdown",
   "id": "06f6f4e3",
   "metadata": {},
   "source": [
    "now to try block we can also add else block which runs only when code in try block is successful"
   ]
  },
  {
   "cell_type": "code",
   "execution_count": 8,
   "id": "819fec80",
   "metadata": {},
   "outputs": [
    {
     "name": "stdout",
     "output_type": "stream",
     "text": [
      "this block will execute once try will sucessfully execute itself without an exception\n"
     ]
    }
   ],
   "source": [
    "try:\n",
    "    f = open(\"funtest2.txt\" , 'w')\n",
    "    f.write(\"this is my msg\")\n",
    "\n",
    "except Exception as e :\n",
    "    print(\"there is some issue with my code \", e)\n",
    "else : \n",
    "        f.close()\n",
    "        print(\"this block will execute once try will sucessfully execute itself without an exception\")"
   ]
  },
  {
   "cell_type": "code",
   "execution_count": 9,
   "id": "8da8ee21",
   "metadata": {},
   "outputs": [
    {
     "name": "stdout",
     "output_type": "stream",
     "text": [
      "there is some issue with my code  [Errno 2] No such file or directory: 'funtest3.txt'\n"
     ]
    }
   ],
   "source": [
    "try:\n",
    "    f = open(\"funtest3.txt\" , 'r')\n",
    "    f.write(\"this is my msg\")\n",
    "\n",
    "except Exception as e :\n",
    "    print(\"there is some issue with my code \", e)\n",
    "else : \n",
    "        f.close()\n",
    "        print(\"this block will execute once try will execute itself without an exception\")"
   ]
  },
  {
   "cell_type": "code",
   "execution_count": null,
   "id": "60c1f799",
   "metadata": {},
   "outputs": [],
   "source": []
  },
  {
   "cell_type": "markdown",
   "id": "13b80ec0",
   "metadata": {},
   "source": [
    "now we will see about finally block, finally block always tries to execute itself"
   ]
  },
  {
   "cell_type": "code",
   "execution_count": 10,
   "id": "0ceb8857",
   "metadata": {},
   "outputs": [
    {
     "name": "stdout",
     "output_type": "stream",
     "text": [
      "this will always execute\n"
     ]
    },
    {
     "ename": "FileNotFoundError",
     "evalue": "[Errno 2] No such file or directory: 'test1.txt'",
     "output_type": "error",
     "traceback": [
      "\u001b[1;31m---------------------------------------------------------------------------\u001b[0m",
      "\u001b[1;31mFileNotFoundError\u001b[0m                         Traceback (most recent call last)",
      "Input \u001b[1;32mIn [10]\u001b[0m, in \u001b[0;36m<cell line: 1>\u001b[1;34m()\u001b[0m\n\u001b[0;32m      1\u001b[0m \u001b[38;5;28;01mtry\u001b[39;00m:\n\u001b[1;32m----> 2\u001b[0m     f \u001b[38;5;241m=\u001b[39m \u001b[38;5;28;43mopen\u001b[39;49m\u001b[43m(\u001b[49m\u001b[38;5;124;43m\"\u001b[39;49m\u001b[38;5;124;43mtest1.txt\u001b[39;49m\u001b[38;5;124;43m\"\u001b[39;49m\u001b[43m \u001b[49m\u001b[43m,\u001b[49m\u001b[43m \u001b[49m\u001b[38;5;124;43m'\u001b[39;49m\u001b[38;5;124;43mr\u001b[39;49m\u001b[38;5;124;43m'\u001b[39;49m\u001b[43m)\u001b[49m\n\u001b[0;32m      3\u001b[0m     f\u001b[38;5;241m.\u001b[39mwrite(\u001b[38;5;124m\"\u001b[39m\u001b[38;5;124mthis is my msg\u001b[39m\u001b[38;5;124m\"\u001b[39m)\n\u001b[0;32m      4\u001b[0m \u001b[38;5;28;01mfinally\u001b[39;00m :\n",
      "\u001b[1;31mFileNotFoundError\u001b[0m: [Errno 2] No such file or directory: 'test1.txt'"
     ]
    }
   ],
   "source": [
    "try:\n",
    "    f = open(\"test1.txt\" , 'r')\n",
    "    f.write(\"this is my msg\")\n",
    "finally :\n",
    "    print(\"this will always execute\")"
   ]
  },
  {
   "cell_type": "markdown",
   "id": "794828b3",
   "metadata": {},
   "source": [
    "now see the finally block is still executed even though we have not handled the exception "
   ]
  },
  {
   "cell_type": "code",
   "execution_count": 12,
   "id": "69385569",
   "metadata": {},
   "outputs": [
    {
     "name": "stdout",
     "output_type": "stream",
     "text": [
      "there is some issue with my code  [Errno 2] No such file or directory: 'test99.txt'\n",
      "i will execute always \n"
     ]
    }
   ],
   "source": [
    "try:\n",
    "    f = open(\"test99.txt\" , 'r')\n",
    "    f.write(\"this is my msg\")\n",
    "\n",
    "except Exception as e :\n",
    "    print(\"there is some issue with my code \", e)\n",
    "else : \n",
    "        f.close()\n",
    "        print(\"this block will execute once try will execute itself without an exception\")\n",
    "        \n",
    "finally :\n",
    "    \n",
    "    print(\"i will execute always \")"
   ]
  },
  {
   "cell_type": "code",
   "execution_count": 13,
   "id": "ed4a51d6",
   "metadata": {},
   "outputs": [
    {
     "name": "stdout",
     "output_type": "stream",
     "text": [
      "this block will execute once try will execute itself without an exception\n",
      "i will execute always \n"
     ]
    }
   ],
   "source": [
    "try:\n",
    "    f = open(\"test41.txt\" , 'w')\n",
    "    f.write(\"this is my msg\")\n",
    "\n",
    "except Exception as e :\n",
    "    print(\"there is some issue with my code \", e)\n",
    "else : \n",
    "        f.close()\n",
    "        print(\"this block will execute once try will execute itself without an exception\")\n",
    "        \n",
    "finally :\n",
    "    \n",
    "    print(\"i will execute always \")"
   ]
  },
  {
   "cell_type": "markdown",
   "id": "daa0399d",
   "metadata": {},
   "source": [
    "# Custom Exception handling"
   ]
  },
  {
   "cell_type": "code",
   "execution_count": 14,
   "id": "6ed15887",
   "metadata": {},
   "outputs": [
    {
     "name": "stdout",
     "output_type": "stream",
     "text": [
      "enter your age : 26\n"
     ]
    }
   ],
   "source": [
    "age = int(input(\"enter your age : \"))"
   ]
  },
  {
   "cell_type": "markdown",
   "id": "9515f6ec",
   "metadata": {},
   "source": [
    "now if I enter a number like 26 it is valid, but if I enter a negative number or a very large number or then this is will be okay for the system to execute but for my use case it will be invalid. So for this we can try to create our own custom exception"
   ]
  },
  {
   "cell_type": "code",
   "execution_count": 29,
   "id": "be56990c",
   "metadata": {},
   "outputs": [],
   "source": [
    "class validateage :\n",
    "    # we do the inheritance of exception class\n",
    "    def __init__(self,msg):\n",
    "        self.msg = msg"
   ]
  },
  {
   "cell_type": "code",
   "execution_count": 30,
   "id": "e125d5e5",
   "metadata": {},
   "outputs": [],
   "source": [
    "def validate_age(age):\n",
    "    if age<0:\n",
    "        # raise is a reserved keyword used to call your custom class\n",
    "        raise validateage(\"age should not be lesser than 0\")\n",
    "    elif age> 200:\n",
    "        raise validateage(\"age is too high\")\n",
    "    else :\n",
    "        print(\"age is valid\")"
   ]
  },
  {
   "cell_type": "code",
   "execution_count": 31,
   "id": "1eb6b8d5",
   "metadata": {
    "scrolled": true
   },
   "outputs": [
    {
     "name": "stdout",
     "output_type": "stream",
     "text": [
      "enter your age : 99\n",
      "age is valid\n"
     ]
    }
   ],
   "source": [
    "try :\n",
    "    age = int(input(\"enter your age : \"))\n",
    "    validate_age(age)\n",
    "except validateage as e:\n",
    "    print(e)"
   ]
  },
  {
   "cell_type": "markdown",
   "id": "c5528b59",
   "metadata": {},
   "source": [
    "this code will work fine without inheriting exception class"
   ]
  },
  {
   "cell_type": "code",
   "execution_count": 36,
   "id": "9ed1f3cf",
   "metadata": {},
   "outputs": [
    {
     "name": "stdout",
     "output_type": "stream",
     "text": [
      "Result: 5.0\n",
      "Caught an exception: 'Cannot divide by zero!'\n"
     ]
    }
   ],
   "source": [
    "class CustomError(Exception):\n",
    "    def __init__(self, value):\n",
    "        self.value = value\n",
    "\n",
    "    def __str__(self):\n",
    "        return repr(self.value)\n",
    "\n",
    "def divide_numbers(a, b):\n",
    "    if b == 0:\n",
    "        raise CustomError(\"Cannot divide by zero!\")\n",
    "    else:\n",
    "        return a / b\n",
    "\n",
    "try:\n",
    "    result = divide_numbers(10, 2)\n",
    "    print(\"Result:\", result)\n",
    "\n",
    "    result = divide_numbers(5, 0)  # This will raise the CustomError\n",
    "    print(\"Result:\", result)\n",
    "except CustomError as e:\n",
    "    print(\"Caught an exception:\", e)\n"
   ]
  },
  {
   "cell_type": "markdown",
   "id": "45ff256a",
   "metadata": {},
   "source": [
    "error in custom exception classes are random always inherit Exception classes"
   ]
  },
  {
   "cell_type": "markdown",
   "id": "b86b250f",
   "metadata": {},
   "source": [
    "## List of general use exceptions"
   ]
  },
  {
   "cell_type": "code",
   "execution_count": 37,
   "id": "98e1d389",
   "metadata": {},
   "outputs": [
    {
     "name": "stdout",
     "output_type": "stream",
     "text": [
      "division by zero\n"
     ]
    }
   ],
   "source": [
    "try :\n",
    "    a = 10 \n",
    "    10/0\n",
    "except ZeroDivisionError as e :\n",
    "    print(e)"
   ]
  },
  {
   "cell_type": "code",
   "execution_count": 38,
   "id": "702d9618",
   "metadata": {},
   "outputs": [
    {
     "name": "stdout",
     "output_type": "stream",
     "text": [
      "invalid literal for int() with base 10: 'god'\n"
     ]
    }
   ],
   "source": [
    "try:\n",
    "    int(\"god\")\n",
    "except (ValueError,TypeError) as e:\n",
    "    print(e)"
   ]
  },
  {
   "cell_type": "code",
   "execution_count": 40,
   "id": "cfe2edf5",
   "metadata": {},
   "outputs": [
    {
     "name": "stdout",
     "output_type": "stream",
     "text": [
      "this will catch an error\n"
     ]
    }
   ],
   "source": [
    "try :\n",
    "    int(\"sudh\")\n",
    "except  :\n",
    "    print(\"this will catch an error\")\n",
    "    #prinying as i don't know what error it is"
   ]
  },
  {
   "cell_type": "code",
   "execution_count": 41,
   "id": "de7afbe1",
   "metadata": {},
   "outputs": [
    {
     "name": "stdout",
     "output_type": "stream",
     "text": [
      "No module named 'ghee'\n"
     ]
    }
   ],
   "source": [
    "try :\n",
    "    import ghee\n",
    "except ImportError as e : \n",
    "    print(e)"
   ]
  },
  {
   "cell_type": "code",
   "execution_count": 42,
   "id": "7bae5519",
   "metadata": {},
   "outputs": [
    {
     "name": "stdout",
     "output_type": "stream",
     "text": [
      "list index out of range\n"
     ]
    }
   ],
   "source": [
    "try :\n",
    "    l = [1,2,3,3]\n",
    "    l[10]\n",
    "except IndexError as e :\n",
    "    print(e)"
   ]
  },
  {
   "cell_type": "code",
   "execution_count": 43,
   "id": "62a76c7c",
   "metadata": {},
   "outputs": [
    {
     "name": "stdout",
     "output_type": "stream",
     "text": [
      "unsupported operand type(s) for +: 'int' and 'str'\n"
     ]
    }
   ],
   "source": [
    "try :\n",
    "    123 + \"sudh\"\n",
    "except TypeError as e :\n",
    "    print(e)"
   ]
  },
  {
   "cell_type": "code",
   "execution_count": 47,
   "id": "f5d300fd",
   "metadata": {},
   "outputs": [
    {
     "name": "stdout",
     "output_type": "stream",
     "text": [
      "'key22'\n"
     ]
    }
   ],
   "source": [
    " try :\n",
    "    d = {1: [3,4,5,6] , \"key\" :\"sudh\"}\n",
    "    d[\"key22\"]\n",
    "except KeyError as e : \n",
    "    print(e)\n"
   ]
  },
  {
   "cell_type": "code",
   "execution_count": 48,
   "id": "e3373086",
   "metadata": {},
   "outputs": [
    {
     "ename": "KeyError",
     "evalue": "'key22'",
     "output_type": "error",
     "traceback": [
      "\u001b[1;31m---------------------------------------------------------------------------\u001b[0m",
      "\u001b[1;31mKeyError\u001b[0m                                  Traceback (most recent call last)",
      "Input \u001b[1;32mIn [48]\u001b[0m, in \u001b[0;36m<cell line: 2>\u001b[1;34m()\u001b[0m\n\u001b[0;32m      1\u001b[0m d \u001b[38;5;241m=\u001b[39m {\u001b[38;5;241m1\u001b[39m: [\u001b[38;5;241m3\u001b[39m,\u001b[38;5;241m4\u001b[39m,\u001b[38;5;241m5\u001b[39m,\u001b[38;5;241m6\u001b[39m] , \u001b[38;5;124m\"\u001b[39m\u001b[38;5;124mkey\u001b[39m\u001b[38;5;124m\"\u001b[39m :\u001b[38;5;124m\"\u001b[39m\u001b[38;5;124msudh\u001b[39m\u001b[38;5;124m\"\u001b[39m}\n\u001b[1;32m----> 2\u001b[0m \u001b[43md\u001b[49m\u001b[43m[\u001b[49m\u001b[38;5;124;43m\"\u001b[39;49m\u001b[38;5;124;43mkey22\u001b[39;49m\u001b[38;5;124;43m\"\u001b[39;49m\u001b[43m]\u001b[49m\n",
      "\u001b[1;31mKeyError\u001b[0m: 'key22'"
     ]
    }
   ],
   "source": [
    "d = {1: [3,4,5,6] , \"key\" :\"sudh\"}\n",
    "d[\"key22\"]"
   ]
  },
  {
   "cell_type": "code",
   "execution_count": null,
   "id": "3830ac60",
   "metadata": {},
   "outputs": [],
   "source": []
  }
 ],
 "metadata": {
  "kernelspec": {
   "display_name": "Python 3 (ipykernel)",
   "language": "python",
   "name": "python3"
  },
  "language_info": {
   "codemirror_mode": {
    "name": "ipython",
    "version": 3
   },
   "file_extension": ".py",
   "mimetype": "text/x-python",
   "name": "python",
   "nbconvert_exporter": "python",
   "pygments_lexer": "ipython3",
   "version": "3.9.12"
  }
 },
 "nbformat": 4,
 "nbformat_minor": 5
}
